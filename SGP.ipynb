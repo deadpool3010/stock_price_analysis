{
  "nbformat": 4,
  "nbformat_minor": 0,
  "metadata": {
    "colab": {
      "provenance": []
    },
    "kernelspec": {
      "name": "python3",
      "display_name": "Python 3"
    },
    "language_info": {
      "name": "python"
    }
  },
  "cells": [
    {
      "cell_type": "code",
      "execution_count": null,
      "metadata": {
        "id": "Y8GUSa8eJWpv"
      },
      "outputs": [],
      "source": [
        "import pandas_datareader as pdr\n",
        "import pandas as pd\n",
        "# k = \"1dceb00b00eba08f93b9440b08f94bac5f21583b\""
      ]
    },
    {
      "cell_type": "code",
      "source": [
        "# data  = pdr.get_data_tiingo('RYSOX',api_key=k)\n",
        "# data.to_csv('/content/sample_data/S&P.csv')\n",
        "data = pd.read_csv('/content/sample_data/S&P.csv')\n",
        "data"
      ],
      "metadata": {
        "colab": {
          "base_uri": "https://localhost:8080/",
          "height": 423
        },
        "id": "X29Xb-nuMbTG",
        "outputId": "5c554d2d-3c08-4c5e-af9e-b2b89e7848b9"
      },
      "execution_count": null,
      "outputs": [
        {
          "output_type": "execute_result",
          "data": {
            "text/plain": [
              "     symbol                       date  close   high    low   open  volume  \\\n",
              "0     RYSOX  2018-09-18 00:00:00+00:00  53.64  53.64  53.64  53.64       0   \n",
              "1     RYSOX  2018-09-19 00:00:00+00:00  53.71  53.71  53.71  53.71       0   \n",
              "2     RYSOX  2018-09-20 00:00:00+00:00  54.13  54.13  54.13  54.13       0   \n",
              "3     RYSOX  2018-09-21 00:00:00+00:00  54.10  54.10  54.10  54.10       0   \n",
              "4     RYSOX  2018-09-24 00:00:00+00:00  53.91  53.91  53.91  53.91       0   \n",
              "...     ...                        ...    ...    ...    ...    ...     ...   \n",
              "1252  RYSOX  2023-09-11 00:00:00+00:00  69.37  69.37  69.37  69.37       0   \n",
              "1253  RYSOX  2023-09-12 00:00:00+00:00  68.97  68.97  68.97  68.97       0   \n",
              "1254  RYSOX  2023-09-13 00:00:00+00:00  69.06  69.06  69.06  69.06       0   \n",
              "1255  RYSOX  2023-09-14 00:00:00+00:00  69.65  69.65  69.65  69.65       0   \n",
              "1256  RYSOX  2023-09-15 00:00:00+00:00  68.80  68.80  68.80  68.80       0   \n",
              "\n",
              "       adjClose    adjHigh     adjLow    adjOpen  adjVolume  divCash  \\\n",
              "0     44.903724  44.903724  44.903724  44.903724          0      0.0   \n",
              "1     44.962323  44.962323  44.962323  44.962323          0      0.0   \n",
              "2     45.313918  45.313918  45.313918  45.313918          0      0.0   \n",
              "3     45.288804  45.288804  45.288804  45.288804          0      0.0   \n",
              "4     45.129749  45.129749  45.129749  45.129749          0      0.0   \n",
              "...         ...        ...        ...        ...        ...      ...   \n",
              "1252  69.370000  69.370000  69.370000  69.370000          0      0.0   \n",
              "1253  68.970000  68.970000  68.970000  68.970000          0      0.0   \n",
              "1254  69.060000  69.060000  69.060000  69.060000          0      0.0   \n",
              "1255  69.650000  69.650000  69.650000  69.650000          0      0.0   \n",
              "1256  68.800000  68.800000  68.800000  68.800000          0      0.0   \n",
              "\n",
              "      splitFactor  \n",
              "0             1.0  \n",
              "1             1.0  \n",
              "2             1.0  \n",
              "3             1.0  \n",
              "4             1.0  \n",
              "...           ...  \n",
              "1252          1.0  \n",
              "1253          1.0  \n",
              "1254          1.0  \n",
              "1255          1.0  \n",
              "1256          1.0  \n",
              "\n",
              "[1257 rows x 14 columns]"
            ],
            "text/html": [
              "\n",
              "  <div id=\"df-6cb43f45-0306-4075-98a1-78d12c77c713\" class=\"colab-df-container\">\n",
              "    <div>\n",
              "<style scoped>\n",
              "    .dataframe tbody tr th:only-of-type {\n",
              "        vertical-align: middle;\n",
              "    }\n",
              "\n",
              "    .dataframe tbody tr th {\n",
              "        vertical-align: top;\n",
              "    }\n",
              "\n",
              "    .dataframe thead th {\n",
              "        text-align: right;\n",
              "    }\n",
              "</style>\n",
              "<table border=\"1\" class=\"dataframe\">\n",
              "  <thead>\n",
              "    <tr style=\"text-align: right;\">\n",
              "      <th></th>\n",
              "      <th>symbol</th>\n",
              "      <th>date</th>\n",
              "      <th>close</th>\n",
              "      <th>high</th>\n",
              "      <th>low</th>\n",
              "      <th>open</th>\n",
              "      <th>volume</th>\n",
              "      <th>adjClose</th>\n",
              "      <th>adjHigh</th>\n",
              "      <th>adjLow</th>\n",
              "      <th>adjOpen</th>\n",
              "      <th>adjVolume</th>\n",
              "      <th>divCash</th>\n",
              "      <th>splitFactor</th>\n",
              "    </tr>\n",
              "  </thead>\n",
              "  <tbody>\n",
              "    <tr>\n",
              "      <th>0</th>\n",
              "      <td>RYSOX</td>\n",
              "      <td>2018-09-18 00:00:00+00:00</td>\n",
              "      <td>53.64</td>\n",
              "      <td>53.64</td>\n",
              "      <td>53.64</td>\n",
              "      <td>53.64</td>\n",
              "      <td>0</td>\n",
              "      <td>44.903724</td>\n",
              "      <td>44.903724</td>\n",
              "      <td>44.903724</td>\n",
              "      <td>44.903724</td>\n",
              "      <td>0</td>\n",
              "      <td>0.0</td>\n",
              "      <td>1.0</td>\n",
              "    </tr>\n",
              "    <tr>\n",
              "      <th>1</th>\n",
              "      <td>RYSOX</td>\n",
              "      <td>2018-09-19 00:00:00+00:00</td>\n",
              "      <td>53.71</td>\n",
              "      <td>53.71</td>\n",
              "      <td>53.71</td>\n",
              "      <td>53.71</td>\n",
              "      <td>0</td>\n",
              "      <td>44.962323</td>\n",
              "      <td>44.962323</td>\n",
              "      <td>44.962323</td>\n",
              "      <td>44.962323</td>\n",
              "      <td>0</td>\n",
              "      <td>0.0</td>\n",
              "      <td>1.0</td>\n",
              "    </tr>\n",
              "    <tr>\n",
              "      <th>2</th>\n",
              "      <td>RYSOX</td>\n",
              "      <td>2018-09-20 00:00:00+00:00</td>\n",
              "      <td>54.13</td>\n",
              "      <td>54.13</td>\n",
              "      <td>54.13</td>\n",
              "      <td>54.13</td>\n",
              "      <td>0</td>\n",
              "      <td>45.313918</td>\n",
              "      <td>45.313918</td>\n",
              "      <td>45.313918</td>\n",
              "      <td>45.313918</td>\n",
              "      <td>0</td>\n",
              "      <td>0.0</td>\n",
              "      <td>1.0</td>\n",
              "    </tr>\n",
              "    <tr>\n",
              "      <th>3</th>\n",
              "      <td>RYSOX</td>\n",
              "      <td>2018-09-21 00:00:00+00:00</td>\n",
              "      <td>54.10</td>\n",
              "      <td>54.10</td>\n",
              "      <td>54.10</td>\n",
              "      <td>54.10</td>\n",
              "      <td>0</td>\n",
              "      <td>45.288804</td>\n",
              "      <td>45.288804</td>\n",
              "      <td>45.288804</td>\n",
              "      <td>45.288804</td>\n",
              "      <td>0</td>\n",
              "      <td>0.0</td>\n",
              "      <td>1.0</td>\n",
              "    </tr>\n",
              "    <tr>\n",
              "      <th>4</th>\n",
              "      <td>RYSOX</td>\n",
              "      <td>2018-09-24 00:00:00+00:00</td>\n",
              "      <td>53.91</td>\n",
              "      <td>53.91</td>\n",
              "      <td>53.91</td>\n",
              "      <td>53.91</td>\n",
              "      <td>0</td>\n",
              "      <td>45.129749</td>\n",
              "      <td>45.129749</td>\n",
              "      <td>45.129749</td>\n",
              "      <td>45.129749</td>\n",
              "      <td>0</td>\n",
              "      <td>0.0</td>\n",
              "      <td>1.0</td>\n",
              "    </tr>\n",
              "    <tr>\n",
              "      <th>...</th>\n",
              "      <td>...</td>\n",
              "      <td>...</td>\n",
              "      <td>...</td>\n",
              "      <td>...</td>\n",
              "      <td>...</td>\n",
              "      <td>...</td>\n",
              "      <td>...</td>\n",
              "      <td>...</td>\n",
              "      <td>...</td>\n",
              "      <td>...</td>\n",
              "      <td>...</td>\n",
              "      <td>...</td>\n",
              "      <td>...</td>\n",
              "      <td>...</td>\n",
              "    </tr>\n",
              "    <tr>\n",
              "      <th>1252</th>\n",
              "      <td>RYSOX</td>\n",
              "      <td>2023-09-11 00:00:00+00:00</td>\n",
              "      <td>69.37</td>\n",
              "      <td>69.37</td>\n",
              "      <td>69.37</td>\n",
              "      <td>69.37</td>\n",
              "      <td>0</td>\n",
              "      <td>69.370000</td>\n",
              "      <td>69.370000</td>\n",
              "      <td>69.370000</td>\n",
              "      <td>69.370000</td>\n",
              "      <td>0</td>\n",
              "      <td>0.0</td>\n",
              "      <td>1.0</td>\n",
              "    </tr>\n",
              "    <tr>\n",
              "      <th>1253</th>\n",
              "      <td>RYSOX</td>\n",
              "      <td>2023-09-12 00:00:00+00:00</td>\n",
              "      <td>68.97</td>\n",
              "      <td>68.97</td>\n",
              "      <td>68.97</td>\n",
              "      <td>68.97</td>\n",
              "      <td>0</td>\n",
              "      <td>68.970000</td>\n",
              "      <td>68.970000</td>\n",
              "      <td>68.970000</td>\n",
              "      <td>68.970000</td>\n",
              "      <td>0</td>\n",
              "      <td>0.0</td>\n",
              "      <td>1.0</td>\n",
              "    </tr>\n",
              "    <tr>\n",
              "      <th>1254</th>\n",
              "      <td>RYSOX</td>\n",
              "      <td>2023-09-13 00:00:00+00:00</td>\n",
              "      <td>69.06</td>\n",
              "      <td>69.06</td>\n",
              "      <td>69.06</td>\n",
              "      <td>69.06</td>\n",
              "      <td>0</td>\n",
              "      <td>69.060000</td>\n",
              "      <td>69.060000</td>\n",
              "      <td>69.060000</td>\n",
              "      <td>69.060000</td>\n",
              "      <td>0</td>\n",
              "      <td>0.0</td>\n",
              "      <td>1.0</td>\n",
              "    </tr>\n",
              "    <tr>\n",
              "      <th>1255</th>\n",
              "      <td>RYSOX</td>\n",
              "      <td>2023-09-14 00:00:00+00:00</td>\n",
              "      <td>69.65</td>\n",
              "      <td>69.65</td>\n",
              "      <td>69.65</td>\n",
              "      <td>69.65</td>\n",
              "      <td>0</td>\n",
              "      <td>69.650000</td>\n",
              "      <td>69.650000</td>\n",
              "      <td>69.650000</td>\n",
              "      <td>69.650000</td>\n",
              "      <td>0</td>\n",
              "      <td>0.0</td>\n",
              "      <td>1.0</td>\n",
              "    </tr>\n",
              "    <tr>\n",
              "      <th>1256</th>\n",
              "      <td>RYSOX</td>\n",
              "      <td>2023-09-15 00:00:00+00:00</td>\n",
              "      <td>68.80</td>\n",
              "      <td>68.80</td>\n",
              "      <td>68.80</td>\n",
              "      <td>68.80</td>\n",
              "      <td>0</td>\n",
              "      <td>68.800000</td>\n",
              "      <td>68.800000</td>\n",
              "      <td>68.800000</td>\n",
              "      <td>68.800000</td>\n",
              "      <td>0</td>\n",
              "      <td>0.0</td>\n",
              "      <td>1.0</td>\n",
              "    </tr>\n",
              "  </tbody>\n",
              "</table>\n",
              "<p>1257 rows × 14 columns</p>\n",
              "</div>\n",
              "    <div class=\"colab-df-buttons\">\n",
              "\n",
              "  <div class=\"colab-df-container\">\n",
              "    <button class=\"colab-df-convert\" onclick=\"convertToInteractive('df-6cb43f45-0306-4075-98a1-78d12c77c713')\"\n",
              "            title=\"Convert this dataframe to an interactive table.\"\n",
              "            style=\"display:none;\">\n",
              "\n",
              "  <svg xmlns=\"http://www.w3.org/2000/svg\" height=\"24px\" viewBox=\"0 -960 960 960\">\n",
              "    <path d=\"M120-120v-720h720v720H120Zm60-500h600v-160H180v160Zm220 220h160v-160H400v160Zm0 220h160v-160H400v160ZM180-400h160v-160H180v160Zm440 0h160v-160H620v160ZM180-180h160v-160H180v160Zm440 0h160v-160H620v160Z\"/>\n",
              "  </svg>\n",
              "    </button>\n",
              "\n",
              "  <style>\n",
              "    .colab-df-container {\n",
              "      display:flex;\n",
              "      gap: 12px;\n",
              "    }\n",
              "\n",
              "    .colab-df-convert {\n",
              "      background-color: #E8F0FE;\n",
              "      border: none;\n",
              "      border-radius: 50%;\n",
              "      cursor: pointer;\n",
              "      display: none;\n",
              "      fill: #1967D2;\n",
              "      height: 32px;\n",
              "      padding: 0 0 0 0;\n",
              "      width: 32px;\n",
              "    }\n",
              "\n",
              "    .colab-df-convert:hover {\n",
              "      background-color: #E2EBFA;\n",
              "      box-shadow: 0px 1px 2px rgba(60, 64, 67, 0.3), 0px 1px 3px 1px rgba(60, 64, 67, 0.15);\n",
              "      fill: #174EA6;\n",
              "    }\n",
              "\n",
              "    .colab-df-buttons div {\n",
              "      margin-bottom: 4px;\n",
              "    }\n",
              "\n",
              "    [theme=dark] .colab-df-convert {\n",
              "      background-color: #3B4455;\n",
              "      fill: #D2E3FC;\n",
              "    }\n",
              "\n",
              "    [theme=dark] .colab-df-convert:hover {\n",
              "      background-color: #434B5C;\n",
              "      box-shadow: 0px 1px 3px 1px rgba(0, 0, 0, 0.15);\n",
              "      filter: drop-shadow(0px 1px 2px rgba(0, 0, 0, 0.3));\n",
              "      fill: #FFFFFF;\n",
              "    }\n",
              "  </style>\n",
              "\n",
              "    <script>\n",
              "      const buttonEl =\n",
              "        document.querySelector('#df-6cb43f45-0306-4075-98a1-78d12c77c713 button.colab-df-convert');\n",
              "      buttonEl.style.display =\n",
              "        google.colab.kernel.accessAllowed ? 'block' : 'none';\n",
              "\n",
              "      async function convertToInteractive(key) {\n",
              "        const element = document.querySelector('#df-6cb43f45-0306-4075-98a1-78d12c77c713');\n",
              "        const dataTable =\n",
              "          await google.colab.kernel.invokeFunction('convertToInteractive',\n",
              "                                                    [key], {});\n",
              "        if (!dataTable) return;\n",
              "\n",
              "        const docLinkHtml = 'Like what you see? Visit the ' +\n",
              "          '<a target=\"_blank\" href=https://colab.research.google.com/notebooks/data_table.ipynb>data table notebook</a>'\n",
              "          + ' to learn more about interactive tables.';\n",
              "        element.innerHTML = '';\n",
              "        dataTable['output_type'] = 'display_data';\n",
              "        await google.colab.output.renderOutput(dataTable, element);\n",
              "        const docLink = document.createElement('div');\n",
              "        docLink.innerHTML = docLinkHtml;\n",
              "        element.appendChild(docLink);\n",
              "      }\n",
              "    </script>\n",
              "  </div>\n",
              "\n",
              "\n",
              "<div id=\"df-7ca579cc-b963-425b-85dd-722abe1f956e\">\n",
              "  <button class=\"colab-df-quickchart\" onclick=\"quickchart('df-7ca579cc-b963-425b-85dd-722abe1f956e')\"\n",
              "            title=\"Suggest charts.\"\n",
              "            style=\"display:none;\">\n",
              "\n",
              "<svg xmlns=\"http://www.w3.org/2000/svg\" height=\"24px\"viewBox=\"0 0 24 24\"\n",
              "     width=\"24px\">\n",
              "    <g>\n",
              "        <path d=\"M19 3H5c-1.1 0-2 .9-2 2v14c0 1.1.9 2 2 2h14c1.1 0 2-.9 2-2V5c0-1.1-.9-2-2-2zM9 17H7v-7h2v7zm4 0h-2V7h2v10zm4 0h-2v-4h2v4z\"/>\n",
              "    </g>\n",
              "</svg>\n",
              "  </button>\n",
              "\n",
              "<style>\n",
              "  .colab-df-quickchart {\n",
              "      --bg-color: #E8F0FE;\n",
              "      --fill-color: #1967D2;\n",
              "      --hover-bg-color: #E2EBFA;\n",
              "      --hover-fill-color: #174EA6;\n",
              "      --disabled-fill-color: #AAA;\n",
              "      --disabled-bg-color: #DDD;\n",
              "  }\n",
              "\n",
              "  [theme=dark] .colab-df-quickchart {\n",
              "      --bg-color: #3B4455;\n",
              "      --fill-color: #D2E3FC;\n",
              "      --hover-bg-color: #434B5C;\n",
              "      --hover-fill-color: #FFFFFF;\n",
              "      --disabled-bg-color: #3B4455;\n",
              "      --disabled-fill-color: #666;\n",
              "  }\n",
              "\n",
              "  .colab-df-quickchart {\n",
              "    background-color: var(--bg-color);\n",
              "    border: none;\n",
              "    border-radius: 50%;\n",
              "    cursor: pointer;\n",
              "    display: none;\n",
              "    fill: var(--fill-color);\n",
              "    height: 32px;\n",
              "    padding: 0;\n",
              "    width: 32px;\n",
              "  }\n",
              "\n",
              "  .colab-df-quickchart:hover {\n",
              "    background-color: var(--hover-bg-color);\n",
              "    box-shadow: 0 1px 2px rgba(60, 64, 67, 0.3), 0 1px 3px 1px rgba(60, 64, 67, 0.15);\n",
              "    fill: var(--button-hover-fill-color);\n",
              "  }\n",
              "\n",
              "  .colab-df-quickchart-complete:disabled,\n",
              "  .colab-df-quickchart-complete:disabled:hover {\n",
              "    background-color: var(--disabled-bg-color);\n",
              "    fill: var(--disabled-fill-color);\n",
              "    box-shadow: none;\n",
              "  }\n",
              "\n",
              "  .colab-df-spinner {\n",
              "    border: 2px solid var(--fill-color);\n",
              "    border-color: transparent;\n",
              "    border-bottom-color: var(--fill-color);\n",
              "    animation:\n",
              "      spin 1s steps(1) infinite;\n",
              "  }\n",
              "\n",
              "  @keyframes spin {\n",
              "    0% {\n",
              "      border-color: transparent;\n",
              "      border-bottom-color: var(--fill-color);\n",
              "      border-left-color: var(--fill-color);\n",
              "    }\n",
              "    20% {\n",
              "      border-color: transparent;\n",
              "      border-left-color: var(--fill-color);\n",
              "      border-top-color: var(--fill-color);\n",
              "    }\n",
              "    30% {\n",
              "      border-color: transparent;\n",
              "      border-left-color: var(--fill-color);\n",
              "      border-top-color: var(--fill-color);\n",
              "      border-right-color: var(--fill-color);\n",
              "    }\n",
              "    40% {\n",
              "      border-color: transparent;\n",
              "      border-right-color: var(--fill-color);\n",
              "      border-top-color: var(--fill-color);\n",
              "    }\n",
              "    60% {\n",
              "      border-color: transparent;\n",
              "      border-right-color: var(--fill-color);\n",
              "    }\n",
              "    80% {\n",
              "      border-color: transparent;\n",
              "      border-right-color: var(--fill-color);\n",
              "      border-bottom-color: var(--fill-color);\n",
              "    }\n",
              "    90% {\n",
              "      border-color: transparent;\n",
              "      border-bottom-color: var(--fill-color);\n",
              "    }\n",
              "  }\n",
              "</style>\n",
              "\n",
              "  <script>\n",
              "    async function quickchart(key) {\n",
              "      const quickchartButtonEl =\n",
              "        document.querySelector('#' + key + ' button');\n",
              "      quickchartButtonEl.disabled = true;  // To prevent multiple clicks.\n",
              "      quickchartButtonEl.classList.add('colab-df-spinner');\n",
              "      try {\n",
              "        const charts = await google.colab.kernel.invokeFunction(\n",
              "            'suggestCharts', [key], {});\n",
              "      } catch (error) {\n",
              "        console.error('Error during call to suggestCharts:', error);\n",
              "      }\n",
              "      quickchartButtonEl.classList.remove('colab-df-spinner');\n",
              "      quickchartButtonEl.classList.add('colab-df-quickchart-complete');\n",
              "    }\n",
              "    (() => {\n",
              "      let quickchartButtonEl =\n",
              "        document.querySelector('#df-7ca579cc-b963-425b-85dd-722abe1f956e button');\n",
              "      quickchartButtonEl.style.display =\n",
              "        google.colab.kernel.accessAllowed ? 'block' : 'none';\n",
              "    })();\n",
              "  </script>\n",
              "</div>\n",
              "    </div>\n",
              "  </div>\n"
            ]
          },
          "metadata": {},
          "execution_count": 91
        }
      ]
    },
    {
      "cell_type": "code",
      "source": [
        "df1 = data.reset_index()['close']\n",
        "df1"
      ],
      "metadata": {
        "id": "lfXBOrdeMrpd",
        "colab": {
          "base_uri": "https://localhost:8080/"
        },
        "outputId": "4cf286ea-5b10-4b53-e9cf-2afbc1331179"
      },
      "execution_count": null,
      "outputs": [
        {
          "output_type": "execute_result",
          "data": {
            "text/plain": [
              "0       53.64\n",
              "1       53.71\n",
              "2       54.13\n",
              "3       54.10\n",
              "4       53.91\n",
              "        ...  \n",
              "1252    69.37\n",
              "1253    68.97\n",
              "1254    69.06\n",
              "1255    69.65\n",
              "1256    68.80\n",
              "Name: close, Length: 1257, dtype: float64"
            ]
          },
          "metadata": {},
          "execution_count": 92
        }
      ]
    },
    {
      "cell_type": "code",
      "source": [
        "import matplotlib.pyplot as plt"
      ],
      "metadata": {
        "id": "Wm2vZayxNzdH"
      },
      "execution_count": null,
      "outputs": []
    },
    {
      "cell_type": "code",
      "source": [
        "plt.plot(df1)"
      ],
      "metadata": {
        "colab": {
          "base_uri": "https://localhost:8080/",
          "height": 447
        },
        "id": "ylmq-giUNthk",
        "outputId": "4a910e03-ea9b-4141-c7de-5afd98ebfc9f"
      },
      "execution_count": null,
      "outputs": [
        {
          "output_type": "execute_result",
          "data": {
            "text/plain": [
              "[<matplotlib.lines.Line2D at 0x7ad3c0ebc6a0>]"
            ]
          },
          "metadata": {},
          "execution_count": 94
        },
        {
          "output_type": "display_data",
          "data": {
            "text/plain": [
              "<Figure size 640x480 with 1 Axes>"
            ],
            "image/png": "[encoded data removed]"
          },
          "metadata": {}
        }
      ]
    },
    {
      "cell_type": "code",
      "source": [
        "import numpy as np"
      ],
      "metadata": {
        "id": "g17qawmGNKXH"
      },
      "execution_count": null,
      "outputs": []
    },
    {
      "cell_type": "code",
      "source": [
        "from sklearn.preprocessing import MinMaxScaler ##Lstm Sensitive to scale of data\n",
        "scaler = MinMaxScaler(feature_range=(0,1)) ## values b/w 0 to 1\n",
        "df1 = scaler.fit_transform(np.array(df1).reshape(-1,1))\n",
        "df1.shape"
      ],
      "metadata": {
        "colab": {
          "base_uri": "https://localhost:8080/"
        },
        "id": "N_A96yfUOQkj",
        "outputId": "839bc8ae-8f75-4606-eeaf-07d992d67728"
      },
      "execution_count": null,
      "outputs": [
        {
          "output_type": "execute_result",
          "data": {
            "text/plain": [
              "(1257, 1)"
            ]
          },
          "metadata": {},
          "execution_count": 96
        }
      ]
    },
    {
      "cell_type": "code",
      "source": [
        "# train data and test data allocation\n",
        "\n",
        "training_size=int(len(df1)*0.80)\n",
        "test_size=len(df1)-training_size\n",
        "train_data,test_data=df1[0:training_size,:],df1[training_size:len(df1),:1]"
      ],
      "metadata": {
        "id": "SLqX0LAJORFq"
      },
      "execution_count": null,
      "outputs": []
    },
    {
      "cell_type": "code",
      "source": [
        "training_size,test_size"
      ],
      "metadata": {
        "colab": {
          "base_uri": "https://localhost:8080/"
        },
        "id": "i2YrPnMJOrMq",
        "outputId": "6e5a3a10-cbd3-461d-c041-6591d43f82a7"
      },
      "execution_count": null,
      "outputs": [
        {
          "output_type": "execute_result",
          "data": {
            "text/plain": [
              "(1005, 252)"
            ]
          },
          "metadata": {},
          "execution_count": 98
        }
      ]
    },
    {
      "cell_type": "code",
      "source": [
        "import numpy\n",
        "# convert an array of values into a dataset matrix\n",
        "def create_dataset(dataset, time_step=1):\n",
        "\tdataX, dataY = [], []\n",
        "\tfor i in range(len(dataset)-time_step-1):\n",
        "\t\ta = dataset[i:(i+time_step), 0]   ###i=0, 0,1,2,3-----99   100\n",
        "\t\tdataX.append(a)\n",
        "\t\tdataY.append(dataset[i + time_step, 0])\n",
        "\treturn numpy.array(dataX), numpy.array(dataY)"
      ],
      "metadata": {
        "id": "-mFRAHrfO0QJ"
      },
      "execution_count": null,
      "outputs": []
    },
    {
      "cell_type": "code",
      "source": [
        "time_step = 100\n",
        "X_train, y_train = create_dataset(train_data, time_step)\n",
        "X_test, ytest = create_dataset(test_data, time_step)"
      ],
      "metadata": {
        "id": "oJ_CxrvMP-_r"
      },
      "execution_count": null,
      "outputs": []
    },
    {
      "cell_type": "code",
      "source": [
        "print(X_test.shape)\n",
        "print(ytest.shape)"
      ],
      "metadata": {
        "colab": {
          "base_uri": "https://localhost:8080/"
        },
        "id": "Plq8-5pHQC7a",
        "outputId": "4d37ad36-5e24-498c-997b-08a5c748e99a"
      },
      "execution_count": null,
      "outputs": [
        {
          "output_type": "stream",
          "name": "stdout",
          "text": [
            "(151, 100)\n",
            "(151,)\n"
          ]
        }
      ]
    },
    {
      "cell_type": "code",
      "source": [
        "# reshape input to be [samples, time steps, features] which is required for LSTM\n",
        "X_train =X_train.reshape(X_train.shape[0],X_train.shape[1] , 1)\n",
        "X_test = X_test.reshape(X_test.shape[0],X_test.shape[1] , 1)"
      ],
      "metadata": {
        "id": "8DOmr9P9QJdI"
      },
      "execution_count": null,
      "outputs": []
    },
    {
      "cell_type": "code",
      "source": [
        "from tensorflow.keras.models import Sequential\n",
        "from tensorflow.keras.layers import Dense,LSTM"
      ],
      "metadata": {
        "id": "542apGzsQ4oy"
      },
      "execution_count": null,
      "outputs": []
    },
    {
      "cell_type": "code",
      "source": [
        "model=Sequential()\n",
        "model.add(LSTM(50,return_sequences=True,input_shape=(100,1)))\n",
        "model.add(LSTM(50,return_sequences=True))\n",
        "model.add(LSTM(50))\n",
        "model.add(Dense(1))\n",
        "model.compile(loss='mean_squared_error',optimizer='adam')"
      ],
      "metadata": {
        "id": "F63L1mbPQ6x_"
      },
      "execution_count": null,
      "outputs": []
    },
    {
      "cell_type": "code",
      "source": [
        "model.summary()"
      ],
      "metadata": {
        "colab": {
          "base_uri": "https://localhost:8080/"
        },
        "id": "iidvyDtVOf60",
        "outputId": "1a3eb673-af57-442a-a066-07a6e7a3ead8"
      },
      "execution_count": null,
      "outputs": [
        {
          "output_type": "stream",
          "name": "stdout",
          "text": [
            "Model: \"sequential_5\"\n",
            "_________________________________________________________________\n",
            " Layer (type)                Output Shape              Param #   \n",
            "=================================================================\n",
            " lstm_14 (LSTM)              (None, 100, 50)           10400     \n",
            "                                                                 \n",
            " lstm_15 (LSTM)              (None, 100, 50)           20200     \n",
            "                                                                 \n",
            " lstm_16 (LSTM)              (None, 50)                20200     \n",
            "                                                                 \n",
            " dense_6 (Dense)             (None, 1)                 51        \n",
            "                                                                 \n",
            "=================================================================\n",
            "Total params: 50851 (198.64 KB)\n",
            "Trainable params: 50851 (198.64 KB)\n",
            "Non-trainable params: 0 (0.00 Byte)\n",
            "_________________________________________________________________\n"
          ]
        }
      ]
    },
    {
      "cell_type": "code",
      "source": [
        "model.fit(X_train,y_train,validation_data=(X_test,ytest),epochs=100,batch_size=64,verbose=1)"
      ],
      "metadata": {
        "colab": {
          "base_uri": "https://localhost:8080/"
        },
        "id": "5G5x9qsQQ-NZ",
        "outputId": "ed0ee80e-66cf-4ae7-f0b7-21ec3fba55c1"
      },
      "execution_count": null,
      "outputs": [
        {
          "output_type": "stream",
          "name": "stdout",
          "text": [
            "Epoch 1/100\n",
            "15/15 [==============================] - 11s 353ms/step - loss: 0.1264 - val_loss: 0.0354\n",
            "Epoch 2/100\n",
            "15/15 [==============================] - 2s 160ms/step - loss: 0.0184 - val_loss: 0.0026\n",
            "Epoch 3/100\n",
            "15/15 [==============================] - 2s 160ms/step - loss: 0.0080 - val_loss: 0.0018\n",
            "Epoch 4/100\n",
            "15/15 [==============================] - 3s 183ms/step - loss: 0.0056 - val_loss: 0.0024\n",
            "Epoch 5/100\n",
            "15/15 [==============================] - 6s 393ms/step - loss: 0.0043 - val_loss: 0.0022\n",
            "Epoch 6/100\n",
            "15/15 [==============================] - 2s 166ms/step - loss: 0.0040 - val_loss: 0.0013\n",
            "Epoch 7/100\n",
            "15/15 [==============================] - 2s 160ms/step - loss: 0.0039 - val_loss: 0.0016\n",
            "Epoch 8/100\n",
            "15/15 [==============================] - 2s 160ms/step - loss: 0.0038 - val_loss: 0.0013\n",
            "Epoch 9/100\n",
            "15/15 [==============================] - 3s 205ms/step - loss: 0.0038 - val_loss: 0.0012\n",
            "Epoch 10/100\n",
            "15/15 [==============================] - 3s 193ms/step - loss: 0.0037 - val_loss: 0.0017\n",
            "Epoch 11/100\n",
            "15/15 [==============================] - 2s 159ms/step - loss: 0.0037 - val_loss: 0.0014\n",
            "Epoch 12/100\n",
            "15/15 [==============================] - 2s 159ms/step - loss: 0.0035 - val_loss: 0.0014\n",
            "Epoch 13/100\n",
            "15/15 [==============================] - 2s 164ms/step - loss: 0.0034 - val_loss: 0.0012\n",
            "Epoch 14/100\n",
            "15/15 [==============================] - 3s 229ms/step - loss: 0.0036 - val_loss: 0.0037\n",
            "Epoch 15/100\n",
            "15/15 [==============================] - 3s 172ms/step - loss: 0.0041 - val_loss: 0.0011\n",
            "Epoch 16/100\n",
            "15/15 [==============================] - 2s 162ms/step - loss: 0.0032 - val_loss: 0.0015\n",
            "Epoch 17/100\n",
            "15/15 [==============================] - 2s 162ms/step - loss: 0.0032 - val_loss: 0.0010\n",
            "Epoch 18/100\n",
            "15/15 [==============================] - 2s 161ms/step - loss: 0.0030 - val_loss: 0.0012\n",
            "Epoch 19/100\n",
            "15/15 [==============================] - 3s 237ms/step - loss: 0.0032 - val_loss: 0.0017\n",
            "Epoch 20/100\n",
            "15/15 [==============================] - 2s 158ms/step - loss: 0.0029 - val_loss: 9.2766e-04\n",
            "Epoch 21/100\n",
            "15/15 [==============================] - 3s 196ms/step - loss: 0.0028 - val_loss: 9.0105e-04\n",
            "Epoch 22/100\n",
            "15/15 [==============================] - 4s 276ms/step - loss: 0.0027 - val_loss: 0.0013\n",
            "Epoch 23/100\n",
            "15/15 [==============================] - 5s 327ms/step - loss: 0.0027 - val_loss: 8.2794e-04\n",
            "Epoch 24/100\n",
            "15/15 [==============================] - 3s 222ms/step - loss: 0.0026 - val_loss: 7.7170e-04\n",
            "Epoch 25/100\n",
            "15/15 [==============================] - 3s 212ms/step - loss: 0.0024 - val_loss: 9.5932e-04\n",
            "Epoch 26/100\n",
            "15/15 [==============================] - 3s 205ms/step - loss: 0.0023 - val_loss: 0.0024\n",
            "Epoch 27/100\n",
            "15/15 [==============================] - 3s 198ms/step - loss: 0.0024 - val_loss: 8.0613e-04\n",
            "Epoch 28/100\n",
            "15/15 [==============================] - 2s 161ms/step - loss: 0.0022 - val_loss: 6.4547e-04\n",
            "Epoch 29/100\n",
            "15/15 [==============================] - 2s 160ms/step - loss: 0.0021 - val_loss: 5.9517e-04\n",
            "Epoch 30/100\n",
            "15/15 [==============================] - 3s 167ms/step - loss: 0.0021 - val_loss: 5.8112e-04\n",
            "Epoch 31/100\n",
            "15/15 [==============================] - 3s 234ms/step - loss: 0.0020 - val_loss: 0.0026\n",
            "Epoch 32/100\n",
            "15/15 [==============================] - 3s 160ms/step - loss: 0.0024 - val_loss: 0.0016\n",
            "Epoch 33/100\n",
            "15/15 [==============================] - 2s 166ms/step - loss: 0.0021 - val_loss: 8.9135e-04\n",
            "Epoch 34/100\n",
            "15/15 [==============================] - 2s 162ms/step - loss: 0.0019 - val_loss: 6.7773e-04\n",
            "Epoch 35/100\n",
            "15/15 [==============================] - 2s 163ms/step - loss: 0.0019 - val_loss: 6.2173e-04\n",
            "Epoch 36/100\n",
            "15/15 [==============================] - 4s 239ms/step - loss: 0.0019 - val_loss: 6.3024e-04\n",
            "Epoch 37/100\n",
            "15/15 [==============================] - 2s 163ms/step - loss: 0.0017 - val_loss: 6.0764e-04\n",
            "Epoch 38/100\n",
            "15/15 [==============================] - 2s 164ms/step - loss: 0.0017 - val_loss: 5.1789e-04\n",
            "Epoch 39/100\n",
            "15/15 [==============================] - 2s 162ms/step - loss: 0.0017 - val_loss: 5.1276e-04\n",
            "Epoch 40/100\n",
            "15/15 [==============================] - 3s 176ms/step - loss: 0.0016 - val_loss: 0.0013\n",
            "Epoch 41/100\n",
            "15/15 [==============================] - 3s 221ms/step - loss: 0.0017 - val_loss: 5.8054e-04\n",
            "Epoch 42/100\n",
            "15/15 [==============================] - 3s 167ms/step - loss: 0.0016 - val_loss: 7.8308e-04\n",
            "Epoch 43/100\n",
            "15/15 [==============================] - 2s 165ms/step - loss: 0.0018 - val_loss: 5.5654e-04\n",
            "Epoch 44/100\n",
            "15/15 [==============================] - 2s 166ms/step - loss: 0.0015 - val_loss: 5.4073e-04\n",
            "Epoch 45/100\n",
            "15/15 [==============================] - 3s 238ms/step - loss: 0.0019 - val_loss: 0.0014\n",
            "Epoch 46/100\n",
            "15/15 [==============================] - 3s 167ms/step - loss: 0.0019 - val_loss: 5.1345e-04\n",
            "Epoch 47/100\n",
            "15/15 [==============================] - 2s 164ms/step - loss: 0.0019 - val_loss: 0.0021\n",
            "Epoch 48/100\n",
            "15/15 [==============================] - 2s 161ms/step - loss: 0.0022 - val_loss: 0.0020\n",
            "Epoch 49/100\n",
            "15/15 [==============================] - 2s 163ms/step - loss: 0.0018 - val_loss: 0.0014\n",
            "Epoch 50/100\n",
            "15/15 [==============================] - 4s 242ms/step - loss: 0.0016 - val_loss: 7.5679e-04\n",
            "Epoch 51/100\n",
            "15/15 [==============================] - 2s 164ms/step - loss: 0.0014 - val_loss: 5.4207e-04\n",
            "Epoch 52/100\n",
            "15/15 [==============================] - 2s 164ms/step - loss: 0.0013 - val_loss: 6.5044e-04\n",
            "Epoch 53/100\n",
            "15/15 [==============================] - 2s 164ms/step - loss: 0.0013 - val_loss: 7.2737e-04\n",
            "Epoch 54/100\n",
            "15/15 [==============================] - 3s 173ms/step - loss: 0.0014 - val_loss: 6.1644e-04\n",
            "Epoch 55/100\n",
            "15/15 [==============================] - 3s 220ms/step - loss: 0.0013 - val_loss: 5.3148e-04\n",
            "Epoch 56/100\n",
            "15/15 [==============================] - 2s 162ms/step - loss: 0.0013 - val_loss: 5.5081e-04\n",
            "Epoch 57/100\n",
            "15/15 [==============================] - 2s 163ms/step - loss: 0.0012 - val_loss: 4.7485e-04\n",
            "Epoch 58/100\n",
            "15/15 [==============================] - 2s 162ms/step - loss: 0.0013 - val_loss: 6.2947e-04\n",
            "Epoch 59/100\n",
            "15/15 [==============================] - 3s 207ms/step - loss: 0.0013 - val_loss: 5.0243e-04\n",
            "Epoch 60/100\n",
            "15/15 [==============================] - 3s 190ms/step - loss: 0.0012 - val_loss: 5.4790e-04\n",
            "Epoch 61/100\n",
            "15/15 [==============================] - 2s 161ms/step - loss: 0.0012 - val_loss: 5.6534e-04\n",
            "Epoch 62/100\n",
            "15/15 [==============================] - 2s 165ms/step - loss: 0.0011 - val_loss: 4.5778e-04\n",
            "Epoch 63/100\n",
            "15/15 [==============================] - 3s 167ms/step - loss: 0.0012 - val_loss: 4.5650e-04\n",
            "Epoch 64/100\n",
            "15/15 [==============================] - 4s 243ms/step - loss: 0.0012 - val_loss: 6.0147e-04\n",
            "Epoch 65/100\n",
            "15/15 [==============================] - 2s 164ms/step - loss: 0.0011 - val_loss: 4.7219e-04\n",
            "Epoch 66/100\n",
            "15/15 [==============================] - 2s 162ms/step - loss: 0.0011 - val_loss: 5.1754e-04\n",
            "Epoch 67/100\n",
            "15/15 [==============================] - 2s 162ms/step - loss: 0.0011 - val_loss: 6.8643e-04\n",
            "Epoch 68/100\n",
            "15/15 [==============================] - 2s 162ms/step - loss: 0.0011 - val_loss: 4.5511e-04\n",
            "Epoch 69/100\n",
            "15/15 [==============================] - 4s 238ms/step - loss: 0.0010 - val_loss: 5.0096e-04\n",
            "Epoch 70/100\n",
            "15/15 [==============================] - 2s 162ms/step - loss: 0.0011 - val_loss: 4.2509e-04\n",
            "Epoch 71/100\n",
            "15/15 [==============================] - 2s 161ms/step - loss: 0.0010 - val_loss: 8.4198e-04\n",
            "Epoch 72/100\n",
            "15/15 [==============================] - 2s 167ms/step - loss: 0.0010 - val_loss: 4.3445e-04\n",
            "Epoch 73/100\n",
            "15/15 [==============================] - 3s 191ms/step - loss: 0.0010 - val_loss: 5.2904e-04\n",
            "Epoch 74/100\n",
            "15/15 [==============================] - 3s 206ms/step - loss: 0.0011 - val_loss: 5.7321e-04\n",
            "Epoch 75/100\n",
            "15/15 [==============================] - 2s 161ms/step - loss: 0.0011 - val_loss: 4.6877e-04\n",
            "Epoch 76/100\n",
            "15/15 [==============================] - 2s 161ms/step - loss: 0.0012 - val_loss: 4.4629e-04\n",
            "Epoch 77/100\n",
            "15/15 [==============================] - 2s 163ms/step - loss: 0.0010 - val_loss: 5.5898e-04\n",
            "Epoch 78/100\n",
            "15/15 [==============================] - 3s 223ms/step - loss: 0.0012 - val_loss: 0.0021\n",
            "Epoch 79/100\n",
            "15/15 [==============================] - 3s 174ms/step - loss: 0.0014 - val_loss: 8.2327e-04\n",
            "Epoch 80/100\n",
            "15/15 [==============================] - 2s 163ms/step - loss: 0.0013 - val_loss: 4.8198e-04\n",
            "Epoch 81/100\n",
            "15/15 [==============================] - 2s 165ms/step - loss: 0.0011 - val_loss: 5.2990e-04\n",
            "Epoch 82/100\n",
            "15/15 [==============================] - 2s 167ms/step - loss: 0.0010 - val_loss: 4.9553e-04\n",
            "Epoch 83/100\n",
            "15/15 [==============================] - 4s 242ms/step - loss: 0.0010 - val_loss: 4.2759e-04\n",
            "Epoch 84/100\n",
            "15/15 [==============================] - 2s 164ms/step - loss: 9.5811e-04 - val_loss: 3.6514e-04\n",
            "Epoch 85/100\n",
            "15/15 [==============================] - 3s 167ms/step - loss: 9.5561e-04 - val_loss: 3.6987e-04\n",
            "Epoch 86/100\n",
            "15/15 [==============================] - 2s 165ms/step - loss: 9.2827e-04 - val_loss: 5.3841e-04\n",
            "Epoch 87/100\n",
            "15/15 [==============================] - 3s 179ms/step - loss: 9.6866e-04 - val_loss: 5.3880e-04\n",
            "Epoch 88/100\n",
            "15/15 [==============================] - 3s 221ms/step - loss: 0.0011 - val_loss: 6.1447e-04\n",
            "Epoch 89/100\n",
            "15/15 [==============================] - 2s 165ms/step - loss: 0.0011 - val_loss: 5.6795e-04\n",
            "Epoch 90/100\n",
            "15/15 [==============================] - 2s 165ms/step - loss: 0.0011 - val_loss: 0.0012\n",
            "Epoch 91/100\n",
            "15/15 [==============================] - 2s 163ms/step - loss: 9.9396e-04 - val_loss: 4.7917e-04\n",
            "Epoch 92/100\n",
            "15/15 [==============================] - 3s 217ms/step - loss: 8.6529e-04 - val_loss: 8.5594e-04\n",
            "Epoch 93/100\n",
            "15/15 [==============================] - 3s 184ms/step - loss: 9.3204e-04 - val_loss: 3.3518e-04\n",
            "Epoch 94/100\n",
            "15/15 [==============================] - 2s 166ms/step - loss: 8.4291e-04 - val_loss: 4.7202e-04\n",
            "Epoch 95/100\n",
            "15/15 [==============================] - 2s 162ms/step - loss: 9.1610e-04 - val_loss: 3.7532e-04\n",
            "Epoch 96/100\n",
            "15/15 [==============================] - 2s 166ms/step - loss: 8.8094e-04 - val_loss: 6.1339e-04\n",
            "Epoch 97/100\n",
            "15/15 [==============================] - 4s 240ms/step - loss: 9.0768e-04 - val_loss: 3.2128e-04\n",
            "Epoch 98/100\n",
            "15/15 [==============================] - 2s 162ms/step - loss: 7.9801e-04 - val_loss: 4.1628e-04\n",
            "Epoch 99/100\n",
            "15/15 [==============================] - 2s 162ms/step - loss: 8.7757e-04 - val_loss: 3.5394e-04\n",
            "Epoch 100/100\n",
            "15/15 [==============================] - 2s 165ms/step - loss: 8.0288e-04 - val_loss: 5.5689e-04\n"
          ]
        },
        {
          "output_type": "execute_result",
          "data": {
            "text/plain": [
              "<keras.src.callbacks.History at 0x7ad3c0e49270>"
            ]
          },
          "metadata": {},
          "execution_count": 107
        }
      ]
    },
    {
      "cell_type": "code",
      "source": [
        "import tensorflow as tf"
      ],
      "metadata": {
        "id": "jmKVLIanRDlw"
      },
      "execution_count": null,
      "outputs": []
    },
    {
      "cell_type": "code",
      "source": [
        "### Lets Do the prediction and check performance metrics\n",
        "train_predict=model.predict(X_train)\n",
        "test_predict=model.predict(X_test)"
      ],
      "metadata": {
        "colab": {
          "base_uri": "https://localhost:8080/"
        },
        "id": "vO9XeC5uRvqA",
        "outputId": "d3ecf4d8-03a8-45d9-fbc1-bf92dc06b877"
      },
      "execution_count": null,
      "outputs": [
        {
          "output_type": "stream",
          "name": "stdout",
          "text": [
            "29/29 [==============================] - 1s 32ms/step\n",
            "5/5 [==============================] - 0s 35ms/step\n"
          ]
        }
      ]
    },
    {
      "cell_type": "code",
      "source": [
        "##Transformback to original form\n",
        "train_predict=scaler.inverse_transform(train_predict)\n",
        "test_predict=scaler.inverse_transform(test_predict)"
      ],
      "metadata": {
        "id": "sj8M9k2jR2Pn"
      },
      "execution_count": null,
      "outputs": []
    },
    {
      "cell_type": "code",
      "source": [
        "### Calculate RMSE performance metrics\n",
        "import math\n",
        "from sklearn.metrics import mean_squared_error\n",
        "rmse_train_lstm = math.sqrt(mean_squared_error(y_train,train_predict))\n",
        "rmse_train_lstm"
      ],
      "metadata": {
        "id": "p2-04FTuR64A",
        "colab": {
          "base_uri": "https://localhost:8080/"
        },
        "outputId": "99fd40bc-738f-420a-da1b-8e71277acf54"
      },
      "execution_count": null,
      "outputs": [
        {
          "output_type": "execute_result",
          "data": {
            "text/plain": [
              "60.50868350205695"
            ]
          },
          "metadata": {},
          "execution_count": 134
        }
      ]
    },
    {
      "cell_type": "code",
      "source": [
        "### Test Data RMSE\n",
        "rmse_test_lstm = math.sqrt(mean_squared_error(ytest,test_predict))\n",
        "rmse_test_lstm"
      ],
      "metadata": {
        "colab": {
          "base_uri": "https://localhost:8080/"
        },
        "id": "veqtCoceR9Qj",
        "outputId": "cb3b0b24-5dd6-4b4f-9ad8-d549e208ea86"
      },
      "execution_count": null,
      "outputs": [
        {
          "output_type": "execute_result",
          "data": {
            "text/plain": [
              "64.5013189261503"
            ]
          },
          "metadata": {},
          "execution_count": 135
        }
      ]
    },
    {
      "cell_type": "code",
      "source": [
        "import matplotlib.pyplot as plt\n",
        "look_back=100\n",
        "trainPredictPlot = numpy.empty_like(df1)\n",
        "trainPredictPlot[:, :] = np.nan\n",
        "trainPredictPlot[look_back:len(train_predict)+look_back, :] = train_predict\n",
        "# shift test predictions for plotting\n",
        "testPredictPlot = numpy.empty_like(df1)\n",
        "testPredictPlot[:, :] = numpy.nan\n",
        "testPredictPlot[len(train_predict)+(look_back*2)+1:len(df1)-1, :] = test_predict\n",
        "# plot baseline and predictions\n",
        "plt.plot(scaler.inverse_transform(df1))\n",
        "plt.plot(trainPredictPlot)\n",
        "plt.plot(testPredictPlot)\n",
        "plt.show()"
      ],
      "metadata": {
        "colab": {
          "base_uri": "https://localhost:8080/",
          "height": 430
        },
        "id": "JOM-7ULwR9pR",
        "outputId": "ca43634b-ba8f-4d1d-f57c-6ff918264994"
      },
      "execution_count": null,
      "outputs": [
        {
          "output_type": "display_data",
          "data": {
            "text/plain": [
              "<Figure size 640x480 with 1 Axes>"
            ],
            "image/png": "[encoded data removed]"
          },
          "metadata": {}
        }
      ]
    },
    {
      "cell_type": "code",
      "source": [
        "len(test_data)"
      ],
      "metadata": {
        "colab": {
          "base_uri": "https://localhost:8080/"
        },
        "id": "De2nRlBKRfX7",
        "outputId": "96d1ad58-1d3c-4c3a-ee1d-d5e1d566076b"
      },
      "execution_count": null,
      "outputs": [
        {
          "output_type": "execute_result",
          "data": {
            "text/plain": [
              "252"
            ]
          },
          "metadata": {},
          "execution_count": 114
        }
      ]
    },
    {
      "cell_type": "code",
      "source": [
        "x_input=test_data[152:].reshape(1,-1)\n",
        "x_input.shape"
      ],
      "metadata": {
        "colab": {
          "base_uri": "https://localhost:8080/"
        },
        "id": "pkLfXEssSAjv",
        "outputId": "33515454-cc38-44fa-dfc0-9ee44f7267a5"
      },
      "execution_count": null,
      "outputs": [
        {
          "output_type": "execute_result",
          "data": {
            "text/plain": [
              "(1, 100)"
            ]
          },
          "metadata": {},
          "execution_count": 115
        }
      ]
    },
    {
      "cell_type": "code",
      "source": [
        "temp_input=list(x_input)\n",
        "temp_input=temp_input[0].tolist()\n",
        "temp_input"
      ],
      "metadata": {
        "colab": {
          "base_uri": "https://localhost:8080/"
        },
        "id": "p0gdJF2qTl98",
        "outputId": "2665aa9b-8bdf-459e-d0fd-703fdace8062"
      },
      "execution_count": null,
      "outputs": [
        {
          "output_type": "execute_result",
          "data": {
            "text/plain": [
              "[0.6510356731875719,\n",
              " 0.6441311852704257,\n",
              " 0.6792289988492519,\n",
              " 0.694476409666283,\n",
              " 0.6936133486766398,\n",
              " 0.6720368239355581,\n",
              " 0.6590909090909092,\n",
              " 0.64614499424626,\n",
              " 0.6795166858457999,\n",
              " 0.6800920598388953,\n",
              " 0.6717491369390103,\n",
              " 0.6798043728423475,\n",
              " 0.6772151898734178,\n",
              " 0.6743383199079402,\n",
              " 0.6800920598388953,\n",
              " 0.6682968929804374,\n",
              " 0.6901611047180669,\n",
              " 0.7079976985040275,\n",
              " 0.7051208285385502,\n",
              " 0.7054085155350978,\n",
              " 0.6846950517836592,\n",
              " 0.6708860759493671,\n",
              " 0.6869965477560416,\n",
              " 0.7108745684695055,\n",
              " 0.7108745684695055,\n",
              " 0.6999424626006905,\n",
              " 0.7183544303797467,\n",
              " 0.7456846950517837,\n",
              " 0.741944764096663,\n",
              " 0.7462600690448791,\n",
              " 0.7390678941311852,\n",
              " 0.7508630609896434,\n",
              " 0.7528768699654775,\n",
              " 0.7707134637514386,\n",
              " 0.7839470655926353,\n",
              " 0.7859608745684696,\n",
              " 0.8098388952819333,\n",
              " 0.8020713463751441,\n",
              " 0.7928653624856157,\n",
              " 0.7827963176064443,\n",
              " 0.7899884925201384,\n",
              " 0.7747410817031071,\n",
              " 0.7661104718066747,\n",
              " 0.7879746835443038,\n",
              " 0.7871116225546604,\n",
              " 0.796029919447641,\n",
              " 0.8199079401611047,\n",
              " 0.8219217491369393,\n",
              " 0.8181818181818181,\n",
              " 0.8026467203682395,\n",
              " 0.7971806674338322,\n",
              " 0.8017836593785961,\n",
              " 0.8150172612197928,\n",
              " 0.8294016110471807,\n",
              " 0.8463751438434981,\n",
              " 0.8440736478711162,\n",
              " 0.8518411967779054,\n",
              " 0.8659378596087457,\n",
              " 0.8708285385500574,\n",
              " 0.8573072497123131,\n",
              " 0.8575949367088609,\n",
              " 0.8656501726121979,\n",
              " 0.871403912543153,\n",
              " 0.8708285385500574,\n",
              " 0.8578826237054087,\n",
              " 0.8777330264672036,\n",
              " 0.880897583429229,\n",
              " 0.8754315304948217,\n",
              " 0.8472382048331415,\n",
              " 0.8420598388952816,\n",
              " 0.831415420023015,\n",
              " 0.8492520138089756,\n",
              " 0.840621403912543,\n",
              " 0.8268124280782512,\n",
              " 0.8273878020713465,\n",
              " 0.825373993095512,\n",
              " 0.8365937859608745,\n",
              " 0.813866513233602,\n",
              " 0.7991944764096663,\n",
              " 0.7842347525891831,\n",
              " 0.7839470655926353,\n",
              " 0.7971806674338322,\n",
              " 0.7917146144994245,\n",
              " 0.8132911392405062,\n",
              " 0.786536248561565,\n",
              " 0.7997698504027617,\n",
              " 0.8118527042577675,\n",
              " 0.840621403912543,\n",
              " 0.8483889528193327,\n",
              " 0.8455120828538552,\n",
              " 0.8489643268124283,\n",
              " 0.840621403912543,\n",
              " 0.8265247410817032,\n",
              " 0.8201956271576525,\n",
              " 0.82307249712313,\n",
              " 0.836306098964327,\n",
              " 0.8247986191024166,\n",
              " 0.8273878020713465,\n",
              " 0.8443613348676644,\n",
              " 0.8199079401611047]"
            ]
          },
          "metadata": {},
          "execution_count": 116
        }
      ]
    },
    {
      "cell_type": "code",
      "source": [
        "from numpy import array\n",
        "\n",
        "lst_output=[]\n",
        "n_steps=100\n",
        "i=0\n",
        "while(i<30):\n",
        "\n",
        "    if(len(temp_input)>100):\n",
        "        #print(temp_input)\n",
        "        x_input=np.array(temp_input[1:])\n",
        "        print(\"{} day input {}\".format(i,x_input))\n",
        "        x_input=x_input.reshape(1,-1)\n",
        "        x_input = x_input.reshape((1, n_steps, 1))\n",
        "        #print(x_input)\n",
        "        yhat = model.predict(x_input, verbose=0)\n",
        "        print(\"{} day output {}\".format(i,yhat))\n",
        "        temp_input.extend(yhat[0].tolist())\n",
        "        temp_input=temp_input[1:]\n",
        "        #print(temp_input)\n",
        "        lst_output.extend(yhat.tolist())\n",
        "        i=i+1\n",
        "    else:\n",
        "        x_input = x_input.reshape((1, n_steps,1))\n",
        "        yhat = model.predict(x_input, verbose=0)\n",
        "        print(yhat[0])\n",
        "        temp_input.extend(yhat[0].tolist())\n",
        "        print(len(temp_input))\n",
        "        lst_output.extend(yhat.tolist())\n",
        "        i=i+1\n",
        "\n",
        "\n",
        "print(lst_output)"
      ],
      "metadata": {
        "colab": {
          "base_uri": "https://localhost:8080/"
        },
        "id": "Qx_ZaJJQTq_2",
        "outputId": "61b10438-32ce-4ab9-94fd-4b81411ff582"
      },
      "execution_count": null,
      "outputs": [
        {
          "output_type": "stream",
          "name": "stdout",
          "text": [
            "[0.81659126]\n",
            "101\n",
            "1 day input [0.64413119 0.679229   0.69447641 0.69361335 0.67203682 0.65909091\n",
            " 0.64614499 0.67951669 0.68009206 0.67174914 0.67980437 0.67721519\n",
            " 0.67433832 0.68009206 0.66829689 0.6901611  0.7079977  0.70512083\n",
            " 0.70540852 0.68469505 0.67088608 0.68699655 0.71087457 0.71087457\n",
            " 0.69994246 0.71835443 0.7456847  0.74194476 0.74626007 0.73906789\n",
            " 0.75086306 0.75287687 0.77071346 0.78394707 0.78596087 0.8098389\n",
            " 0.80207135 0.79286536 0.78279632 0.78998849 0.77474108 0.76611047\n",
            " 0.78797468 0.78711162 0.79602992 0.81990794 0.82192175 0.81818182\n",
            " 0.80264672 0.79718067 0.80178366 0.81501726 0.82940161 0.84637514\n",
            " 0.84407365 0.8518412  0.86593786 0.87082854 0.85730725 0.85759494\n",
            " 0.86565017 0.87140391 0.87082854 0.85788262 0.87773303 0.88089758\n",
            " 0.87543153 0.8472382  0.84205984 0.83141542 0.84925201 0.8406214\n",
            " 0.82681243 0.8273878  0.82537399 0.83659379 0.81386651 0.79919448\n",
            " 0.78423475 0.78394707 0.79718067 0.79171461 0.81329114 0.78653625\n",
            " 0.79976985 0.8118527  0.8406214  0.84838895 0.84551208 0.84896433\n",
            " 0.8406214  0.82652474 0.82019563 0.8230725  0.8363061  0.82479862\n",
            " 0.8273878  0.84436133 0.81990794 0.81659126]\n",
            "1 day output [[0.8072048]]\n",
            "2 day input [0.679229   0.69447641 0.69361335 0.67203682 0.65909091 0.64614499\n",
            " 0.67951669 0.68009206 0.67174914 0.67980437 0.67721519 0.67433832\n",
            " 0.68009206 0.66829689 0.6901611  0.7079977  0.70512083 0.70540852\n",
            " 0.68469505 0.67088608 0.68699655 0.71087457 0.71087457 0.69994246\n",
            " 0.71835443 0.7456847  0.74194476 0.74626007 0.73906789 0.75086306\n",
            " 0.75287687 0.77071346 0.78394707 0.78596087 0.8098389  0.80207135\n",
            " 0.79286536 0.78279632 0.78998849 0.77474108 0.76611047 0.78797468\n",
            " 0.78711162 0.79602992 0.81990794 0.82192175 0.81818182 0.80264672\n",
            " 0.79718067 0.80178366 0.81501726 0.82940161 0.84637514 0.84407365\n",
            " 0.8518412  0.86593786 0.87082854 0.85730725 0.85759494 0.86565017\n",
            " 0.87140391 0.87082854 0.85788262 0.87773303 0.88089758 0.87543153\n",
            " 0.8472382  0.84205984 0.83141542 0.84925201 0.8406214  0.82681243\n",
            " 0.8273878  0.82537399 0.83659379 0.81386651 0.79919448 0.78423475\n",
            " 0.78394707 0.79718067 0.79171461 0.81329114 0.78653625 0.79976985\n",
            " 0.8118527  0.8406214  0.84838895 0.84551208 0.84896433 0.8406214\n",
            " 0.82652474 0.82019563 0.8230725  0.8363061  0.82479862 0.8273878\n",
            " 0.84436133 0.81990794 0.81659126 0.80720478]\n",
            "2 day output [[0.7969657]]\n",
            "3 day input [0.69447641 0.69361335 0.67203682 0.65909091 0.64614499 0.67951669\n",
            " 0.68009206 0.67174914 0.67980437 0.67721519 0.67433832 0.68009206\n",
            " 0.66829689 0.6901611  0.7079977  0.70512083 0.70540852 0.68469505\n",
            " 0.67088608 0.68699655 0.71087457 0.71087457 0.69994246 0.71835443\n",
            " 0.7456847  0.74194476 0.74626007 0.73906789 0.75086306 0.75287687\n",
            " 0.77071346 0.78394707 0.78596087 0.8098389  0.80207135 0.79286536\n",
            " 0.78279632 0.78998849 0.77474108 0.76611047 0.78797468 0.78711162\n",
            " 0.79602992 0.81990794 0.82192175 0.81818182 0.80264672 0.79718067\n",
            " 0.80178366 0.81501726 0.82940161 0.84637514 0.84407365 0.8518412\n",
            " 0.86593786 0.87082854 0.85730725 0.85759494 0.86565017 0.87140391\n",
            " 0.87082854 0.85788262 0.87773303 0.88089758 0.87543153 0.8472382\n",
            " 0.84205984 0.83141542 0.84925201 0.8406214  0.82681243 0.8273878\n",
            " 0.82537399 0.83659379 0.81386651 0.79919448 0.78423475 0.78394707\n",
            " 0.79718067 0.79171461 0.81329114 0.78653625 0.79976985 0.8118527\n",
            " 0.8406214  0.84838895 0.84551208 0.84896433 0.8406214  0.82652474\n",
            " 0.82019563 0.8230725  0.8363061  0.82479862 0.8273878  0.84436133\n",
            " 0.81990794 0.81659126 0.80720478 0.79696572]\n",
            "3 day output [[0.7868538]]\n",
            "4 day input [0.69361335 0.67203682 0.65909091 0.64614499 0.67951669 0.68009206\n",
            " 0.67174914 0.67980437 0.67721519 0.67433832 0.68009206 0.66829689\n",
            " 0.6901611  0.7079977  0.70512083 0.70540852 0.68469505 0.67088608\n",
            " 0.68699655 0.71087457 0.71087457 0.69994246 0.71835443 0.7456847\n",
            " 0.74194476 0.74626007 0.73906789 0.75086306 0.75287687 0.77071346\n",
            " 0.78394707 0.78596087 0.8098389  0.80207135 0.79286536 0.78279632\n",
            " 0.78998849 0.77474108 0.76611047 0.78797468 0.78711162 0.79602992\n",
            " 0.81990794 0.82192175 0.81818182 0.80264672 0.79718067 0.80178366\n",
            " 0.81501726 0.82940161 0.84637514 0.84407365 0.8518412  0.86593786\n",
            " 0.87082854 0.85730725 0.85759494 0.86565017 0.87140391 0.87082854\n",
            " 0.85788262 0.87773303 0.88089758 0.87543153 0.8472382  0.84205984\n",
            " 0.83141542 0.84925201 0.8406214  0.82681243 0.8273878  0.82537399\n",
            " 0.83659379 0.81386651 0.79919448 0.78423475 0.78394707 0.79718067\n",
            " 0.79171461 0.81329114 0.78653625 0.79976985 0.8118527  0.8406214\n",
            " 0.84838895 0.84551208 0.84896433 0.8406214  0.82652474 0.82019563\n",
            " 0.8230725  0.8363061  0.82479862 0.8273878  0.84436133 0.81990794\n",
            " 0.81659126 0.80720478 0.79696572 0.78685379]\n",
            "4 day output [[0.77690357]]\n",
            "5 day input [0.67203682 0.65909091 0.64614499 0.67951669 0.68009206 0.67174914\n",
            " 0.67980437 0.67721519 0.67433832 0.68009206 0.66829689 0.6901611\n",
            " 0.7079977  0.70512083 0.70540852 0.68469505 0.67088608 0.68699655\n",
            " 0.71087457 0.71087457 0.69994246 0.71835443 0.7456847  0.74194476\n",
            " 0.74626007 0.73906789 0.75086306 0.75287687 0.77071346 0.78394707\n",
            " 0.78596087 0.8098389  0.80207135 0.79286536 0.78279632 0.78998849\n",
            " 0.77474108 0.76611047 0.78797468 0.78711162 0.79602992 0.81990794\n",
            " 0.82192175 0.81818182 0.80264672 0.79718067 0.80178366 0.81501726\n",
            " 0.82940161 0.84637514 0.84407365 0.8518412  0.86593786 0.87082854\n",
            " 0.85730725 0.85759494 0.86565017 0.87140391 0.87082854 0.85788262\n",
            " 0.87773303 0.88089758 0.87543153 0.8472382  0.84205984 0.83141542\n",
            " 0.84925201 0.8406214  0.82681243 0.8273878  0.82537399 0.83659379\n",
            " 0.81386651 0.79919448 0.78423475 0.78394707 0.79718067 0.79171461\n",
            " 0.81329114 0.78653625 0.79976985 0.8118527  0.8406214  0.84838895\n",
            " 0.84551208 0.84896433 0.8406214  0.82652474 0.82019563 0.8230725\n",
            " 0.8363061  0.82479862 0.8273878  0.84436133 0.81990794 0.81659126\n",
            " 0.80720478 0.79696572 0.78685379 0.77690357]\n",
            "5 day output [[0.76714885]]\n",
            "6 day input [0.65909091 0.64614499 0.67951669 0.68009206 0.67174914 0.67980437\n",
            " 0.67721519 0.67433832 0.68009206 0.66829689 0.6901611  0.7079977\n",
            " 0.70512083 0.70540852 0.68469505 0.67088608 0.68699655 0.71087457\n",
            " 0.71087457 0.69994246 0.71835443 0.7456847  0.74194476 0.74626007\n",
            " 0.73906789 0.75086306 0.75287687 0.77071346 0.78394707 0.78596087\n",
            " 0.8098389  0.80207135 0.79286536 0.78279632 0.78998849 0.77474108\n",
            " 0.76611047 0.78797468 0.78711162 0.79602992 0.81990794 0.82192175\n",
            " 0.81818182 0.80264672 0.79718067 0.80178366 0.81501726 0.82940161\n",
            " 0.84637514 0.84407365 0.8518412  0.86593786 0.87082854 0.85730725\n",
            " 0.85759494 0.86565017 0.87140391 0.87082854 0.85788262 0.87773303\n",
            " 0.88089758 0.87543153 0.8472382  0.84205984 0.83141542 0.84925201\n",
            " 0.8406214  0.82681243 0.8273878  0.82537399 0.83659379 0.81386651\n",
            " 0.79919448 0.78423475 0.78394707 0.79718067 0.79171461 0.81329114\n",
            " 0.78653625 0.79976985 0.8118527  0.8406214  0.84838895 0.84551208\n",
            " 0.84896433 0.8406214  0.82652474 0.82019563 0.8230725  0.8363061\n",
            " 0.82479862 0.8273878  0.84436133 0.81990794 0.81659126 0.80720478\n",
            " 0.79696572 0.78685379 0.77690357 0.76714885]\n",
            "6 day output [[0.7576774]]\n",
            "7 day input [0.64614499 0.67951669 0.68009206 0.67174914 0.67980437 0.67721519\n",
            " 0.67433832 0.68009206 0.66829689 0.6901611  0.7079977  0.70512083\n",
            " 0.70540852 0.68469505 0.67088608 0.68699655 0.71087457 0.71087457\n",
            " 0.69994246 0.71835443 0.7456847  0.74194476 0.74626007 0.73906789\n",
            " 0.75086306 0.75287687 0.77071346 0.78394707 0.78596087 0.8098389\n",
            " 0.80207135 0.79286536 0.78279632 0.78998849 0.77474108 0.76611047\n",
            " 0.78797468 0.78711162 0.79602992 0.81990794 0.82192175 0.81818182\n",
            " 0.80264672 0.79718067 0.80178366 0.81501726 0.82940161 0.84637514\n",
            " 0.84407365 0.8518412  0.86593786 0.87082854 0.85730725 0.85759494\n",
            " 0.86565017 0.87140391 0.87082854 0.85788262 0.87773303 0.88089758\n",
            " 0.87543153 0.8472382  0.84205984 0.83141542 0.84925201 0.8406214\n",
            " 0.82681243 0.8273878  0.82537399 0.83659379 0.81386651 0.79919448\n",
            " 0.78423475 0.78394707 0.79718067 0.79171461 0.81329114 0.78653625\n",
            " 0.79976985 0.8118527  0.8406214  0.84838895 0.84551208 0.84896433\n",
            " 0.8406214  0.82652474 0.82019563 0.8230725  0.8363061  0.82479862\n",
            " 0.8273878  0.84436133 0.81990794 0.81659126 0.80720478 0.79696572\n",
            " 0.78685379 0.77690357 0.76714885 0.75767738]\n",
            "7 day output [[0.748544]]\n",
            "8 day input [0.67951669 0.68009206 0.67174914 0.67980437 0.67721519 0.67433832\n",
            " 0.68009206 0.66829689 0.6901611  0.7079977  0.70512083 0.70540852\n",
            " 0.68469505 0.67088608 0.68699655 0.71087457 0.71087457 0.69994246\n",
            " 0.71835443 0.7456847  0.74194476 0.74626007 0.73906789 0.75086306\n",
            " 0.75287687 0.77071346 0.78394707 0.78596087 0.8098389  0.80207135\n",
            " 0.79286536 0.78279632 0.78998849 0.77474108 0.76611047 0.78797468\n",
            " 0.78711162 0.79602992 0.81990794 0.82192175 0.81818182 0.80264672\n",
            " 0.79718067 0.80178366 0.81501726 0.82940161 0.84637514 0.84407365\n",
            " 0.8518412  0.86593786 0.87082854 0.85730725 0.85759494 0.86565017\n",
            " 0.87140391 0.87082854 0.85788262 0.87773303 0.88089758 0.87543153\n",
            " 0.8472382  0.84205984 0.83141542 0.84925201 0.8406214  0.82681243\n",
            " 0.8273878  0.82537399 0.83659379 0.81386651 0.79919448 0.78423475\n",
            " 0.78394707 0.79718067 0.79171461 0.81329114 0.78653625 0.79976985\n",
            " 0.8118527  0.8406214  0.84838895 0.84551208 0.84896433 0.8406214\n",
            " 0.82652474 0.82019563 0.8230725  0.8363061  0.82479862 0.8273878\n",
            " 0.84436133 0.81990794 0.81659126 0.80720478 0.79696572 0.78685379\n",
            " 0.77690357 0.76714885 0.75767738 0.74854398]\n",
            "8 day output [[0.7397462]]\n",
            "9 day input [0.68009206 0.67174914 0.67980437 0.67721519 0.67433832 0.68009206\n",
            " 0.66829689 0.6901611  0.7079977  0.70512083 0.70540852 0.68469505\n",
            " 0.67088608 0.68699655 0.71087457 0.71087457 0.69994246 0.71835443\n",
            " 0.7456847  0.74194476 0.74626007 0.73906789 0.75086306 0.75287687\n",
            " 0.77071346 0.78394707 0.78596087 0.8098389  0.80207135 0.79286536\n",
            " 0.78279632 0.78998849 0.77474108 0.76611047 0.78797468 0.78711162\n",
            " 0.79602992 0.81990794 0.82192175 0.81818182 0.80264672 0.79718067\n",
            " 0.80178366 0.81501726 0.82940161 0.84637514 0.84407365 0.8518412\n",
            " 0.86593786 0.87082854 0.85730725 0.85759494 0.86565017 0.87140391\n",
            " 0.87082854 0.85788262 0.87773303 0.88089758 0.87543153 0.8472382\n",
            " 0.84205984 0.83141542 0.84925201 0.8406214  0.82681243 0.8273878\n",
            " 0.82537399 0.83659379 0.81386651 0.79919448 0.78423475 0.78394707\n",
            " 0.79718067 0.79171461 0.81329114 0.78653625 0.79976985 0.8118527\n",
            " 0.8406214  0.84838895 0.84551208 0.84896433 0.8406214  0.82652474\n",
            " 0.82019563 0.8230725  0.8363061  0.82479862 0.8273878  0.84436133\n",
            " 0.81990794 0.81659126 0.80720478 0.79696572 0.78685379 0.77690357\n",
            " 0.76714885 0.75767738 0.74854398 0.73974621]\n",
            "9 day output [[0.7312463]]\n",
            "10 day input [0.67174914 0.67980437 0.67721519 0.67433832 0.68009206 0.66829689\n",
            " 0.6901611  0.7079977  0.70512083 0.70540852 0.68469505 0.67088608\n",
            " 0.68699655 0.71087457 0.71087457 0.69994246 0.71835443 0.7456847\n",
            " 0.74194476 0.74626007 0.73906789 0.75086306 0.75287687 0.77071346\n",
            " 0.78394707 0.78596087 0.8098389  0.80207135 0.79286536 0.78279632\n",
            " 0.78998849 0.77474108 0.76611047 0.78797468 0.78711162 0.79602992\n",
            " 0.81990794 0.82192175 0.81818182 0.80264672 0.79718067 0.80178366\n",
            " 0.81501726 0.82940161 0.84637514 0.84407365 0.8518412  0.86593786\n",
            " 0.87082854 0.85730725 0.85759494 0.86565017 0.87140391 0.87082854\n",
            " 0.85788262 0.87773303 0.88089758 0.87543153 0.8472382  0.84205984\n",
            " 0.83141542 0.84925201 0.8406214  0.82681243 0.8273878  0.82537399\n",
            " 0.83659379 0.81386651 0.79919448 0.78423475 0.78394707 0.79718067\n",
            " 0.79171461 0.81329114 0.78653625 0.79976985 0.8118527  0.8406214\n",
            " 0.84838895 0.84551208 0.84896433 0.8406214  0.82652474 0.82019563\n",
            " 0.8230725  0.8363061  0.82479862 0.8273878  0.84436133 0.81990794\n",
            " 0.81659126 0.80720478 0.79696572 0.78685379 0.77690357 0.76714885\n",
            " 0.75767738 0.74854398 0.73974621 0.73124629]\n",
            "10 day output [[0.72299254]]\n",
            "11 day input [0.67980437 0.67721519 0.67433832 0.68009206 0.66829689 0.6901611\n",
            " 0.7079977  0.70512083 0.70540852 0.68469505 0.67088608 0.68699655\n",
            " 0.71087457 0.71087457 0.69994246 0.71835443 0.7456847  0.74194476\n",
            " 0.74626007 0.73906789 0.75086306 0.75287687 0.77071346 0.78394707\n",
            " 0.78596087 0.8098389  0.80207135 0.79286536 0.78279632 0.78998849\n",
            " 0.77474108 0.76611047 0.78797468 0.78711162 0.79602992 0.81990794\n",
            " 0.82192175 0.81818182 0.80264672 0.79718067 0.80178366 0.81501726\n",
            " 0.82940161 0.84637514 0.84407365 0.8518412  0.86593786 0.87082854\n",
            " 0.85730725 0.85759494 0.86565017 0.87140391 0.87082854 0.85788262\n",
            " 0.87773303 0.88089758 0.87543153 0.8472382  0.84205984 0.83141542\n",
            " 0.84925201 0.8406214  0.82681243 0.8273878  0.82537399 0.83659379\n",
            " 0.81386651 0.79919448 0.78423475 0.78394707 0.79718067 0.79171461\n",
            " 0.81329114 0.78653625 0.79976985 0.8118527  0.8406214  0.84838895\n",
            " 0.84551208 0.84896433 0.8406214  0.82652474 0.82019563 0.8230725\n",
            " 0.8363061  0.82479862 0.8273878  0.84436133 0.81990794 0.81659126\n",
            " 0.80720478 0.79696572 0.78685379 0.77690357 0.76714885 0.75767738\n",
            " 0.74854398 0.73974621 0.73124629 0.72299254]\n",
            "11 day output [[0.71493566]]\n",
            "12 day input [0.67721519 0.67433832 0.68009206 0.66829689 0.6901611  0.7079977\n",
            " 0.70512083 0.70540852 0.68469505 0.67088608 0.68699655 0.71087457\n",
            " 0.71087457 0.69994246 0.71835443 0.7456847  0.74194476 0.74626007\n",
            " 0.73906789 0.75086306 0.75287687 0.77071346 0.78394707 0.78596087\n",
            " 0.8098389  0.80207135 0.79286536 0.78279632 0.78998849 0.77474108\n",
            " 0.76611047 0.78797468 0.78711162 0.79602992 0.81990794 0.82192175\n",
            " 0.81818182 0.80264672 0.79718067 0.80178366 0.81501726 0.82940161\n",
            " 0.84637514 0.84407365 0.8518412  0.86593786 0.87082854 0.85730725\n",
            " 0.85759494 0.86565017 0.87140391 0.87082854 0.85788262 0.87773303\n",
            " 0.88089758 0.87543153 0.8472382  0.84205984 0.83141542 0.84925201\n",
            " 0.8406214  0.82681243 0.8273878  0.82537399 0.83659379 0.81386651\n",
            " 0.79919448 0.78423475 0.78394707 0.79718067 0.79171461 0.81329114\n",
            " 0.78653625 0.79976985 0.8118527  0.8406214  0.84838895 0.84551208\n",
            " 0.84896433 0.8406214  0.82652474 0.82019563 0.8230725  0.8363061\n",
            " 0.82479862 0.8273878  0.84436133 0.81990794 0.81659126 0.80720478\n",
            " 0.79696572 0.78685379 0.77690357 0.76714885 0.75767738 0.74854398\n",
            " 0.73974621 0.73124629 0.72299254 0.71493566]\n",
            "12 day output [[0.7070383]]\n",
            "13 day input [0.67433832 0.68009206 0.66829689 0.6901611  0.7079977  0.70512083\n",
            " 0.70540852 0.68469505 0.67088608 0.68699655 0.71087457 0.71087457\n",
            " 0.69994246 0.71835443 0.7456847  0.74194476 0.74626007 0.73906789\n",
            " 0.75086306 0.75287687 0.77071346 0.78394707 0.78596087 0.8098389\n",
            " 0.80207135 0.79286536 0.78279632 0.78998849 0.77474108 0.76611047\n",
            " 0.78797468 0.78711162 0.79602992 0.81990794 0.82192175 0.81818182\n",
            " 0.80264672 0.79718067 0.80178366 0.81501726 0.82940161 0.84637514\n",
            " 0.84407365 0.8518412  0.86593786 0.87082854 0.85730725 0.85759494\n",
            " 0.86565017 0.87140391 0.87082854 0.85788262 0.87773303 0.88089758\n",
            " 0.87543153 0.8472382  0.84205984 0.83141542 0.84925201 0.8406214\n",
            " 0.82681243 0.8273878  0.82537399 0.83659379 0.81386651 0.79919448\n",
            " 0.78423475 0.78394707 0.79718067 0.79171461 0.81329114 0.78653625\n",
            " 0.79976985 0.8118527  0.8406214  0.84838895 0.84551208 0.84896433\n",
            " 0.8406214  0.82652474 0.82019563 0.8230725  0.8363061  0.82479862\n",
            " 0.8273878  0.84436133 0.81990794 0.81659126 0.80720478 0.79696572\n",
            " 0.78685379 0.77690357 0.76714885 0.75767738 0.74854398 0.73974621\n",
            " 0.73124629 0.72299254 0.71493566 0.70703828]\n",
            "13 day output [[0.6992771]]\n",
            "14 day input [0.68009206 0.66829689 0.6901611  0.7079977  0.70512083 0.70540852\n",
            " 0.68469505 0.67088608 0.68699655 0.71087457 0.71087457 0.69994246\n",
            " 0.71835443 0.7456847  0.74194476 0.74626007 0.73906789 0.75086306\n",
            " 0.75287687 0.77071346 0.78394707 0.78596087 0.8098389  0.80207135\n",
            " 0.79286536 0.78279632 0.78998849 0.77474108 0.76611047 0.78797468\n",
            " 0.78711162 0.79602992 0.81990794 0.82192175 0.81818182 0.80264672\n",
            " 0.79718067 0.80178366 0.81501726 0.82940161 0.84637514 0.84407365\n",
            " 0.8518412  0.86593786 0.87082854 0.85730725 0.85759494 0.86565017\n",
            " 0.87140391 0.87082854 0.85788262 0.87773303 0.88089758 0.87543153\n",
            " 0.8472382  0.84205984 0.83141542 0.84925201 0.8406214  0.82681243\n",
            " 0.8273878  0.82537399 0.83659379 0.81386651 0.79919448 0.78423475\n",
            " 0.78394707 0.79718067 0.79171461 0.81329114 0.78653625 0.79976985\n",
            " 0.8118527  0.8406214  0.84838895 0.84551208 0.84896433 0.8406214\n",
            " 0.82652474 0.82019563 0.8230725  0.8363061  0.82479862 0.8273878\n",
            " 0.84436133 0.81990794 0.81659126 0.80720478 0.79696572 0.78685379\n",
            " 0.77690357 0.76714885 0.75767738 0.74854398 0.73974621 0.73124629\n",
            " 0.72299254 0.71493566 0.70703828 0.6992771 ]\n",
            "14 day output [[0.69164497]]\n",
            "15 day input [0.66829689 0.6901611  0.7079977  0.70512083 0.70540852 0.68469505\n",
            " 0.67088608 0.68699655 0.71087457 0.71087457 0.69994246 0.71835443\n",
            " 0.7456847  0.74194476 0.74626007 0.73906789 0.75086306 0.75287687\n",
            " 0.77071346 0.78394707 0.78596087 0.8098389  0.80207135 0.79286536\n",
            " 0.78279632 0.78998849 0.77474108 0.76611047 0.78797468 0.78711162\n",
            " 0.79602992 0.81990794 0.82192175 0.81818182 0.80264672 0.79718067\n",
            " 0.80178366 0.81501726 0.82940161 0.84637514 0.84407365 0.8518412\n",
            " 0.86593786 0.87082854 0.85730725 0.85759494 0.86565017 0.87140391\n",
            " 0.87082854 0.85788262 0.87773303 0.88089758 0.87543153 0.8472382\n",
            " 0.84205984 0.83141542 0.84925201 0.8406214  0.82681243 0.8273878\n",
            " 0.82537399 0.83659379 0.81386651 0.79919448 0.78423475 0.78394707\n",
            " 0.79718067 0.79171461 0.81329114 0.78653625 0.79976985 0.8118527\n",
            " 0.8406214  0.84838895 0.84551208 0.84896433 0.8406214  0.82652474\n",
            " 0.82019563 0.8230725  0.8363061  0.82479862 0.8273878  0.84436133\n",
            " 0.81990794 0.81659126 0.80720478 0.79696572 0.78685379 0.77690357\n",
            " 0.76714885 0.75767738 0.74854398 0.73974621 0.73124629 0.72299254\n",
            " 0.71493566 0.70703828 0.6992771  0.69164497]\n",
            "15 day output [[0.6841469]]\n",
            "16 day input [0.6901611  0.7079977  0.70512083 0.70540852 0.68469505 0.67088608\n",
            " 0.68699655 0.71087457 0.71087457 0.69994246 0.71835443 0.7456847\n",
            " 0.74194476 0.74626007 0.73906789 0.75086306 0.75287687 0.77071346\n",
            " 0.78394707 0.78596087 0.8098389  0.80207135 0.79286536 0.78279632\n",
            " 0.78998849 0.77474108 0.76611047 0.78797468 0.78711162 0.79602992\n",
            " 0.81990794 0.82192175 0.81818182 0.80264672 0.79718067 0.80178366\n",
            " 0.81501726 0.82940161 0.84637514 0.84407365 0.8518412  0.86593786\n",
            " 0.87082854 0.85730725 0.85759494 0.86565017 0.87140391 0.87082854\n",
            " 0.85788262 0.87773303 0.88089758 0.87543153 0.8472382  0.84205984\n",
            " 0.83141542 0.84925201 0.8406214  0.82681243 0.8273878  0.82537399\n",
            " 0.83659379 0.81386651 0.79919448 0.78423475 0.78394707 0.79718067\n",
            " 0.79171461 0.81329114 0.78653625 0.79976985 0.8118527  0.8406214\n",
            " 0.84838895 0.84551208 0.84896433 0.8406214  0.82652474 0.82019563\n",
            " 0.8230725  0.8363061  0.82479862 0.8273878  0.84436133 0.81990794\n",
            " 0.81659126 0.80720478 0.79696572 0.78685379 0.77690357 0.76714885\n",
            " 0.75767738 0.74854398 0.73974621 0.73124629 0.72299254 0.71493566\n",
            " 0.70703828 0.6992771  0.69164497 0.68414688]\n",
            "16 day output [[0.6767985]]\n",
            "17 day input [0.7079977  0.70512083 0.70540852 0.68469505 0.67088608 0.68699655\n",
            " 0.71087457 0.71087457 0.69994246 0.71835443 0.7456847  0.74194476\n",
            " 0.74626007 0.73906789 0.75086306 0.75287687 0.77071346 0.78394707\n",
            " 0.78596087 0.8098389  0.80207135 0.79286536 0.78279632 0.78998849\n",
            " 0.77474108 0.76611047 0.78797468 0.78711162 0.79602992 0.81990794\n",
            " 0.82192175 0.81818182 0.80264672 0.79718067 0.80178366 0.81501726\n",
            " 0.82940161 0.84637514 0.84407365 0.8518412  0.86593786 0.87082854\n",
            " 0.85730725 0.85759494 0.86565017 0.87140391 0.87082854 0.85788262\n",
            " 0.87773303 0.88089758 0.87543153 0.8472382  0.84205984 0.83141542\n",
            " 0.84925201 0.8406214  0.82681243 0.8273878  0.82537399 0.83659379\n",
            " 0.81386651 0.79919448 0.78423475 0.78394707 0.79718067 0.79171461\n",
            " 0.81329114 0.78653625 0.79976985 0.8118527  0.8406214  0.84838895\n",
            " 0.84551208 0.84896433 0.8406214  0.82652474 0.82019563 0.8230725\n",
            " 0.8363061  0.82479862 0.8273878  0.84436133 0.81990794 0.81659126\n",
            " 0.80720478 0.79696572 0.78685379 0.77690357 0.76714885 0.75767738\n",
            " 0.74854398 0.73974621 0.73124629 0.72299254 0.71493566 0.70703828\n",
            " 0.6992771  0.69164497 0.68414688 0.67679852]\n",
            "17 day output [[0.66961914]]\n",
            "18 day input [0.70512083 0.70540852 0.68469505 0.67088608 0.68699655 0.71087457\n",
            " 0.71087457 0.69994246 0.71835443 0.7456847  0.74194476 0.74626007\n",
            " 0.73906789 0.75086306 0.75287687 0.77071346 0.78394707 0.78596087\n",
            " 0.8098389  0.80207135 0.79286536 0.78279632 0.78998849 0.77474108\n",
            " 0.76611047 0.78797468 0.78711162 0.79602992 0.81990794 0.82192175\n",
            " 0.81818182 0.80264672 0.79718067 0.80178366 0.81501726 0.82940161\n",
            " 0.84637514 0.84407365 0.8518412  0.86593786 0.87082854 0.85730725\n",
            " 0.85759494 0.86565017 0.87140391 0.87082854 0.85788262 0.87773303\n",
            " 0.88089758 0.87543153 0.8472382  0.84205984 0.83141542 0.84925201\n",
            " 0.8406214  0.82681243 0.8273878  0.82537399 0.83659379 0.81386651\n",
            " 0.79919448 0.78423475 0.78394707 0.79718067 0.79171461 0.81329114\n",
            " 0.78653625 0.79976985 0.8118527  0.8406214  0.84838895 0.84551208\n",
            " 0.84896433 0.8406214  0.82652474 0.82019563 0.8230725  0.8363061\n",
            " 0.82479862 0.8273878  0.84436133 0.81990794 0.81659126 0.80720478\n",
            " 0.79696572 0.78685379 0.77690357 0.76714885 0.75767738 0.74854398\n",
            " 0.73974621 0.73124629 0.72299254 0.71493566 0.70703828 0.6992771\n",
            " 0.69164497 0.68414688 0.67679852 0.66961914]\n",
            "18 day output [[0.6626305]]\n",
            "19 day input [0.70540852 0.68469505 0.67088608 0.68699655 0.71087457 0.71087457\n",
            " 0.69994246 0.71835443 0.7456847  0.74194476 0.74626007 0.73906789\n",
            " 0.75086306 0.75287687 0.77071346 0.78394707 0.78596087 0.8098389\n",
            " 0.80207135 0.79286536 0.78279632 0.78998849 0.77474108 0.76611047\n",
            " 0.78797468 0.78711162 0.79602992 0.81990794 0.82192175 0.81818182\n",
            " 0.80264672 0.79718067 0.80178366 0.81501726 0.82940161 0.84637514\n",
            " 0.84407365 0.8518412  0.86593786 0.87082854 0.85730725 0.85759494\n",
            " 0.86565017 0.87140391 0.87082854 0.85788262 0.87773303 0.88089758\n",
            " 0.87543153 0.8472382  0.84205984 0.83141542 0.84925201 0.8406214\n",
            " 0.82681243 0.8273878  0.82537399 0.83659379 0.81386651 0.79919448\n",
            " 0.78423475 0.78394707 0.79718067 0.79171461 0.81329114 0.78653625\n",
            " 0.79976985 0.8118527  0.8406214  0.84838895 0.84551208 0.84896433\n",
            " 0.8406214  0.82652474 0.82019563 0.8230725  0.8363061  0.82479862\n",
            " 0.8273878  0.84436133 0.81990794 0.81659126 0.80720478 0.79696572\n",
            " 0.78685379 0.77690357 0.76714885 0.75767738 0.74854398 0.73974621\n",
            " 0.73124629 0.72299254 0.71493566 0.70703828 0.6992771  0.69164497\n",
            " 0.68414688 0.67679852 0.66961914 0.6626305 ]\n",
            "19 day output [[0.65585065]]\n",
            "20 day input [0.68469505 0.67088608 0.68699655 0.71087457 0.71087457 0.69994246\n",
            " 0.71835443 0.7456847  0.74194476 0.74626007 0.73906789 0.75086306\n",
            " 0.75287687 0.77071346 0.78394707 0.78596087 0.8098389  0.80207135\n",
            " 0.79286536 0.78279632 0.78998849 0.77474108 0.76611047 0.78797468\n",
            " 0.78711162 0.79602992 0.81990794 0.82192175 0.81818182 0.80264672\n",
            " 0.79718067 0.80178366 0.81501726 0.82940161 0.84637514 0.84407365\n",
            " 0.8518412  0.86593786 0.87082854 0.85730725 0.85759494 0.86565017\n",
            " 0.87140391 0.87082854 0.85788262 0.87773303 0.88089758 0.87543153\n",
            " 0.8472382  0.84205984 0.83141542 0.84925201 0.8406214  0.82681243\n",
            " 0.8273878  0.82537399 0.83659379 0.81386651 0.79919448 0.78423475\n",
            " 0.78394707 0.79718067 0.79171461 0.81329114 0.78653625 0.79976985\n",
            " 0.8118527  0.8406214  0.84838895 0.84551208 0.84896433 0.8406214\n",
            " 0.82652474 0.82019563 0.8230725  0.8363061  0.82479862 0.8273878\n",
            " 0.84436133 0.81990794 0.81659126 0.80720478 0.79696572 0.78685379\n",
            " 0.77690357 0.76714885 0.75767738 0.74854398 0.73974621 0.73124629\n",
            " 0.72299254 0.71493566 0.70703828 0.6992771  0.69164497 0.68414688\n",
            " 0.67679852 0.66961914 0.6626305  0.65585065]\n",
            "20 day output [[0.6492936]]\n",
            "21 day input [0.67088608 0.68699655 0.71087457 0.71087457 0.69994246 0.71835443\n",
            " 0.7456847  0.74194476 0.74626007 0.73906789 0.75086306 0.75287687\n",
            " 0.77071346 0.78394707 0.78596087 0.8098389  0.80207135 0.79286536\n",
            " 0.78279632 0.78998849 0.77474108 0.76611047 0.78797468 0.78711162\n",
            " 0.79602992 0.81990794 0.82192175 0.81818182 0.80264672 0.79718067\n",
            " 0.80178366 0.81501726 0.82940161 0.84637514 0.84407365 0.8518412\n",
            " 0.86593786 0.87082854 0.85730725 0.85759494 0.86565017 0.87140391\n",
            " 0.87082854 0.85788262 0.87773303 0.88089758 0.87543153 0.8472382\n",
            " 0.84205984 0.83141542 0.84925201 0.8406214  0.82681243 0.8273878\n",
            " 0.82537399 0.83659379 0.81386651 0.79919448 0.78423475 0.78394707\n",
            " 0.79718067 0.79171461 0.81329114 0.78653625 0.79976985 0.8118527\n",
            " 0.8406214  0.84838895 0.84551208 0.84896433 0.8406214  0.82652474\n",
            " 0.82019563 0.8230725  0.8363061  0.82479862 0.8273878  0.84436133\n",
            " 0.81990794 0.81659126 0.80720478 0.79696572 0.78685379 0.77690357\n",
            " 0.76714885 0.75767738 0.74854398 0.73974621 0.73124629 0.72299254\n",
            " 0.71493566 0.70703828 0.6992771  0.69164497 0.68414688 0.67679852\n",
            " 0.66961914 0.6626305  0.65585065 0.6492936 ]\n",
            "21 day output [[0.6429664]]\n",
            "22 day input [0.68699655 0.71087457 0.71087457 0.69994246 0.71835443 0.7456847\n",
            " 0.74194476 0.74626007 0.73906789 0.75086306 0.75287687 0.77071346\n",
            " 0.78394707 0.78596087 0.8098389  0.80207135 0.79286536 0.78279632\n",
            " 0.78998849 0.77474108 0.76611047 0.78797468 0.78711162 0.79602992\n",
            " 0.81990794 0.82192175 0.81818182 0.80264672 0.79718067 0.80178366\n",
            " 0.81501726 0.82940161 0.84637514 0.84407365 0.8518412  0.86593786\n",
            " 0.87082854 0.85730725 0.85759494 0.86565017 0.87140391 0.87082854\n",
            " 0.85788262 0.87773303 0.88089758 0.87543153 0.8472382  0.84205984\n",
            " 0.83141542 0.84925201 0.8406214  0.82681243 0.8273878  0.82537399\n",
            " 0.83659379 0.81386651 0.79919448 0.78423475 0.78394707 0.79718067\n",
            " 0.79171461 0.81329114 0.78653625 0.79976985 0.8118527  0.8406214\n",
            " 0.84838895 0.84551208 0.84896433 0.8406214  0.82652474 0.82019563\n",
            " 0.8230725  0.8363061  0.82479862 0.8273878  0.84436133 0.81990794\n",
            " 0.81659126 0.80720478 0.79696572 0.78685379 0.77690357 0.76714885\n",
            " 0.75767738 0.74854398 0.73974621 0.73124629 0.72299254 0.71493566\n",
            " 0.70703828 0.6992771  0.69164497 0.68414688 0.67679852 0.66961914\n",
            " 0.6626305  0.65585065 0.6492936  0.64296639]\n",
            "22 day output [[0.6368696]]\n",
            "23 day input [0.71087457 0.71087457 0.69994246 0.71835443 0.7456847  0.74194476\n",
            " 0.74626007 0.73906789 0.75086306 0.75287687 0.77071346 0.78394707\n",
            " 0.78596087 0.8098389  0.80207135 0.79286536 0.78279632 0.78998849\n",
            " 0.77474108 0.76611047 0.78797468 0.78711162 0.79602992 0.81990794\n",
            " 0.82192175 0.81818182 0.80264672 0.79718067 0.80178366 0.81501726\n",
            " 0.82940161 0.84637514 0.84407365 0.8518412  0.86593786 0.87082854\n",
            " 0.85730725 0.85759494 0.86565017 0.87140391 0.87082854 0.85788262\n",
            " 0.87773303 0.88089758 0.87543153 0.8472382  0.84205984 0.83141542\n",
            " 0.84925201 0.8406214  0.82681243 0.8273878  0.82537399 0.83659379\n",
            " 0.81386651 0.79919448 0.78423475 0.78394707 0.79718067 0.79171461\n",
            " 0.81329114 0.78653625 0.79976985 0.8118527  0.8406214  0.84838895\n",
            " 0.84551208 0.84896433 0.8406214  0.82652474 0.82019563 0.8230725\n",
            " 0.8363061  0.82479862 0.8273878  0.84436133 0.81990794 0.81659126\n",
            " 0.80720478 0.79696572 0.78685379 0.77690357 0.76714885 0.75767738\n",
            " 0.74854398 0.73974621 0.73124629 0.72299254 0.71493566 0.70703828\n",
            " 0.6992771  0.69164497 0.68414688 0.67679852 0.66961914 0.6626305\n",
            " 0.65585065 0.6492936  0.64296639 0.63686961]\n",
            "23 day output [[0.6309974]]\n",
            "24 day input [0.71087457 0.69994246 0.71835443 0.7456847  0.74194476 0.74626007\n",
            " 0.73906789 0.75086306 0.75287687 0.77071346 0.78394707 0.78596087\n",
            " 0.8098389  0.80207135 0.79286536 0.78279632 0.78998849 0.77474108\n",
            " 0.76611047 0.78797468 0.78711162 0.79602992 0.81990794 0.82192175\n",
            " 0.81818182 0.80264672 0.79718067 0.80178366 0.81501726 0.82940161\n",
            " 0.84637514 0.84407365 0.8518412  0.86593786 0.87082854 0.85730725\n",
            " 0.85759494 0.86565017 0.87140391 0.87082854 0.85788262 0.87773303\n",
            " 0.88089758 0.87543153 0.8472382  0.84205984 0.83141542 0.84925201\n",
            " 0.8406214  0.82681243 0.8273878  0.82537399 0.83659379 0.81386651\n",
            " 0.79919448 0.78423475 0.78394707 0.79718067 0.79171461 0.81329114\n",
            " 0.78653625 0.79976985 0.8118527  0.8406214  0.84838895 0.84551208\n",
            " 0.84896433 0.8406214  0.82652474 0.82019563 0.8230725  0.8363061\n",
            " 0.82479862 0.8273878  0.84436133 0.81990794 0.81659126 0.80720478\n",
            " 0.79696572 0.78685379 0.77690357 0.76714885 0.75767738 0.74854398\n",
            " 0.73974621 0.73124629 0.72299254 0.71493566 0.70703828 0.6992771\n",
            " 0.69164497 0.68414688 0.67679852 0.66961914 0.6626305  0.65585065\n",
            " 0.6492936  0.64296639 0.63686961 0.63099742]\n",
            "24 day output [[0.6253391]]\n",
            "25 day input [0.69994246 0.71835443 0.7456847  0.74194476 0.74626007 0.73906789\n",
            " 0.75086306 0.75287687 0.77071346 0.78394707 0.78596087 0.8098389\n",
            " 0.80207135 0.79286536 0.78279632 0.78998849 0.77474108 0.76611047\n",
            " 0.78797468 0.78711162 0.79602992 0.81990794 0.82192175 0.81818182\n",
            " 0.80264672 0.79718067 0.80178366 0.81501726 0.82940161 0.84637514\n",
            " 0.84407365 0.8518412  0.86593786 0.87082854 0.85730725 0.85759494\n",
            " 0.86565017 0.87140391 0.87082854 0.85788262 0.87773303 0.88089758\n",
            " 0.87543153 0.8472382  0.84205984 0.83141542 0.84925201 0.8406214\n",
            " 0.82681243 0.8273878  0.82537399 0.83659379 0.81386651 0.79919448\n",
            " 0.78423475 0.78394707 0.79718067 0.79171461 0.81329114 0.78653625\n",
            " 0.79976985 0.8118527  0.8406214  0.84838895 0.84551208 0.84896433\n",
            " 0.8406214  0.82652474 0.82019563 0.8230725  0.8363061  0.82479862\n",
            " 0.8273878  0.84436133 0.81990794 0.81659126 0.80720478 0.79696572\n",
            " 0.78685379 0.77690357 0.76714885 0.75767738 0.74854398 0.73974621\n",
            " 0.73124629 0.72299254 0.71493566 0.70703828 0.6992771  0.69164497\n",
            " 0.68414688 0.67679852 0.66961914 0.6626305  0.65585065 0.6492936\n",
            " 0.64296639 0.63686961 0.63099742 0.62533909]\n",
            "25 day output [[0.61987954]]\n",
            "26 day input [0.71835443 0.7456847  0.74194476 0.74626007 0.73906789 0.75086306\n",
            " 0.75287687 0.77071346 0.78394707 0.78596087 0.8098389  0.80207135\n",
            " 0.79286536 0.78279632 0.78998849 0.77474108 0.76611047 0.78797468\n",
            " 0.78711162 0.79602992 0.81990794 0.82192175 0.81818182 0.80264672\n",
            " 0.79718067 0.80178366 0.81501726 0.82940161 0.84637514 0.84407365\n",
            " 0.8518412  0.86593786 0.87082854 0.85730725 0.85759494 0.86565017\n",
            " 0.87140391 0.87082854 0.85788262 0.87773303 0.88089758 0.87543153\n",
            " 0.8472382  0.84205984 0.83141542 0.84925201 0.8406214  0.82681243\n",
            " 0.8273878  0.82537399 0.83659379 0.81386651 0.79919448 0.78423475\n",
            " 0.78394707 0.79718067 0.79171461 0.81329114 0.78653625 0.79976985\n",
            " 0.8118527  0.8406214  0.84838895 0.84551208 0.84896433 0.8406214\n",
            " 0.82652474 0.82019563 0.8230725  0.8363061  0.82479862 0.8273878\n",
            " 0.84436133 0.81990794 0.81659126 0.80720478 0.79696572 0.78685379\n",
            " 0.77690357 0.76714885 0.75767738 0.74854398 0.73974621 0.73124629\n",
            " 0.72299254 0.71493566 0.70703828 0.6992771  0.69164497 0.68414688\n",
            " 0.67679852 0.66961914 0.6626305  0.65585065 0.6492936  0.64296639\n",
            " 0.63686961 0.63099742 0.62533909 0.61987954]\n",
            "26 day output [[0.61460084]]\n",
            "27 day input [0.7456847  0.74194476 0.74626007 0.73906789 0.75086306 0.75287687\n",
            " 0.77071346 0.78394707 0.78596087 0.8098389  0.80207135 0.79286536\n",
            " 0.78279632 0.78998849 0.77474108 0.76611047 0.78797468 0.78711162\n",
            " 0.79602992 0.81990794 0.82192175 0.81818182 0.80264672 0.79718067\n",
            " 0.80178366 0.81501726 0.82940161 0.84637514 0.84407365 0.8518412\n",
            " 0.86593786 0.87082854 0.85730725 0.85759494 0.86565017 0.87140391\n",
            " 0.87082854 0.85788262 0.87773303 0.88089758 0.87543153 0.8472382\n",
            " 0.84205984 0.83141542 0.84925201 0.8406214  0.82681243 0.8273878\n",
            " 0.82537399 0.83659379 0.81386651 0.79919448 0.78423475 0.78394707\n",
            " 0.79718067 0.79171461 0.81329114 0.78653625 0.79976985 0.8118527\n",
            " 0.8406214  0.84838895 0.84551208 0.84896433 0.8406214  0.82652474\n",
            " 0.82019563 0.8230725  0.8363061  0.82479862 0.8273878  0.84436133\n",
            " 0.81990794 0.81659126 0.80720478 0.79696572 0.78685379 0.77690357\n",
            " 0.76714885 0.75767738 0.74854398 0.73974621 0.73124629 0.72299254\n",
            " 0.71493566 0.70703828 0.6992771  0.69164497 0.68414688 0.67679852\n",
            " 0.66961914 0.6626305  0.65585065 0.6492936  0.64296639 0.63686961\n",
            " 0.63099742 0.62533909 0.61987954 0.61460084]\n",
            "27 day output [[0.60948473]]\n",
            "28 day input [0.74194476 0.74626007 0.73906789 0.75086306 0.75287687 0.77071346\n",
            " 0.78394707 0.78596087 0.8098389  0.80207135 0.79286536 0.78279632\n",
            " 0.78998849 0.77474108 0.76611047 0.78797468 0.78711162 0.79602992\n",
            " 0.81990794 0.82192175 0.81818182 0.80264672 0.79718067 0.80178366\n",
            " 0.81501726 0.82940161 0.84637514 0.84407365 0.8518412  0.86593786\n",
            " 0.87082854 0.85730725 0.85759494 0.86565017 0.87140391 0.87082854\n",
            " 0.85788262 0.87773303 0.88089758 0.87543153 0.8472382  0.84205984\n",
            " 0.83141542 0.84925201 0.8406214  0.82681243 0.8273878  0.82537399\n",
            " 0.83659379 0.81386651 0.79919448 0.78423475 0.78394707 0.79718067\n",
            " 0.79171461 0.81329114 0.78653625 0.79976985 0.8118527  0.8406214\n",
            " 0.84838895 0.84551208 0.84896433 0.8406214  0.82652474 0.82019563\n",
            " 0.8230725  0.8363061  0.82479862 0.8273878  0.84436133 0.81990794\n",
            " 0.81659126 0.80720478 0.79696572 0.78685379 0.77690357 0.76714885\n",
            " 0.75767738 0.74854398 0.73974621 0.73124629 0.72299254 0.71493566\n",
            " 0.70703828 0.6992771  0.69164497 0.68414688 0.67679852 0.66961914\n",
            " 0.6626305  0.65585065 0.6492936  0.64296639 0.63686961 0.63099742\n",
            " 0.62533909 0.61987954 0.61460084 0.60948473]\n",
            "28 day output [[0.60451245]]\n",
            "29 day input [0.74626007 0.73906789 0.75086306 0.75287687 0.77071346 0.78394707\n",
            " 0.78596087 0.8098389  0.80207135 0.79286536 0.78279632 0.78998849\n",
            " 0.77474108 0.76611047 0.78797468 0.78711162 0.79602992 0.81990794\n",
            " 0.82192175 0.81818182 0.80264672 0.79718067 0.80178366 0.81501726\n",
            " 0.82940161 0.84637514 0.84407365 0.8518412  0.86593786 0.87082854\n",
            " 0.85730725 0.85759494 0.86565017 0.87140391 0.87082854 0.85788262\n",
            " 0.87773303 0.88089758 0.87543153 0.8472382  0.84205984 0.83141542\n",
            " 0.84925201 0.8406214  0.82681243 0.8273878  0.82537399 0.83659379\n",
            " 0.81386651 0.79919448 0.78423475 0.78394707 0.79718067 0.79171461\n",
            " 0.81329114 0.78653625 0.79976985 0.8118527  0.8406214  0.84838895\n",
            " 0.84551208 0.84896433 0.8406214  0.82652474 0.82019563 0.8230725\n",
            " 0.8363061  0.82479862 0.8273878  0.84436133 0.81990794 0.81659126\n",
            " 0.80720478 0.79696572 0.78685379 0.77690357 0.76714885 0.75767738\n",
            " 0.74854398 0.73974621 0.73124629 0.72299254 0.71493566 0.70703828\n",
            " 0.6992771  0.69164497 0.68414688 0.67679852 0.66961914 0.6626305\n",
            " 0.65585065 0.6492936  0.64296639 0.63686961 0.63099742 0.62533909\n",
            " 0.61987954 0.61460084 0.60948473 0.60451245]\n",
            "29 day output [[0.59966624]]\n",
            "[[0.8165912628173828], [0.8072047829627991], [0.7969657182693481], [0.7868537902832031], [0.7769035696983337], [0.7671488523483276], [0.7576773762702942], [0.7485439777374268], [0.7397462129592896], [0.731246292591095], [0.7229925394058228], [0.7149356603622437], [0.7070382833480835], [0.6992771029472351], [0.6916449666023254], [0.6841468811035156], [0.6767985224723816], [0.6696191430091858], [0.6626304984092712], [0.6558506488800049], [0.6492936015129089], [0.6429663896560669], [0.6368696093559265], [0.6309974193572998], [0.6253390908241272], [0.6198795437812805], [0.6146008372306824], [0.6094847321510315], [0.6045124530792236], [0.5996662378311157]]\n"
          ]
        }
      ]
    },
    {
      "cell_type": "code",
      "source": [
        "day_new=np.arange(1,101)\n",
        "day_pred=np.arange(101,131)"
      ],
      "metadata": {
        "id": "wxICjOsmTw1I"
      },
      "execution_count": null,
      "outputs": []
    },
    {
      "cell_type": "code",
      "source": [
        "len(df1)"
      ],
      "metadata": {
        "colab": {
          "base_uri": "https://localhost:8080/"
        },
        "id": "4b-6qynIUIn4",
        "outputId": "eaf8e6d3-b03c-4ff9-b9a2-54f42484dbe1"
      },
      "execution_count": null,
      "outputs": [
        {
          "output_type": "execute_result",
          "data": {
            "text/plain": [
              "1257"
            ]
          },
          "metadata": {},
          "execution_count": 119
        }
      ]
    },
    {
      "cell_type": "code",
      "source": [
        "import matplotlib.pyplot as plt\n",
        "plt.plot(day_new,scaler.inverse_transform(df1[1157:]))\n",
        "plt.plot(day_pred,scaler.inverse_transform(lst_output))"
      ],
      "metadata": {
        "colab": {
          "base_uri": "https://localhost:8080/",
          "height": 447
        },
        "id": "SDa13yAhT5o2",
        "outputId": "4ed1716f-68f6-472e-f5c8-6ab07ee828cb"
      },
      "execution_count": null,
      "outputs": [
        {
          "output_type": "execute_result",
          "data": {
            "text/plain": [
              "[<matplotlib.lines.Line2D at 0x7ad3beaa4cd0>]"
            ]
          },
          "metadata": {},
          "execution_count": 120
        },
        {
          "output_type": "display_data",
          "data": {
            "text/plain": [
              "<Figure size 640x480 with 1 Axes>"
            ],
            "image/png": "[encoded data removed]"
          },
          "metadata": {}
        }
      ]
    },
    {
      "cell_type": "code",
      "source": [
        "df3=df1.tolist()\n",
        "df3.extend(lst_output)\n",
        "plt.plot(df3[1200:])"
      ],
      "metadata": {
        "colab": {
          "base_uri": "https://localhost:8080/",
          "height": 447
        },
        "id": "SvtNiQ4PT8gs",
        "outputId": "c98c8f73-d603-41f0-ac39-572acbfc3489"
      },
      "execution_count": null,
      "outputs": [
        {
          "output_type": "execute_result",
          "data": {
            "text/plain": [
              "[<matplotlib.lines.Line2D at 0x7ad3bea22e30>]"
            ]
          },
          "metadata": {},
          "execution_count": 121
        },
        {
          "output_type": "display_data",
          "data": {
            "text/plain": [
              "<Figure size 640x480 with 1 Axes>"
            ],
            "image/png": "[encoded data removed]"
          },
          "metadata": {}
        }
      ]
    },
    {
      "cell_type": "code",
      "source": [
        "df3=scaler.inverse_transform(df3).tolist()"
      ],
      "metadata": {
        "id": "WunwhjaLUOjZ"
      },
      "execution_count": null,
      "outputs": []
    },
    {
      "cell_type": "code",
      "source": [
        "plt.plot(df3)"
      ],
      "metadata": {
        "colab": {
          "base_uri": "https://localhost:8080/",
          "height": 447
        },
        "id": "_WfHRO0BURZi",
        "outputId": "9478cfca-760c-4a07-8f70-469ed681d116"
      },
      "execution_count": null,
      "outputs": [
        {
          "output_type": "execute_result",
          "data": {
            "text/plain": [
              "[<matplotlib.lines.Line2D at 0x7ad3bea5cf40>]"
            ]
          },
          "metadata": {},
          "execution_count": 123
        },
        {
          "output_type": "display_data",
          "data": {
            "text/plain": [
              "<Figure size 640x480 with 1 Axes>"
            ],
            "image/png": "[encoded data removed]"
          },
          "metadata": {}
        }
      ]
    },
    {
      "cell_type": "markdown",
      "source": [
        "# **LSTM + Dense Nureal**"
      ],
      "metadata": {
        "id": "GCIRKSEGS7O2"
      }
    },
    {
      "cell_type": "code",
      "source": [
        "model_combined = Sequential()\n",
        "model_combined.add(LSTM(50, return_sequences=True, input_shape=(100, 1)))\n",
        "model_combined.add(LSTM(50, return_sequences=True))\n",
        "model_combined.add(LSTM(50))\n",
        "model_combined.add(Dense(50, activation='relu'))  # Add a dense layer\n",
        "model_combined.add(Dense(1))\n",
        "model_combined.compile(loss='mean_squared_error', optimizer='adam')"
      ],
      "metadata": {
        "id": "bbVcRFpcRsSt"
      },
      "execution_count": null,
      "outputs": []
    },
    {
      "cell_type": "code",
      "source": [
        "model_combined.fit(X_train, y_train, validation_data=(X_test, ytest), epochs=100, batch_size=64, verbose=1)"
      ],
      "metadata": {
        "colab": {
          "base_uri": "https://localhost:8080/"
        },
        "id": "Uip64KLYTTD9",
        "outputId": "f6be9c75-9471-48b9-ec42-935a55a434ce"
      },
      "execution_count": null,
      "outputs": [
        {
          "output_type": "stream",
          "name": "stdout",
          "text": [
            "Epoch 1/100\n",
            "15/15 [==============================] - 13s 446ms/step - loss: 0.1308 - val_loss: 0.0299\n",
            "Epoch 2/100\n",
            "15/15 [==============================] - 2s 160ms/step - loss: 0.0160 - val_loss: 0.0030\n",
            "Epoch 3/100\n",
            "15/15 [==============================] - 2s 159ms/step - loss: 0.0090 - val_loss: 0.0019\n",
            "Epoch 4/100\n",
            "15/15 [==============================] - 2s 159ms/step - loss: 0.0061 - val_loss: 0.0019\n",
            "Epoch 5/100\n",
            "15/15 [==============================] - 4s 239ms/step - loss: 0.0046 - val_loss: 0.0016\n",
            "Epoch 6/100\n",
            "15/15 [==============================] - 2s 157ms/step - loss: 0.0044 - val_loss: 0.0026\n",
            "Epoch 7/100\n",
            "15/15 [==============================] - 2s 161ms/step - loss: 0.0043 - val_loss: 0.0014\n",
            "Epoch 8/100\n",
            "15/15 [==============================] - 2s 159ms/step - loss: 0.0042 - val_loss: 0.0023\n",
            "Epoch 9/100\n",
            "15/15 [==============================] - 2s 162ms/step - loss: 0.0044 - val_loss: 0.0017\n",
            "Epoch 10/100\n",
            "15/15 [==============================] - 3s 237ms/step - loss: 0.0041 - val_loss: 0.0017\n",
            "Epoch 11/100\n",
            "15/15 [==============================] - 2s 159ms/step - loss: 0.0042 - val_loss: 0.0014\n",
            "Epoch 12/100\n",
            "15/15 [==============================] - 2s 162ms/step - loss: 0.0042 - val_loss: 0.0014\n",
            "Epoch 13/100\n",
            "15/15 [==============================] - 2s 163ms/step - loss: 0.0038 - val_loss: 0.0022\n",
            "Epoch 14/100\n",
            "15/15 [==============================] - 3s 176ms/step - loss: 0.0036 - val_loss: 0.0012\n",
            "Epoch 15/100\n",
            "15/15 [==============================] - 3s 216ms/step - loss: 0.0036 - val_loss: 0.0017\n",
            "Epoch 16/100\n",
            "15/15 [==============================] - 2s 159ms/step - loss: 0.0034 - val_loss: 0.0011\n",
            "Epoch 17/100\n",
            "15/15 [==============================] - 2s 161ms/step - loss: 0.0033 - val_loss: 0.0011\n",
            "Epoch 18/100\n",
            "15/15 [==============================] - 2s 163ms/step - loss: 0.0033 - val_loss: 0.0012\n",
            "Epoch 19/100\n",
            "15/15 [==============================] - 3s 211ms/step - loss: 0.0031 - val_loss: 0.0012\n",
            "Epoch 20/100\n",
            "15/15 [==============================] - 3s 179ms/step - loss: 0.0032 - val_loss: 0.0017\n",
            "Epoch 21/100\n",
            "15/15 [==============================] - 2s 159ms/step - loss: 0.0031 - val_loss: 0.0011\n",
            "Epoch 22/100\n",
            "15/15 [==============================] - 2s 159ms/step - loss: 0.0029 - val_loss: 0.0058\n",
            "Epoch 23/100\n",
            "15/15 [==============================] - 2s 161ms/step - loss: 0.0037 - val_loss: 0.0027\n",
            "Epoch 24/100\n",
            "15/15 [==============================] - 3s 230ms/step - loss: 0.0031 - val_loss: 0.0030\n",
            "Epoch 25/100\n",
            "15/15 [==============================] - 2s 159ms/step - loss: 0.0036 - val_loss: 0.0048\n",
            "Epoch 26/100\n",
            "15/15 [==============================] - 2s 163ms/step - loss: 0.0035 - val_loss: 0.0019\n",
            "Epoch 27/100\n",
            "15/15 [==============================] - 2s 164ms/step - loss: 0.0033 - val_loss: 0.0017\n",
            "Epoch 28/100\n",
            "15/15 [==============================] - 2s 160ms/step - loss: 0.0028 - val_loss: 8.1552e-04\n",
            "Epoch 29/100\n",
            "15/15 [==============================] - 3s 236ms/step - loss: 0.0025 - val_loss: 0.0014\n",
            "Epoch 30/100\n",
            "15/15 [==============================] - 2s 163ms/step - loss: 0.0025 - val_loss: 0.0014\n",
            "Epoch 31/100\n",
            "15/15 [==============================] - 2s 161ms/step - loss: 0.0024 - val_loss: 7.7531e-04\n",
            "Epoch 32/100\n",
            "15/15 [==============================] - 2s 161ms/step - loss: 0.0025 - val_loss: 7.0872e-04\n",
            "Epoch 33/100\n",
            "15/15 [==============================] - 3s 174ms/step - loss: 0.0023 - val_loss: 8.2436e-04\n",
            "Epoch 34/100\n",
            "15/15 [==============================] - 3s 219ms/step - loss: 0.0024 - val_loss: 6.5756e-04\n",
            "Epoch 35/100\n",
            "15/15 [==============================] - 2s 160ms/step - loss: 0.0023 - val_loss: 6.4959e-04\n",
            "Epoch 36/100\n",
            "15/15 [==============================] - 2s 157ms/step - loss: 0.0024 - val_loss: 6.7758e-04\n",
            "Epoch 37/100\n",
            "15/15 [==============================] - 2s 161ms/step - loss: 0.0020 - val_loss: 0.0025\n",
            "Epoch 38/100\n",
            "15/15 [==============================] - 3s 185ms/step - loss: 0.0026 - val_loss: 0.0019\n",
            "Epoch 39/100\n",
            "15/15 [==============================] - 4s 272ms/step - loss: 0.0021 - val_loss: 6.3562e-04\n",
            "Epoch 40/100\n",
            "15/15 [==============================] - 2s 162ms/step - loss: 0.0019 - val_loss: 0.0011\n",
            "Epoch 41/100\n",
            "15/15 [==============================] - 2s 161ms/step - loss: 0.0019 - val_loss: 8.9915e-04\n",
            "Epoch 42/100\n",
            "15/15 [==============================] - 2s 166ms/step - loss: 0.0019 - val_loss: 5.5272e-04\n",
            "Epoch 43/100\n",
            "15/15 [==============================] - 4s 240ms/step - loss: 0.0019 - val_loss: 5.5503e-04\n",
            "Epoch 44/100\n",
            "15/15 [==============================] - 2s 160ms/step - loss: 0.0019 - val_loss: 5.8178e-04\n",
            "Epoch 45/100\n",
            "15/15 [==============================] - 2s 158ms/step - loss: 0.0018 - val_loss: 7.0510e-04\n",
            "Epoch 46/100\n",
            "15/15 [==============================] - 2s 160ms/step - loss: 0.0017 - val_loss: 0.0012\n",
            "Epoch 47/100\n",
            "15/15 [==============================] - 2s 167ms/step - loss: 0.0017 - val_loss: 5.4658e-04\n",
            "Epoch 48/100\n",
            "15/15 [==============================] - 3s 228ms/step - loss: 0.0017 - val_loss: 6.1484e-04\n",
            "Epoch 49/100\n",
            "15/15 [==============================] - 2s 159ms/step - loss: 0.0016 - val_loss: 5.2439e-04\n",
            "Epoch 50/100\n",
            "15/15 [==============================] - 2s 160ms/step - loss: 0.0017 - val_loss: 5.8795e-04\n",
            "Epoch 51/100\n",
            "15/15 [==============================] - 2s 161ms/step - loss: 0.0016 - val_loss: 6.7107e-04\n",
            "Epoch 52/100\n",
            "15/15 [==============================] - 3s 196ms/step - loss: 0.0016 - val_loss: 4.9809e-04\n",
            "Epoch 53/100\n",
            "15/15 [==============================] - 3s 199ms/step - loss: 0.0017 - val_loss: 5.2564e-04\n",
            "Epoch 54/100\n",
            "15/15 [==============================] - 2s 162ms/step - loss: 0.0015 - val_loss: 7.2970e-04\n",
            "Epoch 55/100\n",
            "15/15 [==============================] - 2s 161ms/step - loss: 0.0017 - val_loss: 4.9338e-04\n",
            "Epoch 56/100\n",
            "15/15 [==============================] - 2s 159ms/step - loss: 0.0015 - val_loss: 6.4347e-04\n",
            "Epoch 57/100\n",
            "15/15 [==============================] - 3s 224ms/step - loss: 0.0014 - val_loss: 0.0013\n",
            "Epoch 58/100\n",
            "15/15 [==============================] - 3s 171ms/step - loss: 0.0016 - val_loss: 0.0013\n",
            "Epoch 59/100\n",
            "15/15 [==============================] - 2s 163ms/step - loss: 0.0015 - val_loss: 4.8890e-04\n",
            "Epoch 60/100\n",
            "15/15 [==============================] - 2s 160ms/step - loss: 0.0014 - val_loss: 8.7263e-04\n",
            "Epoch 61/100\n",
            "15/15 [==============================] - 2s 160ms/step - loss: 0.0016 - val_loss: 8.3089e-04\n",
            "Epoch 62/100\n",
            "15/15 [==============================] - 3s 237ms/step - loss: 0.0014 - val_loss: 6.9462e-04\n",
            "Epoch 63/100\n",
            "15/15 [==============================] - 3s 167ms/step - loss: 0.0014 - val_loss: 7.9756e-04\n",
            "Epoch 64/100\n",
            "15/15 [==============================] - 2s 162ms/step - loss: 0.0014 - val_loss: 4.9650e-04\n",
            "Epoch 65/100\n",
            "15/15 [==============================] - 3s 175ms/step - loss: 0.0013 - val_loss: 6.2777e-04\n",
            "Epoch 66/100\n",
            "15/15 [==============================] - 3s 171ms/step - loss: 0.0012 - val_loss: 4.9985e-04\n",
            "Epoch 67/100\n",
            "15/15 [==============================] - 3s 220ms/step - loss: 0.0013 - val_loss: 8.1346e-04\n",
            "Epoch 68/100\n",
            "15/15 [==============================] - 2s 163ms/step - loss: 0.0014 - val_loss: 8.6559e-04\n",
            "Epoch 69/100\n",
            "15/15 [==============================] - 2s 163ms/step - loss: 0.0013 - val_loss: 6.4463e-04\n",
            "Epoch 70/100\n",
            "15/15 [==============================] - 2s 163ms/step - loss: 0.0012 - val_loss: 4.6119e-04\n",
            "Epoch 71/100\n",
            "15/15 [==============================] - 3s 213ms/step - loss: 0.0013 - val_loss: 0.0018\n",
            "Epoch 72/100\n",
            "15/15 [==============================] - 3s 183ms/step - loss: 0.0014 - val_loss: 4.9461e-04\n",
            "Epoch 73/100\n",
            "15/15 [==============================] - 2s 159ms/step - loss: 0.0011 - val_loss: 7.5654e-04\n",
            "Epoch 74/100\n",
            "15/15 [==============================] - 2s 162ms/step - loss: 0.0012 - val_loss: 8.8811e-04\n",
            "Epoch 75/100\n",
            "15/15 [==============================] - 2s 164ms/step - loss: 0.0012 - val_loss: 4.7892e-04\n",
            "Epoch 76/100\n",
            "15/15 [==============================] - 4s 242ms/step - loss: 0.0011 - val_loss: 8.1715e-04\n",
            "Epoch 77/100\n",
            "15/15 [==============================] - 2s 162ms/step - loss: 0.0012 - val_loss: 0.0011\n",
            "Epoch 78/100\n",
            "15/15 [==============================] - 2s 163ms/step - loss: 0.0013 - val_loss: 4.5454e-04\n",
            "Epoch 79/100\n",
            "15/15 [==============================] - 2s 162ms/step - loss: 0.0011 - val_loss: 5.1282e-04\n",
            "Epoch 80/100\n",
            "15/15 [==============================] - 2s 161ms/step - loss: 0.0012 - val_loss: 4.8897e-04\n",
            "Epoch 81/100\n",
            "15/15 [==============================] - 4s 241ms/step - loss: 0.0011 - val_loss: 0.0022\n",
            "Epoch 82/100\n",
            "15/15 [==============================] - 2s 164ms/step - loss: 0.0016 - val_loss: 4.3166e-04\n",
            "Epoch 83/100\n",
            "15/15 [==============================] - 2s 162ms/step - loss: 0.0010 - val_loss: 7.8354e-04\n",
            "Epoch 84/100\n",
            "15/15 [==============================] - 2s 162ms/step - loss: 0.0010 - val_loss: 4.5745e-04\n",
            "Epoch 85/100\n",
            "15/15 [==============================] - 3s 182ms/step - loss: 9.6511e-04 - val_loss: 9.5212e-04\n",
            "Epoch 86/100\n",
            "15/15 [==============================] - 3s 213ms/step - loss: 9.9937e-04 - val_loss: 5.7842e-04\n",
            "Epoch 87/100\n",
            "15/15 [==============================] - 2s 160ms/step - loss: 0.0010 - val_loss: 8.1419e-04\n",
            "Epoch 88/100\n",
            "15/15 [==============================] - 2s 163ms/step - loss: 0.0011 - val_loss: 7.3219e-04\n",
            "Epoch 89/100\n",
            "15/15 [==============================] - 2s 158ms/step - loss: 0.0011 - val_loss: 4.1385e-04\n",
            "Epoch 90/100\n",
            "15/15 [==============================] - 3s 210ms/step - loss: 9.3692e-04 - val_loss: 5.5884e-04\n",
            "Epoch 91/100\n",
            "15/15 [==============================] - 3s 184ms/step - loss: 9.8729e-04 - val_loss: 3.9934e-04\n",
            "Epoch 92/100\n",
            "15/15 [==============================] - 2s 164ms/step - loss: 9.7172e-04 - val_loss: 7.4104e-04\n",
            "Epoch 93/100\n",
            "15/15 [==============================] - 2s 161ms/step - loss: 0.0010 - val_loss: 3.9406e-04\n",
            "Epoch 94/100\n",
            "15/15 [==============================] - 3s 167ms/step - loss: 8.9375e-04 - val_loss: 3.9176e-04\n",
            "Epoch 95/100\n",
            "15/15 [==============================] - 4s 240ms/step - loss: 8.7105e-04 - val_loss: 6.6749e-04\n",
            "Epoch 96/100\n",
            "15/15 [==============================] - 2s 161ms/step - loss: 8.7412e-04 - val_loss: 3.7019e-04\n",
            "Epoch 97/100\n",
            "15/15 [==============================] - 2s 163ms/step - loss: 8.5838e-04 - val_loss: 3.9791e-04\n",
            "Epoch 98/100\n",
            "15/15 [==============================] - 2s 161ms/step - loss: 9.3508e-04 - val_loss: 0.0011\n",
            "Epoch 99/100\n",
            "15/15 [==============================] - 2s 159ms/step - loss: 0.0011 - val_loss: 0.0015\n",
            "Epoch 100/100\n",
            "15/15 [==============================] - 3s 236ms/step - loss: 0.0013 - val_loss: 3.5998e-04\n"
          ]
        },
        {
          "output_type": "execute_result",
          "data": {
            "text/plain": [
              "<keras.src.callbacks.History at 0x7ad3caa14220>"
            ]
          },
          "metadata": {},
          "execution_count": 72
        }
      ]
    },
    {
      "cell_type": "code",
      "source": [
        "train_predict_combined = model_combined.predict(X_train)\n",
        "test_predict_combined = model_combined.predict(X_test)"
      ],
      "metadata": {
        "colab": {
          "base_uri": "https://localhost:8080/"
        },
        "id": "XR6NLvPkTWxY",
        "outputId": "43253e54-8167-4b4c-cd42-b2f3f2af2eaa"
      },
      "execution_count": null,
      "outputs": [
        {
          "output_type": "stream",
          "name": "stdout",
          "text": [
            "29/29 [==============================] - 2s 34ms/step\n",
            "5/5 [==============================] - 0s 31ms/step\n"
          ]
        }
      ]
    },
    {
      "cell_type": "code",
      "source": [
        "train_predict_combined = scaler.inverse_transform(train_predict_combined)\n",
        "test_predict_combined = scaler.inverse_transform(test_predict_combined)"
      ],
      "metadata": {
        "id": "qXVyytVdTc5c"
      },
      "execution_count": null,
      "outputs": []
    },
    {
      "cell_type": "code",
      "source": [
        "rmse_train_combined = np.sqrt(mean_squared_error(y_train, train_predict_combined))\n",
        "rmse_test_combined = np.sqrt(mean_squared_error(ytest, test_predict_combined))"
      ],
      "metadata": {
        "id": "IgomiDYqTjhb"
      },
      "execution_count": null,
      "outputs": []
    },
    {
      "cell_type": "code",
      "source": [
        "print(rmse_train_combined)\n",
        "print(rmse_test_combined)"
      ],
      "metadata": {
        "colab": {
          "base_uri": "https://localhost:8080/"
        },
        "id": "dSJXegaVTmWe",
        "outputId": "0beae492-8cb5-4d3f-be83-a08bd9131e22"
      },
      "execution_count": null,
      "outputs": [
        {
          "output_type": "stream",
          "name": "stdout",
          "text": [
            "39.52691600583052\n",
            "39.35552701324161\n"
          ]
        }
      ]
    },
    {
      "cell_type": "markdown",
      "source": [
        "# **Stacked LSTMs with Regularization**"
      ],
      "metadata": {
        "id": "w263pS_KuYrE"
      }
    },
    {
      "cell_type": "code",
      "source": [
        "from tensorflow.keras.layers import Dropout\n",
        "\n",
        "# Define the LSTM model with dropout layers\n",
        "model_lstm_dropout = Sequential()\n",
        "model_lstm_dropout.add(LSTM(50, return_sequences=True, input_shape=(100, 1)))\n",
        "model_lstm_dropout.add(Dropout(0.2))  # Dropout layer to prevent overfitting\n",
        "model_lstm_dropout.add(LSTM(50, return_sequences=True))\n",
        "model_lstm_dropout.add(Dropout(0.2))\n",
        "model_lstm_dropout.add(LSTM(50))\n",
        "model_lstm_dropout.add(Dense(1))\n",
        "model_lstm_dropout.compile(loss='mean_squared_error', optimizer='adam')\n"
      ],
      "metadata": {
        "id": "YOvJffv4VDQD"
      },
      "execution_count": null,
      "outputs": []
    },
    {
      "cell_type": "code",
      "source": [
        "model_lstm_dropout.fit(X_train,y_train,validation_data=(X_test,ytest),epochs=100,batch_size=64,verbose=1)"
      ],
      "metadata": {
        "colab": {
          "base_uri": "https://localhost:8080/"
        },
        "id": "uQzB46i1z33T",
        "outputId": "d58484ee-1601-4a68-f98d-80e5e8f85ede"
      },
      "execution_count": null,
      "outputs": [
        {
          "output_type": "stream",
          "name": "stdout",
          "text": [
            "Epoch 1/100\n",
            "15/15 [==============================] - 11s 252ms/step - loss: 0.0785 - val_loss: 0.0386\n",
            "Epoch 2/100\n",
            "15/15 [==============================] - 3s 169ms/step - loss: 0.0154 - val_loss: 0.0028\n",
            "Epoch 3/100\n",
            "15/15 [==============================] - 3s 168ms/step - loss: 0.0078 - val_loss: 0.0017\n",
            "Epoch 4/100\n",
            "15/15 [==============================] - 4s 246ms/step - loss: 0.0057 - val_loss: 0.0015\n",
            "Epoch 5/100\n",
            "15/15 [==============================] - 3s 168ms/step - loss: 0.0048 - val_loss: 0.0019\n",
            "Epoch 6/100\n",
            "15/15 [==============================] - 2s 166ms/step - loss: 0.0048 - val_loss: 0.0023\n",
            "Epoch 7/100\n",
            "15/15 [==============================] - 3s 166ms/step - loss: 0.0047 - val_loss: 0.0013\n",
            "Epoch 8/100\n",
            "15/15 [==============================] - 3s 213ms/step - loss: 0.0046 - val_loss: 0.0012\n",
            "Epoch 9/100\n",
            "15/15 [==============================] - 3s 207ms/step - loss: 0.0045 - val_loss: 0.0014\n",
            "Epoch 10/100\n",
            "15/15 [==============================] - 3s 169ms/step - loss: 0.0044 - val_loss: 0.0016\n",
            "Epoch 11/100\n",
            "15/15 [==============================] - 2s 165ms/step - loss: 0.0043 - val_loss: 0.0013\n",
            "Epoch 12/100\n",
            "15/15 [==============================] - 3s 172ms/step - loss: 0.0041 - val_loss: 0.0012\n",
            "Epoch 13/100\n",
            "15/15 [==============================] - 4s 245ms/step - loss: 0.0041 - val_loss: 0.0011\n",
            "Epoch 14/100\n",
            "15/15 [==============================] - 3s 168ms/step - loss: 0.0040 - val_loss: 0.0014\n",
            "Epoch 15/100\n",
            "15/15 [==============================] - 3s 169ms/step - loss: 0.0038 - val_loss: 0.0016\n",
            "Epoch 16/100\n",
            "15/15 [==============================] - 3s 171ms/step - loss: 0.0040 - val_loss: 0.0012\n",
            "Epoch 17/100\n",
            "15/15 [==============================] - 3s 188ms/step - loss: 0.0038 - val_loss: 0.0011\n",
            "Epoch 18/100\n",
            "15/15 [==============================] - 3s 220ms/step - loss: 0.0037 - val_loss: 0.0013\n",
            "Epoch 19/100\n",
            "15/15 [==============================] - 3s 173ms/step - loss: 0.0035 - val_loss: 0.0010\n",
            "Epoch 20/100\n",
            "15/15 [==============================] - 3s 167ms/step - loss: 0.0037 - val_loss: 0.0013\n",
            "Epoch 21/100\n",
            "15/15 [==============================] - 3s 170ms/step - loss: 0.0036 - val_loss: 9.4321e-04\n",
            "Epoch 22/100\n",
            "15/15 [==============================] - 4s 250ms/step - loss: 0.0034 - val_loss: 9.9381e-04\n",
            "Epoch 23/100\n",
            "15/15 [==============================] - 3s 170ms/step - loss: 0.0034 - val_loss: 0.0012\n",
            "Epoch 24/100\n",
            "15/15 [==============================] - 3s 170ms/step - loss: 0.0035 - val_loss: 9.6161e-04\n",
            "Epoch 25/100\n",
            "15/15 [==============================] - 3s 175ms/step - loss: 0.0032 - val_loss: 8.7448e-04\n",
            "Epoch 26/100\n",
            "15/15 [==============================] - 3s 181ms/step - loss: 0.0035 - val_loss: 0.0012\n",
            "Epoch 27/100\n",
            "15/15 [==============================] - 3s 219ms/step - loss: 0.0034 - val_loss: 8.0697e-04\n",
            "Epoch 28/100\n",
            "15/15 [==============================] - 2s 167ms/step - loss: 0.0030 - val_loss: 7.7627e-04\n",
            "Epoch 29/100\n",
            "15/15 [==============================] - 2s 165ms/step - loss: 0.0030 - val_loss: 9.4455e-04\n",
            "Epoch 30/100\n",
            "15/15 [==============================] - 3s 170ms/step - loss: 0.0029 - val_loss: 0.0028\n",
            "Epoch 31/100\n",
            "15/15 [==============================] - 3s 229ms/step - loss: 0.0030 - val_loss: 7.4599e-04\n",
            "Epoch 32/100\n",
            "15/15 [==============================] - 3s 178ms/step - loss: 0.0032 - val_loss: 6.9651e-04\n",
            "Epoch 33/100\n",
            "15/15 [==============================] - 2s 167ms/step - loss: 0.0029 - val_loss: 7.2192e-04\n",
            "Epoch 34/100\n",
            "15/15 [==============================] - 2s 167ms/step - loss: 0.0028 - val_loss: 6.7570e-04\n",
            "Epoch 35/100\n",
            "15/15 [==============================] - 3s 168ms/step - loss: 0.0026 - val_loss: 6.8306e-04\n",
            "Epoch 36/100\n",
            "15/15 [==============================] - 4s 250ms/step - loss: 0.0026 - val_loss: 6.8370e-04\n",
            "Epoch 37/100\n",
            "15/15 [==============================] - 3s 173ms/step - loss: 0.0026 - val_loss: 0.0016\n",
            "Epoch 38/100\n",
            "15/15 [==============================] - 3s 168ms/step - loss: 0.0026 - val_loss: 5.9312e-04\n",
            "Epoch 39/100\n",
            "15/15 [==============================] - 3s 178ms/step - loss: 0.0030 - val_loss: 7.6964e-04\n",
            "Epoch 40/100\n",
            "15/15 [==============================] - 3s 227ms/step - loss: 0.0025 - val_loss: 0.0017\n",
            "Epoch 41/100\n",
            "15/15 [==============================] - 3s 184ms/step - loss: 0.0029 - val_loss: 7.0331e-04\n",
            "Epoch 42/100\n",
            "15/15 [==============================] - 3s 172ms/step - loss: 0.0027 - val_loss: 7.2027e-04\n",
            "Epoch 43/100\n",
            "15/15 [==============================] - 2s 166ms/step - loss: 0.0026 - val_loss: 7.1742e-04\n",
            "Epoch 44/100\n",
            "15/15 [==============================] - 2s 166ms/step - loss: 0.0027 - val_loss: 7.8321e-04\n",
            "Epoch 45/100\n",
            "15/15 [==============================] - 4s 241ms/step - loss: 0.0027 - val_loss: 0.0016\n",
            "Epoch 46/100\n",
            "15/15 [==============================] - 3s 169ms/step - loss: 0.0025 - val_loss: 6.1317e-04\n",
            "Epoch 47/100\n",
            "15/15 [==============================] - 3s 168ms/step - loss: 0.0024 - val_loss: 8.2178e-04\n",
            "Epoch 48/100\n",
            "15/15 [==============================] - 3s 172ms/step - loss: 0.0023 - val_loss: 5.1869e-04\n",
            "Epoch 49/100\n",
            "15/15 [==============================] - 3s 220ms/step - loss: 0.0021 - val_loss: 5.6328e-04\n",
            "Epoch 50/100\n",
            "15/15 [==============================] - 3s 187ms/step - loss: 0.0020 - val_loss: 7.3512e-04\n",
            "Epoch 51/100\n",
            "15/15 [==============================] - 3s 169ms/step - loss: 0.0020 - val_loss: 6.6792e-04\n",
            "Epoch 52/100\n",
            "15/15 [==============================] - 2s 167ms/step - loss: 0.0021 - val_loss: 5.0512e-04\n",
            "Epoch 53/100\n",
            "15/15 [==============================] - 3s 168ms/step - loss: 0.0020 - val_loss: 6.9118e-04\n",
            "Epoch 54/100\n",
            "15/15 [==============================] - 4s 249ms/step - loss: 0.0022 - val_loss: 0.0011\n",
            "Epoch 55/100\n",
            "15/15 [==============================] - 3s 170ms/step - loss: 0.0022 - val_loss: 6.6791e-04\n",
            "Epoch 56/100\n",
            "15/15 [==============================] - 3s 170ms/step - loss: 0.0021 - val_loss: 0.0013\n",
            "Epoch 57/100\n",
            "15/15 [==============================] - 3s 168ms/step - loss: 0.0022 - val_loss: 5.1629e-04\n",
            "Epoch 58/100\n",
            "15/15 [==============================] - 3s 204ms/step - loss: 0.0021 - val_loss: 4.9463e-04\n",
            "Epoch 59/100\n",
            "15/15 [==============================] - 3s 205ms/step - loss: 0.0018 - val_loss: 5.0043e-04\n",
            "Epoch 60/100\n",
            "15/15 [==============================] - 3s 174ms/step - loss: 0.0018 - val_loss: 8.0461e-04\n",
            "Epoch 61/100\n",
            "15/15 [==============================] - 3s 173ms/step - loss: 0.0018 - val_loss: 5.0935e-04\n",
            "Epoch 62/100\n",
            "15/15 [==============================] - 3s 174ms/step - loss: 0.0018 - val_loss: 4.8158e-04\n",
            "Epoch 63/100\n",
            "15/15 [==============================] - 4s 244ms/step - loss: 0.0018 - val_loss: 5.1593e-04\n",
            "Epoch 64/100\n",
            "15/15 [==============================] - 3s 168ms/step - loss: 0.0018 - val_loss: 7.1061e-04\n",
            "Epoch 65/100\n",
            "15/15 [==============================] - 2s 166ms/step - loss: 0.0017 - val_loss: 7.7980e-04\n",
            "Epoch 66/100\n",
            "15/15 [==============================] - 3s 174ms/step - loss: 0.0019 - val_loss: 6.1927e-04\n",
            "Epoch 67/100\n",
            "15/15 [==============================] - 3s 205ms/step - loss: 0.0018 - val_loss: 4.6892e-04\n",
            "Epoch 68/100\n",
            "15/15 [==============================] - 3s 204ms/step - loss: 0.0017 - val_loss: 4.6832e-04\n",
            "Epoch 69/100\n",
            "15/15 [==============================] - 3s 169ms/step - loss: 0.0018 - val_loss: 9.1439e-04\n",
            "Epoch 70/100\n",
            "15/15 [==============================] - 3s 170ms/step - loss: 0.0018 - val_loss: 0.0011\n",
            "Epoch 71/100\n",
            "15/15 [==============================] - 3s 169ms/step - loss: 0.0018 - val_loss: 4.7091e-04\n",
            "Epoch 72/100\n",
            "15/15 [==============================] - 4s 245ms/step - loss: 0.0016 - val_loss: 5.7202e-04\n",
            "Epoch 73/100\n",
            "15/15 [==============================] - 3s 176ms/step - loss: 0.0016 - val_loss: 0.0022\n",
            "Epoch 74/100\n",
            "15/15 [==============================] - 3s 172ms/step - loss: 0.0020 - val_loss: 0.0020\n",
            "Epoch 75/100\n",
            "15/15 [==============================] - 2s 167ms/step - loss: 0.0020 - val_loss: 4.5739e-04\n",
            "Epoch 76/100\n",
            "15/15 [==============================] - 3s 189ms/step - loss: 0.0016 - val_loss: 4.8056e-04\n",
            "Epoch 77/100\n",
            "15/15 [==============================] - 3s 219ms/step - loss: 0.0014 - val_loss: 8.0081e-04\n",
            "Epoch 78/100\n",
            "15/15 [==============================] - 3s 174ms/step - loss: 0.0016 - val_loss: 7.9907e-04\n",
            "Epoch 79/100\n",
            "15/15 [==============================] - 3s 169ms/step - loss: 0.0015 - val_loss: 5.6408e-04\n",
            "Epoch 80/100\n",
            "15/15 [==============================] - 3s 169ms/step - loss: 0.0019 - val_loss: 0.0011\n",
            "Epoch 81/100\n",
            "15/15 [==============================] - 4s 268ms/step - loss: 0.0015 - val_loss: 9.8554e-04\n",
            "Epoch 82/100\n",
            "15/15 [==============================] - 5s 329ms/step - loss: 0.0015 - val_loss: 4.4116e-04\n",
            "Epoch 83/100\n",
            "15/15 [==============================] - 3s 168ms/step - loss: 0.0015 - val_loss: 4.5105e-04\n",
            "Epoch 84/100\n",
            "15/15 [==============================] - 3s 177ms/step - loss: 0.0014 - val_loss: 5.2794e-04\n",
            "Epoch 85/100\n",
            "15/15 [==============================] - 3s 227ms/step - loss: 0.0015 - val_loss: 4.8876e-04\n",
            "Epoch 86/100\n",
            "15/15 [==============================] - 3s 173ms/step - loss: 0.0015 - val_loss: 4.1643e-04\n",
            "Epoch 87/100\n",
            "15/15 [==============================] - 3s 169ms/step - loss: 0.0014 - val_loss: 0.0012\n",
            "Epoch 88/100\n",
            "15/15 [==============================] - 3s 171ms/step - loss: 0.0017 - val_loss: 9.4214e-04\n",
            "Epoch 89/100\n",
            "15/15 [==============================] - 4s 246ms/step - loss: 0.0016 - val_loss: 0.0016\n",
            "Epoch 90/100\n",
            "15/15 [==============================] - 3s 175ms/step - loss: 0.0016 - val_loss: 4.2929e-04\n",
            "Epoch 91/100\n",
            "15/15 [==============================] - 3s 172ms/step - loss: 0.0016 - val_loss: 5.6977e-04\n",
            "Epoch 92/100\n",
            "15/15 [==============================] - 3s 173ms/step - loss: 0.0015 - val_loss: 4.0190e-04\n",
            "Epoch 93/100\n",
            "15/15 [==============================] - 3s 184ms/step - loss: 0.0015 - val_loss: 9.0058e-04\n",
            "Epoch 94/100\n",
            "15/15 [==============================] - 3s 224ms/step - loss: 0.0015 - val_loss: 6.5777e-04\n",
            "Epoch 95/100\n",
            "15/15 [==============================] - 3s 167ms/step - loss: 0.0014 - val_loss: 3.9229e-04\n",
            "Epoch 96/100\n",
            "15/15 [==============================] - 3s 171ms/step - loss: 0.0013 - val_loss: 6.4805e-04\n",
            "Epoch 97/100\n",
            "15/15 [==============================] - 2s 166ms/step - loss: 0.0013 - val_loss: 4.1553e-04\n",
            "Epoch 98/100\n",
            "15/15 [==============================] - 4s 246ms/step - loss: 0.0013 - val_loss: 5.9365e-04\n",
            "Epoch 99/100\n",
            "15/15 [==============================] - 3s 166ms/step - loss: 0.0015 - val_loss: 6.1088e-04\n",
            "Epoch 100/100\n",
            "15/15 [==============================] - 3s 226ms/step - loss: 0.0013 - val_loss: 4.2960e-04\n"
          ]
        },
        {
          "output_type": "execute_result",
          "data": {
            "text/plain": [
              "<keras.src.callbacks.History at 0x7ad3c9c2f4f0>"
            ]
          },
          "metadata": {},
          "execution_count": 78
        }
      ]
    },
    {
      "cell_type": "code",
      "source": [
        "train_predict_dropout = model_lstm_dropout.predict(X_train)\n",
        "test_predict_dropout = model_lstm_dropout.predict(X_test)"
      ],
      "metadata": {
        "colab": {
          "base_uri": "https://localhost:8080/"
        },
        "id": "ssSRJy1W1BZU",
        "outputId": "448e9739-7621-4a58-fb47-a1abba1967ee"
      },
      "execution_count": null,
      "outputs": [
        {
          "output_type": "stream",
          "name": "stdout",
          "text": [
            "29/29 [==============================] - 3s 51ms/step\n",
            "5/5 [==============================] - 0s 32ms/step\n"
          ]
        }
      ]
    },
    {
      "cell_type": "code",
      "source": [
        "### Calculate RMSE performance metrics\n",
        "train_predict_dropout=scaler.inverse_transform(train_predict_dropout)\n",
        "test_predict_dropout=scaler.inverse_transform(test_predict_dropout)\n"
      ],
      "metadata": {
        "id": "jHSAkcik1fLP"
      },
      "execution_count": null,
      "outputs": []
    },
    {
      "cell_type": "code",
      "source": [
        "import math\n",
        "from sklearn.metrics import mean_squared_error\n",
        "rmse_train_lstm_drop = math.sqrt(mean_squared_error(y_train,train_predict_dropout))\n",
        "print(rmse_train_lstm_drop)\n",
        "rmse_test_lstm_drop = math.sqrt(mean_squared_error(ytest,test_predict_dropout))\n",
        "print(rmse_test_lstm_drop)"
      ],
      "metadata": {
        "colab": {
          "base_uri": "https://localhost:8080/"
        },
        "id": "kMW1g0Mb1oKK",
        "outputId": "a6453bff-99ec-4941-88ec-992387cb061f"
      },
      "execution_count": null,
      "outputs": [
        {
          "output_type": "stream",
          "name": "stdout",
          "text": [
            "39.47500748970615\n",
            "39.30781271156046\n"
          ]
        }
      ]
    },
    {
      "cell_type": "markdown",
      "source": [
        "# **CNN-LSTM Hybrid**"
      ],
      "metadata": {
        "id": "jNNStKn4udYX"
      }
    },
    {
      "cell_type": "code",
      "source": [
        "from tensorflow.keras.layers import Conv1D, MaxPooling1D\n",
        "\n",
        "# Define a CNN-LSTM hybrid model\n",
        "model_cnn_lstm = Sequential()\n",
        "model_cnn_lstm.add(Conv1D(filters=64, kernel_size=3, activation='relu', input_shape=(100, 1)))\n",
        "model_cnn_lstm.add(MaxPooling1D(pool_size=2))\n",
        "model_cnn_lstm.add(LSTM(50, return_sequences=True))\n",
        "model_cnn_lstm.add(LSTM(50))\n",
        "model_cnn_lstm.add(Dense(1))\n",
        "model_cnn_lstm.compile(loss='mean_squared_error', optimizer='adam')\n",
        "\n",
        "# Train and evaluate the model as before\n"
      ],
      "metadata": {
        "id": "i9RQV7FiuhTG"
      },
      "execution_count": null,
      "outputs": []
    },
    {
      "cell_type": "code",
      "source": [
        "model_cnn_lstm.fit(X_train,y_train,validation_data=(X_test,ytest),epochs=100,batch_size=64,verbose=1)"
      ],
      "metadata": {
        "colab": {
          "base_uri": "https://localhost:8080/"
        },
        "id": "vzpcfdd_-2lH",
        "outputId": "4a95b056-633e-4eda-ea06-44737d3a3743"
      },
      "execution_count": null,
      "outputs": [
        {
          "output_type": "stream",
          "name": "stdout",
          "text": [
            "Epoch 1/100\n",
            "15/15 [==============================] - 7s 132ms/step - loss: 0.0847 - val_loss: 0.0324\n",
            "Epoch 2/100\n",
            "15/15 [==============================] - 2s 106ms/step - loss: 0.0155 - val_loss: 0.0023\n",
            "Epoch 3/100\n",
            "15/15 [==============================] - 2s 110ms/step - loss: 0.0077 - val_loss: 0.0018\n",
            "Epoch 4/100\n",
            "15/15 [==============================] - 1s 70ms/step - loss: 0.0058 - val_loss: 0.0019\n",
            "Epoch 5/100\n",
            "15/15 [==============================] - 1s 68ms/step - loss: 0.0050 - val_loss: 0.0016\n",
            "Epoch 6/100\n",
            "15/15 [==============================] - 1s 69ms/step - loss: 0.0047 - val_loss: 0.0014\n",
            "Epoch 7/100\n",
            "15/15 [==============================] - 1s 68ms/step - loss: 0.0045 - val_loss: 0.0016\n",
            "Epoch 8/100\n",
            "15/15 [==============================] - 1s 68ms/step - loss: 0.0044 - val_loss: 0.0013\n",
            "Epoch 9/100\n",
            "15/15 [==============================] - 1s 67ms/step - loss: 0.0043 - val_loss: 0.0014\n",
            "Epoch 10/100\n",
            "15/15 [==============================] - 1s 67ms/step - loss: 0.0040 - val_loss: 0.0012\n",
            "Epoch 11/100\n",
            "15/15 [==============================] - 1s 68ms/step - loss: 0.0038 - val_loss: 0.0033\n",
            "Epoch 12/100\n",
            "15/15 [==============================] - 1s 68ms/step - loss: 0.0038 - val_loss: 0.0014\n",
            "Epoch 13/100\n",
            "15/15 [==============================] - 1s 85ms/step - loss: 0.0035 - val_loss: 0.0019\n",
            "Epoch 14/100\n",
            "15/15 [==============================] - 2s 111ms/step - loss: 0.0033 - val_loss: 0.0013\n",
            "Epoch 15/100\n",
            "15/15 [==============================] - 1s 79ms/step - loss: 0.0036 - val_loss: 0.0019\n",
            "Epoch 16/100\n",
            "15/15 [==============================] - 1s 67ms/step - loss: 0.0030 - val_loss: 0.0016\n",
            "Epoch 17/100\n",
            "15/15 [==============================] - 1s 71ms/step - loss: 0.0031 - val_loss: 9.6911e-04\n",
            "Epoch 18/100\n",
            "15/15 [==============================] - 1s 69ms/step - loss: 0.0028 - val_loss: 9.2877e-04\n",
            "Epoch 19/100\n",
            "15/15 [==============================] - 1s 67ms/step - loss: 0.0026 - val_loss: 8.9453e-04\n",
            "Epoch 20/100\n",
            "15/15 [==============================] - 1s 68ms/step - loss: 0.0025 - val_loss: 0.0011\n",
            "Epoch 21/100\n",
            "15/15 [==============================] - 1s 66ms/step - loss: 0.0024 - val_loss: 0.0017\n",
            "Epoch 22/100\n",
            "15/15 [==============================] - 1s 71ms/step - loss: 0.0023 - val_loss: 0.0011\n",
            "Epoch 23/100\n",
            "15/15 [==============================] - 1s 67ms/step - loss: 0.0022 - val_loss: 6.9289e-04\n",
            "Epoch 24/100\n",
            "15/15 [==============================] - 1s 68ms/step - loss: 0.0024 - val_loss: 6.4086e-04\n",
            "Epoch 25/100\n",
            "15/15 [==============================] - 2s 111ms/step - loss: 0.0020 - val_loss: 6.1139e-04\n",
            "Epoch 26/100\n",
            "15/15 [==============================] - 1s 95ms/step - loss: 0.0019 - val_loss: 0.0036\n",
            "Epoch 27/100\n",
            "15/15 [==============================] - 1s 67ms/step - loss: 0.0025 - val_loss: 0.0011\n",
            "Epoch 28/100\n",
            "15/15 [==============================] - 1s 69ms/step - loss: 0.0020 - val_loss: 0.0018\n",
            "Epoch 29/100\n",
            "15/15 [==============================] - 1s 69ms/step - loss: 0.0018 - val_loss: 5.6138e-04\n",
            "Epoch 30/100\n",
            "15/15 [==============================] - 1s 71ms/step - loss: 0.0017 - val_loss: 0.0011\n",
            "Epoch 31/100\n",
            "15/15 [==============================] - 1s 69ms/step - loss: 0.0016 - val_loss: 9.4384e-04\n",
            "Epoch 32/100\n",
            "15/15 [==============================] - 1s 71ms/step - loss: 0.0017 - val_loss: 5.8019e-04\n",
            "Epoch 33/100\n",
            "15/15 [==============================] - 1s 70ms/step - loss: 0.0019 - val_loss: 4.7358e-04\n",
            "Epoch 34/100\n",
            "15/15 [==============================] - 1s 70ms/step - loss: 0.0015 - val_loss: 0.0010\n",
            "Epoch 35/100\n",
            "15/15 [==============================] - 1s 67ms/step - loss: 0.0016 - val_loss: 5.8462e-04\n",
            "Epoch 36/100\n",
            "15/15 [==============================] - 1s 101ms/step - loss: 0.0014 - val_loss: 6.9226e-04\n",
            "Epoch 37/100\n",
            "15/15 [==============================] - 2s 107ms/step - loss: 0.0014 - val_loss: 4.2822e-04\n",
            "Epoch 38/100\n",
            "15/15 [==============================] - 1s 68ms/step - loss: 0.0013 - val_loss: 5.4057e-04\n",
            "Epoch 39/100\n",
            "15/15 [==============================] - 1s 69ms/step - loss: 0.0015 - val_loss: 0.0011\n",
            "Epoch 40/100\n",
            "15/15 [==============================] - 1s 67ms/step - loss: 0.0014 - val_loss: 4.0512e-04\n",
            "Epoch 41/100\n",
            "15/15 [==============================] - 1s 70ms/step - loss: 0.0013 - val_loss: 5.4106e-04\n",
            "Epoch 42/100\n",
            "15/15 [==============================] - 1s 74ms/step - loss: 0.0013 - val_loss: 0.0019\n",
            "Epoch 43/100\n",
            "15/15 [==============================] - 1s 68ms/step - loss: 0.0016 - val_loss: 0.0012\n",
            "Epoch 44/100\n",
            "15/15 [==============================] - 1s 69ms/step - loss: 0.0013 - val_loss: 9.2182e-04\n",
            "Epoch 45/100\n",
            "15/15 [==============================] - 1s 66ms/step - loss: 0.0012 - val_loss: 4.3491e-04\n",
            "Epoch 46/100\n",
            "15/15 [==============================] - 1s 67ms/step - loss: 0.0011 - val_loss: 7.2024e-04\n",
            "Epoch 47/100\n",
            "15/15 [==============================] - 1s 84ms/step - loss: 0.0011 - val_loss: 0.0016\n",
            "Epoch 48/100\n",
            "15/15 [==============================] - 2s 111ms/step - loss: 0.0012 - val_loss: 8.8205e-04\n",
            "Epoch 49/100\n",
            "15/15 [==============================] - 1s 77ms/step - loss: 0.0010 - val_loss: 3.8200e-04\n",
            "Epoch 50/100\n",
            "15/15 [==============================] - 1s 67ms/step - loss: 0.0011 - val_loss: 6.6548e-04\n",
            "Epoch 51/100\n",
            "15/15 [==============================] - 1s 72ms/step - loss: 0.0011 - val_loss: 3.6801e-04\n",
            "Epoch 52/100\n",
            "15/15 [==============================] - 1s 69ms/step - loss: 0.0010 - val_loss: 4.2414e-04\n",
            "Epoch 53/100\n",
            "15/15 [==============================] - 1s 69ms/step - loss: 9.6740e-04 - val_loss: 3.7972e-04\n",
            "Epoch 54/100\n",
            "15/15 [==============================] - 1s 69ms/step - loss: 0.0011 - val_loss: 3.7866e-04\n",
            "Epoch 55/100\n",
            "15/15 [==============================] - 1s 67ms/step - loss: 0.0010 - val_loss: 3.6718e-04\n",
            "Epoch 56/100\n",
            "15/15 [==============================] - 1s 67ms/step - loss: 8.8054e-04 - val_loss: 0.0010\n",
            "Epoch 57/100\n",
            "15/15 [==============================] - 1s 67ms/step - loss: 9.4449e-04 - val_loss: 3.3013e-04\n",
            "Epoch 58/100\n",
            "15/15 [==============================] - 1s 68ms/step - loss: 8.5794e-04 - val_loss: 6.2926e-04\n",
            "Epoch 59/100\n",
            "15/15 [==============================] - 2s 111ms/step - loss: 8.4089e-04 - val_loss: 5.0371e-04\n",
            "Epoch 60/100\n",
            "15/15 [==============================] - 1s 98ms/step - loss: 9.1791e-04 - val_loss: 3.3169e-04\n",
            "Epoch 61/100\n",
            "15/15 [==============================] - 1s 66ms/step - loss: 8.3862e-04 - val_loss: 4.9590e-04\n",
            "Epoch 62/100\n",
            "15/15 [==============================] - 1s 68ms/step - loss: 8.8544e-04 - val_loss: 3.1580e-04\n",
            "Epoch 63/100\n",
            "15/15 [==============================] - 1s 67ms/step - loss: 7.8915e-04 - val_loss: 3.7125e-04\n",
            "Epoch 64/100\n",
            "15/15 [==============================] - 1s 69ms/step - loss: 7.8801e-04 - val_loss: 3.5226e-04\n",
            "Epoch 65/100\n",
            "15/15 [==============================] - 1s 68ms/step - loss: 7.7023e-04 - val_loss: 3.5665e-04\n",
            "Epoch 66/100\n",
            "15/15 [==============================] - 1s 68ms/step - loss: 7.9227e-04 - val_loss: 4.4076e-04\n",
            "Epoch 67/100\n",
            "15/15 [==============================] - 1s 66ms/step - loss: 9.5575e-04 - val_loss: 3.4557e-04\n",
            "Epoch 68/100\n",
            "15/15 [==============================] - 1s 69ms/step - loss: 8.2450e-04 - val_loss: 3.9484e-04\n",
            "Epoch 69/100\n",
            "15/15 [==============================] - 1s 68ms/step - loss: 7.9282e-04 - val_loss: 3.9745e-04\n",
            "Epoch 70/100\n",
            "15/15 [==============================] - 1s 99ms/step - loss: 7.4203e-04 - val_loss: 3.8899e-04\n",
            "Epoch 71/100\n",
            "15/15 [==============================] - 2s 111ms/step - loss: 8.1347e-04 - val_loss: 7.4700e-04\n",
            "Epoch 72/100\n",
            "15/15 [==============================] - 1s 66ms/step - loss: 8.0859e-04 - val_loss: 0.0013\n",
            "Epoch 73/100\n",
            "15/15 [==============================] - 1s 69ms/step - loss: 0.0011 - val_loss: 5.9419e-04\n",
            "Epoch 74/100\n",
            "15/15 [==============================] - 1s 70ms/step - loss: 8.2116e-04 - val_loss: 3.5471e-04\n",
            "Epoch 75/100\n",
            "15/15 [==============================] - 1s 92ms/step - loss: 7.2819e-04 - val_loss: 0.0021\n",
            "Epoch 76/100\n",
            "15/15 [==============================] - 1s 94ms/step - loss: 0.0011 - val_loss: 4.6841e-04\n",
            "Epoch 77/100\n",
            "15/15 [==============================] - 1s 67ms/step - loss: 7.8610e-04 - val_loss: 3.0004e-04\n",
            "Epoch 78/100\n",
            "15/15 [==============================] - 1s 68ms/step - loss: 7.2157e-04 - val_loss: 4.8852e-04\n",
            "Epoch 79/100\n",
            "15/15 [==============================] - 1s 68ms/step - loss: 7.8660e-04 - val_loss: 5.2330e-04\n",
            "Epoch 80/100\n",
            "15/15 [==============================] - 1s 69ms/step - loss: 7.7804e-04 - val_loss: 5.3049e-04\n",
            "Epoch 81/100\n",
            "15/15 [==============================] - 2s 113ms/step - loss: 7.1425e-04 - val_loss: 5.3169e-04\n",
            "Epoch 82/100\n",
            "15/15 [==============================] - 1s 96ms/step - loss: 7.2002e-04 - val_loss: 4.0487e-04\n",
            "Epoch 83/100\n",
            "15/15 [==============================] - 1s 67ms/step - loss: 7.6767e-04 - val_loss: 3.2341e-04\n",
            "Epoch 84/100\n",
            "15/15 [==============================] - 1s 66ms/step - loss: 7.3241e-04 - val_loss: 3.7524e-04\n",
            "Epoch 85/100\n",
            "15/15 [==============================] - 1s 71ms/step - loss: 7.7016e-04 - val_loss: 3.4640e-04\n",
            "Epoch 86/100\n",
            "15/15 [==============================] - 1s 68ms/step - loss: 8.1891e-04 - val_loss: 0.0011\n",
            "Epoch 87/100\n",
            "15/15 [==============================] - 1s 68ms/step - loss: 8.1814e-04 - val_loss: 8.7860e-04\n",
            "Epoch 88/100\n",
            "15/15 [==============================] - 1s 67ms/step - loss: 8.2067e-04 - val_loss: 3.9054e-04\n",
            "Epoch 89/100\n",
            "15/15 [==============================] - 1s 66ms/step - loss: 7.1278e-04 - val_loss: 2.8805e-04\n",
            "Epoch 90/100\n",
            "15/15 [==============================] - 1s 69ms/step - loss: 6.8521e-04 - val_loss: 3.2459e-04\n",
            "Epoch 91/100\n",
            "15/15 [==============================] - 1s 68ms/step - loss: 6.9044e-04 - val_loss: 3.3984e-04\n",
            "Epoch 92/100\n",
            "15/15 [==============================] - 1s 90ms/step - loss: 8.5200e-04 - val_loss: 9.9552e-04\n",
            "Epoch 93/100\n",
            "15/15 [==============================] - 2s 113ms/step - loss: 8.0255e-04 - val_loss: 3.1959e-04\n",
            "Epoch 94/100\n",
            "15/15 [==============================] - 1s 72ms/step - loss: 7.2451e-04 - val_loss: 3.0240e-04\n",
            "Epoch 95/100\n",
            "15/15 [==============================] - 1s 68ms/step - loss: 6.7867e-04 - val_loss: 3.0114e-04\n",
            "Epoch 96/100\n",
            "15/15 [==============================] - 1s 70ms/step - loss: 6.9403e-04 - val_loss: 4.7377e-04\n",
            "Epoch 97/100\n",
            "15/15 [==============================] - 1s 69ms/step - loss: 7.7153e-04 - val_loss: 3.2151e-04\n",
            "Epoch 98/100\n",
            "15/15 [==============================] - 1s 68ms/step - loss: 7.2224e-04 - val_loss: 2.8285e-04\n",
            "Epoch 99/100\n",
            "15/15 [==============================] - 1s 68ms/step - loss: 7.0576e-04 - val_loss: 3.8981e-04\n",
            "Epoch 100/100\n",
            "15/15 [==============================] - 1s 71ms/step - loss: 7.5046e-04 - val_loss: 4.6394e-04\n"
          ]
        },
        {
          "output_type": "execute_result",
          "data": {
            "text/plain": [
              "<keras.src.callbacks.History at 0x7ad3c9023bb0>"
            ]
          },
          "metadata": {},
          "execution_count": 83
        }
      ]
    },
    {
      "cell_type": "code",
      "source": [
        "train_predict_cnn = model_cnn_lstm.predict(X_train)\n",
        "test_predict_cnn = model_cnn_lstm.predict(X_test)"
      ],
      "metadata": {
        "colab": {
          "base_uri": "https://localhost:8080/"
        },
        "id": "b3yHoNt0AQCX",
        "outputId": "3f844d57-898c-4aae-a2db-13bdd6bc9e74"
      },
      "execution_count": 165,
      "outputs": [
        {
          "output_type": "stream",
          "name": "stdout",
          "text": [
            "29/29 [==============================] - 0s 14ms/step\n",
            "5/5 [==============================] - 0s 15ms/step\n"
          ]
        }
      ]
    },
    {
      "cell_type": "code",
      "source": [
        "train_predict_cnn = scaler.inverse_transform(train_predict_cnn)\n",
        "test_predict_cnn = scaler.inverse_transform(test_predict_cnn)"
      ],
      "metadata": {
        "id": "Usa_yqx0Ahwv"
      },
      "execution_count": 166,
      "outputs": []
    },
    {
      "cell_type": "code",
      "source": [
        "rmse_train_cnn = np.sqrt(mean_squared_error(y_train, train_predict_cnn))\n",
        "rmse_test_cnn = np.sqrt(mean_squared_error(ytest, test_predict_cnn))"
      ],
      "metadata": {
        "id": "W2vqNGtDAwz2"
      },
      "execution_count": 167,
      "outputs": []
    },
    {
      "cell_type": "code",
      "source": [
        "print(rmse_train_cnn)\n",
        "print(rmse_test_cnn)"
      ],
      "metadata": {
        "colab": {
          "base_uri": "https://localhost:8080/"
        },
        "id": "5f-hz0xbAzmW",
        "outputId": "11a5c9a2-c53c-4c95-ee08-6b765d03a65f"
      },
      "execution_count": 168,
      "outputs": [
        {
          "output_type": "stream",
          "name": "stdout",
          "text": [
            "40.000442368719334\n",
            "39.93382418025153\n"
          ]
        }
      ]
    },
    {
      "cell_type": "code",
      "source": [
        "print(\"LSTM\",rmse_test_lstm)\n",
        "print(\"\\nLSTM + Dense nureal : \",rmse_test_combined)\n",
        "print(\"\\nLSTM + Regularization : \",rmse_test_lstm_drop)\n",
        "print(\"\\nLSTM-CNN Hybride : \",rmse_test_cnn)\n"
      ],
      "metadata": {
        "colab": {
          "base_uri": "https://localhost:8080/"
        },
        "id": "_gzAqHInH_Nr",
        "outputId": "0fffec66-55d7-4477-87ee-ce7e71bf4684"
      },
      "execution_count": 169,
      "outputs": [
        {
          "output_type": "stream",
          "name": "stdout",
          "text": [
            "LSTM 64.5013189261503\n",
            "\n",
            "LSTM + Dense nureal :  39.35552701324161\n",
            "\n",
            "LSTM + Regularization :  39.30781271156046\n",
            "\n",
            "LSTM-CNN Hybride :  39.93382418025153\n"
          ]
        }
      ]
    },
    {
      "cell_type": "code",
      "source": [
        "from tensorflow.keras.layers import GRU\n",
        "\n",
        "model_gru = Sequential()\n",
        "model_gru.add(GRU(50, return_sequences=True, input_shape=(100, 1)))\n",
        "model_gru.add(GRU(50, return_sequences=True))\n",
        "model_gru.add(GRU(50))\n",
        "model_gru.add(Dense(1))\n",
        "model_gru.compile(loss='mean_squared_error', optimizer='adam')"
      ],
      "metadata": {
        "id": "jzJkDO4JMCto"
      },
      "execution_count": 181,
      "outputs": []
    },
    {
      "cell_type": "code",
      "source": [
        "model_gru.fit(X_train,y_train,validation_data=(X_test,ytest),epochs=100,batch_size=64,verbose=1)"
      ],
      "metadata": {
        "colab": {
          "base_uri": "https://localhost:8080/"
        },
        "id": "vzV5iqzlR0fC",
        "outputId": "9fee17d5-20b7-4cc8-cef4-e7bc29cfcb2e"
      },
      "execution_count": 182,
      "outputs": [
        {
          "output_type": "stream",
          "name": "stdout",
          "text": [
            "Epoch 1/100\n",
            "15/15 [==============================] - 11s 261ms/step - loss: 0.0732 - val_loss: 0.0184\n",
            "Epoch 2/100\n",
            "15/15 [==============================] - 3s 202ms/step - loss: 0.0128 - val_loss: 0.0029\n",
            "Epoch 3/100\n",
            "15/15 [==============================] - 3s 200ms/step - loss: 0.0054 - val_loss: 0.0013\n",
            "Epoch 4/100\n",
            "15/15 [==============================] - 2s 167ms/step - loss: 0.0032 - val_loss: 0.0020\n",
            "Epoch 5/100\n",
            "15/15 [==============================] - 2s 165ms/step - loss: 0.0021 - val_loss: 0.0011\n",
            "Epoch 6/100\n",
            "15/15 [==============================] - 2s 161ms/step - loss: 0.0016 - val_loss: 5.2191e-04\n",
            "Epoch 7/100\n",
            "15/15 [==============================] - 3s 236ms/step - loss: 0.0014 - val_loss: 4.8955e-04\n",
            "Epoch 8/100\n",
            "15/15 [==============================] - 2s 159ms/step - loss: 0.0014 - val_loss: 4.8662e-04\n",
            "Epoch 9/100\n",
            "15/15 [==============================] - 2s 162ms/step - loss: 0.0013 - val_loss: 5.8573e-04\n",
            "Epoch 10/100\n",
            "15/15 [==============================] - 2s 161ms/step - loss: 0.0013 - val_loss: 4.8806e-04\n",
            "Epoch 11/100\n",
            "15/15 [==============================] - 2s 159ms/step - loss: 0.0013 - val_loss: 4.4755e-04\n",
            "Epoch 12/100\n",
            "15/15 [==============================] - 4s 244ms/step - loss: 0.0012 - val_loss: 4.9030e-04\n",
            "Epoch 13/100\n",
            "15/15 [==============================] - 3s 167ms/step - loss: 0.0012 - val_loss: 4.1544e-04\n",
            "Epoch 14/100\n",
            "15/15 [==============================] - 2s 164ms/step - loss: 0.0011 - val_loss: 3.9319e-04\n",
            "Epoch 15/100\n",
            "15/15 [==============================] - 3s 168ms/step - loss: 0.0011 - val_loss: 6.6883e-04\n",
            "Epoch 16/100\n",
            "15/15 [==============================] - 3s 178ms/step - loss: 0.0011 - val_loss: 3.8276e-04\n",
            "Epoch 17/100\n",
            "15/15 [==============================] - 3s 218ms/step - loss: 0.0010 - val_loss: 3.6741e-04\n",
            "Epoch 18/100\n",
            "15/15 [==============================] - 2s 158ms/step - loss: 0.0010 - val_loss: 3.6967e-04\n",
            "Epoch 19/100\n",
            "15/15 [==============================] - 3s 190ms/step - loss: 9.8359e-04 - val_loss: 3.5321e-04\n",
            "Epoch 20/100\n",
            "15/15 [==============================] - 3s 168ms/step - loss: 9.4721e-04 - val_loss: 3.5927e-04\n",
            "Epoch 21/100\n",
            "15/15 [==============================] - 4s 241ms/step - loss: 9.2839e-04 - val_loss: 3.9610e-04\n",
            "Epoch 22/100\n",
            "15/15 [==============================] - 2s 160ms/step - loss: 9.2167e-04 - val_loss: 3.7083e-04\n",
            "Epoch 23/100\n",
            "15/15 [==============================] - 2s 163ms/step - loss: 9.1785e-04 - val_loss: 3.2675e-04\n",
            "Epoch 24/100\n",
            "15/15 [==============================] - 2s 163ms/step - loss: 9.2000e-04 - val_loss: 3.7626e-04\n",
            "Epoch 25/100\n",
            "15/15 [==============================] - 2s 163ms/step - loss: 8.8130e-04 - val_loss: 3.1765e-04\n",
            "Epoch 26/100\n",
            "15/15 [==============================] - 4s 243ms/step - loss: 8.6194e-04 - val_loss: 3.1587e-04\n",
            "Epoch 27/100\n",
            "15/15 [==============================] - 2s 163ms/step - loss: 9.0741e-04 - val_loss: 3.7543e-04\n",
            "Epoch 28/100\n",
            "15/15 [==============================] - 2s 162ms/step - loss: 8.3742e-04 - val_loss: 3.2114e-04\n",
            "Epoch 29/100\n",
            "15/15 [==============================] - 2s 164ms/step - loss: 8.1104e-04 - val_loss: 3.8066e-04\n",
            "Epoch 30/100\n",
            "15/15 [==============================] - 3s 202ms/step - loss: 7.9884e-04 - val_loss: 3.7156e-04\n",
            "Epoch 31/100\n",
            "15/15 [==============================] - 3s 198ms/step - loss: 7.9889e-04 - val_loss: 3.5898e-04\n",
            "Epoch 32/100\n",
            "15/15 [==============================] - 2s 160ms/step - loss: 8.0466e-04 - val_loss: 3.0255e-04\n",
            "Epoch 33/100\n",
            "15/15 [==============================] - 2s 164ms/step - loss: 7.6878e-04 - val_loss: 2.8744e-04\n",
            "Epoch 34/100\n",
            "15/15 [==============================] - 2s 160ms/step - loss: 7.4047e-04 - val_loss: 2.8216e-04\n",
            "Epoch 35/100\n",
            "15/15 [==============================] - 3s 232ms/step - loss: 7.4880e-04 - val_loss: 3.0119e-04\n",
            "Epoch 36/100\n",
            "15/15 [==============================] - 3s 164ms/step - loss: 7.2496e-04 - val_loss: 3.6303e-04\n",
            "Epoch 37/100\n",
            "15/15 [==============================] - 2s 161ms/step - loss: 7.6458e-04 - val_loss: 4.4541e-04\n",
            "Epoch 38/100\n",
            "15/15 [==============================] - 2s 161ms/step - loss: 7.5488e-04 - val_loss: 2.7195e-04\n",
            "Epoch 39/100\n",
            "15/15 [==============================] - 2s 162ms/step - loss: 7.0545e-04 - val_loss: 2.8729e-04\n",
            "Epoch 40/100\n",
            "15/15 [==============================] - 4s 241ms/step - loss: 6.9702e-04 - val_loss: 2.6713e-04\n",
            "Epoch 41/100\n",
            "15/15 [==============================] - 2s 163ms/step - loss: 6.9853e-04 - val_loss: 3.0237e-04\n",
            "Epoch 42/100\n",
            "15/15 [==============================] - 2s 161ms/step - loss: 6.7788e-04 - val_loss: 2.6314e-04\n",
            "Epoch 43/100\n",
            "15/15 [==============================] - 2s 166ms/step - loss: 6.7035e-04 - val_loss: 3.4094e-04\n",
            "Epoch 44/100\n",
            "15/15 [==============================] - 2s 164ms/step - loss: 6.9790e-04 - val_loss: 2.5886e-04\n",
            "Epoch 45/100\n",
            "15/15 [==============================] - 4s 234ms/step - loss: 6.5795e-04 - val_loss: 2.7296e-04\n",
            "Epoch 46/100\n",
            "15/15 [==============================] - 2s 161ms/step - loss: 6.5773e-04 - val_loss: 3.2214e-04\n",
            "Epoch 47/100\n",
            "15/15 [==============================] - 2s 164ms/step - loss: 7.1050e-04 - val_loss: 3.0672e-04\n",
            "Epoch 48/100\n",
            "15/15 [==============================] - 3s 176ms/step - loss: 7.4628e-04 - val_loss: 3.1429e-04\n",
            "Epoch 49/100\n",
            "15/15 [==============================] - 3s 222ms/step - loss: 6.5691e-04 - val_loss: 2.5855e-04\n",
            "Epoch 50/100\n",
            "15/15 [==============================] - 3s 177ms/step - loss: 6.4847e-04 - val_loss: 3.5029e-04\n",
            "Epoch 51/100\n",
            "15/15 [==============================] - 2s 161ms/step - loss: 7.0053e-04 - val_loss: 2.4979e-04\n",
            "Epoch 52/100\n",
            "15/15 [==============================] - 2s 165ms/step - loss: 6.9296e-04 - val_loss: 4.8758e-04\n",
            "Epoch 53/100\n",
            "15/15 [==============================] - 3s 171ms/step - loss: 7.0768e-04 - val_loss: 7.6942e-04\n",
            "Epoch 54/100\n",
            "15/15 [==============================] - 4s 239ms/step - loss: 8.5212e-04 - val_loss: 2.8293e-04\n",
            "Epoch 55/100\n",
            "15/15 [==============================] - 2s 164ms/step - loss: 6.5383e-04 - val_loss: 3.0502e-04\n",
            "Epoch 56/100\n",
            "15/15 [==============================] - 2s 165ms/step - loss: 6.2812e-04 - val_loss: 3.0238e-04\n",
            "Epoch 57/100\n",
            "15/15 [==============================] - 3s 168ms/step - loss: 6.2650e-04 - val_loss: 2.4063e-04\n",
            "Epoch 58/100\n",
            "15/15 [==============================] - 3s 177ms/step - loss: 6.2173e-04 - val_loss: 4.2443e-04\n",
            "Epoch 59/100\n",
            "15/15 [==============================] - 3s 221ms/step - loss: 7.1149e-04 - val_loss: 4.5709e-04\n",
            "Epoch 60/100\n",
            "15/15 [==============================] - 2s 166ms/step - loss: 6.3585e-04 - val_loss: 2.4087e-04\n",
            "Epoch 61/100\n",
            "15/15 [==============================] - 2s 162ms/step - loss: 6.1244e-04 - val_loss: 2.6310e-04\n",
            "Epoch 62/100\n",
            "15/15 [==============================] - 2s 162ms/step - loss: 6.2177e-04 - val_loss: 2.4396e-04\n",
            "Epoch 63/100\n",
            "15/15 [==============================] - 3s 217ms/step - loss: 6.0691e-04 - val_loss: 2.3720e-04\n",
            "Epoch 64/100\n",
            "15/15 [==============================] - 3s 182ms/step - loss: 5.9866e-04 - val_loss: 2.3536e-04\n",
            "Epoch 65/100\n",
            "15/15 [==============================] - 2s 162ms/step - loss: 6.0092e-04 - val_loss: 2.3772e-04\n",
            "Epoch 66/100\n",
            "15/15 [==============================] - 2s 164ms/step - loss: 5.9922e-04 - val_loss: 2.8969e-04\n",
            "Epoch 67/100\n",
            "15/15 [==============================] - 2s 162ms/step - loss: 6.4063e-04 - val_loss: 4.1458e-04\n",
            "Epoch 68/100\n",
            "15/15 [==============================] - 4s 241ms/step - loss: 6.4333e-04 - val_loss: 2.5826e-04\n",
            "Epoch 69/100\n",
            "15/15 [==============================] - 2s 161ms/step - loss: 5.9422e-04 - val_loss: 2.4739e-04\n",
            "Epoch 70/100\n",
            "15/15 [==============================] - 2s 162ms/step - loss: 6.3186e-04 - val_loss: 7.7012e-04\n",
            "Epoch 71/100\n",
            "15/15 [==============================] - 2s 163ms/step - loss: 7.3728e-04 - val_loss: 9.2564e-04\n",
            "Epoch 72/100\n",
            "15/15 [==============================] - 2s 163ms/step - loss: 8.7382e-04 - val_loss: 6.9980e-04\n",
            "Epoch 73/100\n",
            "15/15 [==============================] - 4s 241ms/step - loss: 7.5310e-04 - val_loss: 2.4026e-04\n",
            "Epoch 74/100\n",
            "15/15 [==============================] - 3s 172ms/step - loss: 6.3168e-04 - val_loss: 2.3905e-04\n",
            "Epoch 75/100\n",
            "15/15 [==============================] - 2s 165ms/step - loss: 5.8089e-04 - val_loss: 2.5810e-04\n",
            "Epoch 76/100\n",
            "15/15 [==============================] - 3s 171ms/step - loss: 5.9249e-04 - val_loss: 2.6986e-04\n",
            "Epoch 77/100\n",
            "15/15 [==============================] - 3s 195ms/step - loss: 6.1909e-04 - val_loss: 2.9996e-04\n",
            "Epoch 78/100\n",
            "15/15 [==============================] - 3s 201ms/step - loss: 5.9923e-04 - val_loss: 2.3638e-04\n",
            "Epoch 79/100\n",
            "15/15 [==============================] - 2s 161ms/step - loss: 6.3860e-04 - val_loss: 2.3811e-04\n",
            "Epoch 80/100\n",
            "15/15 [==============================] - 2s 163ms/step - loss: 5.9198e-04 - val_loss: 3.2804e-04\n",
            "Epoch 81/100\n",
            "15/15 [==============================] - 2s 166ms/step - loss: 5.9115e-04 - val_loss: 3.9954e-04\n",
            "Epoch 82/100\n",
            "15/15 [==============================] - 3s 238ms/step - loss: 6.6547e-04 - val_loss: 3.4017e-04\n",
            "Epoch 83/100\n",
            "15/15 [==============================] - 3s 168ms/step - loss: 6.2379e-04 - val_loss: 2.5334e-04\n",
            "Epoch 84/100\n",
            "15/15 [==============================] - 2s 162ms/step - loss: 6.4745e-04 - val_loss: 2.6426e-04\n",
            "Epoch 85/100\n",
            "15/15 [==============================] - 2s 160ms/step - loss: 6.1524e-04 - val_loss: 2.2901e-04\n",
            "Epoch 86/100\n",
            "15/15 [==============================] - 3s 180ms/step - loss: 5.9245e-04 - val_loss: 2.4126e-04\n",
            "Epoch 87/100\n",
            "15/15 [==============================] - 4s 243ms/step - loss: 6.1947e-04 - val_loss: 2.5284e-04\n",
            "Epoch 88/100\n",
            "15/15 [==============================] - 2s 165ms/step - loss: 7.0937e-04 - val_loss: 6.6646e-04\n",
            "Epoch 89/100\n",
            "15/15 [==============================] - 2s 161ms/step - loss: 7.2560e-04 - val_loss: 4.4257e-04\n",
            "Epoch 90/100\n",
            "15/15 [==============================] - 3s 168ms/step - loss: 6.2970e-04 - val_loss: 3.4319e-04\n",
            "Epoch 91/100\n",
            "15/15 [==============================] - 3s 185ms/step - loss: 6.0621e-04 - val_loss: 3.7991e-04\n",
            "Epoch 92/100\n",
            "15/15 [==============================] - 3s 210ms/step - loss: 6.3482e-04 - val_loss: 2.9272e-04\n",
            "Epoch 93/100\n",
            "15/15 [==============================] - 2s 162ms/step - loss: 6.3163e-04 - val_loss: 2.4734e-04\n",
            "Epoch 94/100\n",
            "15/15 [==============================] - 3s 171ms/step - loss: 6.1479e-04 - val_loss: 2.3731e-04\n",
            "Epoch 95/100\n",
            "15/15 [==============================] - 2s 164ms/step - loss: 6.3491e-04 - val_loss: 3.7488e-04\n",
            "Epoch 96/100\n",
            "15/15 [==============================] - 3s 229ms/step - loss: 6.6135e-04 - val_loss: 3.1260e-04\n",
            "Epoch 97/100\n",
            "15/15 [==============================] - 3s 172ms/step - loss: 6.7147e-04 - val_loss: 2.3948e-04\n",
            "Epoch 98/100\n",
            "15/15 [==============================] - 2s 162ms/step - loss: 6.1656e-04 - val_loss: 2.9496e-04\n",
            "Epoch 99/100\n",
            "15/15 [==============================] - 2s 161ms/step - loss: 6.1440e-04 - val_loss: 3.8638e-04\n",
            "Epoch 100/100\n",
            "15/15 [==============================] - 2s 165ms/step - loss: 6.4977e-04 - val_loss: 7.2289e-04\n"
          ]
        },
        {
          "output_type": "execute_result",
          "data": {
            "text/plain": [
              "<keras.src.callbacks.History at 0x7ad3b8428160>"
            ]
          },
          "metadata": {},
          "execution_count": 182
        }
      ]
    },
    {
      "cell_type": "code",
      "source": [
        "train_predict_gru = model_gru.predict(X_train)\n",
        "test_predict_gru = model_gru.predict(X_test)"
      ],
      "metadata": {
        "colab": {
          "base_uri": "https://localhost:8080/"
        },
        "id": "zEYj4K7mR7k_",
        "outputId": "e20141cd-0be2-4998-e3b0-6491d9c3c0e0"
      },
      "execution_count": 183,
      "outputs": [
        {
          "output_type": "stream",
          "name": "stdout",
          "text": [
            "29/29 [==============================] - 2s 30ms/step\n",
            "5/5 [==============================] - 0s 30ms/step\n"
          ]
        }
      ]
    },
    {
      "cell_type": "code",
      "source": [
        "rmse_train_gru = np.sqrt(mean_squared_error(y_train, train_predict_gru))\n",
        "rmse_test_gru = np.sqrt(mean_squared_error(ytest, test_predict_gru))"
      ],
      "metadata": {
        "id": "jI97HOPdSnmc"
      },
      "execution_count": 184,
      "outputs": []
    },
    {
      "cell_type": "code",
      "source": [
        "print(rmse_train_gru)\n",
        "print(rmse_test_gru)"
      ],
      "metadata": {
        "colab": {
          "base_uri": "https://localhost:8080/"
        },
        "id": "DRDtnCFHSp-w",
        "outputId": "42905ef1-de58-470e-a0d3-50ca3cb27801"
      },
      "execution_count": 185,
      "outputs": [
        {
          "output_type": "stream",
          "name": "stdout",
          "text": [
            "0.030276899444097113\n",
            "0.026886604778902017\n"
          ]
        }
      ]
    },
    {
      "cell_type": "code",
      "source": [
        "model_lstm_gru = Sequential()\n",
        "model_lstm_gru.add(LSTM(50, return_sequences=True, input_shape=(100, 1)))\n",
        "model_lstm_gru.add(LSTM(50, return_sequences=True))\n",
        "model_lstm_gru.add(GRU(50, return_sequences=True))  # Adding a GRU layer\n",
        "model_lstm_gru.add(GRU(50))\n",
        "model_lstm_gru.add(Dense(1))\n",
        "model_lstm_gru.compile(loss='mean_squared_error', optimizer='adam')"
      ],
      "metadata": {
        "id": "bTmWiQJMTDxU"
      },
      "execution_count": 186,
      "outputs": []
    },
    {
      "cell_type": "code",
      "source": [
        "model_lstm_gru.fit(X_train,y_train,validation_data=(X_test,ytest),epochs=100,batch_size=64,verbose=1)"
      ],
      "metadata": {
        "colab": {
          "base_uri": "https://localhost:8080/"
        },
        "id": "AgNbJrmuTIll",
        "outputId": "17a8989a-5080-4a31-fd2a-140253962c79"
      },
      "execution_count": 187,
      "outputs": [
        {
          "output_type": "stream",
          "name": "stdout",
          "text": [
            "Epoch 1/100\n",
            "15/15 [==============================] - 13s 412ms/step - loss: 0.1054 - val_loss: 0.0406\n",
            "Epoch 2/100\n",
            "15/15 [==============================] - 3s 216ms/step - loss: 0.0182 - val_loss: 0.0035\n",
            "Epoch 3/100\n",
            "15/15 [==============================] - 3s 213ms/step - loss: 0.0088 - val_loss: 0.0016\n",
            "Epoch 4/100\n",
            "15/15 [==============================] - 4s 298ms/step - loss: 0.0055 - val_loss: 0.0013\n",
            "Epoch 5/100\n",
            "15/15 [==============================] - 4s 245ms/step - loss: 0.0038 - val_loss: 0.0018\n",
            "Epoch 6/100\n",
            "15/15 [==============================] - 3s 220ms/step - loss: 0.0036 - val_loss: 0.0015\n",
            "Epoch 7/100\n",
            "15/15 [==============================] - 4s 247ms/step - loss: 0.0035 - val_loss: 0.0011\n",
            "Epoch 8/100\n",
            "15/15 [==============================] - 4s 267ms/step - loss: 0.0034 - val_loss: 0.0016\n",
            "Epoch 9/100\n",
            "15/15 [==============================] - 3s 214ms/step - loss: 0.0032 - val_loss: 0.0017\n",
            "Epoch 10/100\n",
            "15/15 [==============================] - 3s 213ms/step - loss: 0.0031 - val_loss: 0.0011\n",
            "Epoch 11/100\n",
            "15/15 [==============================] - 4s 292ms/step - loss: 0.0031 - val_loss: 0.0017\n",
            "Epoch 12/100\n",
            "15/15 [==============================] - 3s 217ms/step - loss: 0.0030 - val_loss: 0.0016\n",
            "Epoch 13/100\n",
            "15/15 [==============================] - 3s 216ms/step - loss: 0.0032 - val_loss: 0.0015\n",
            "Epoch 14/100\n",
            "15/15 [==============================] - 3s 229ms/step - loss: 0.0027 - val_loss: 8.5878e-04\n",
            "Epoch 15/100\n",
            "15/15 [==============================] - 5s 319ms/step - loss: 0.0025 - val_loss: 8.0383e-04\n",
            "Epoch 16/100\n",
            "15/15 [==============================] - 3s 212ms/step - loss: 0.0025 - val_loss: 0.0015\n",
            "Epoch 17/100\n",
            "15/15 [==============================] - 4s 274ms/step - loss: 0.0025 - val_loss: 7.3575e-04\n",
            "Epoch 18/100\n",
            "15/15 [==============================] - 4s 286ms/step - loss: 0.0022 - val_loss: 7.6939e-04\n",
            "Epoch 19/100\n",
            "15/15 [==============================] - 3s 214ms/step - loss: 0.0022 - val_loss: 7.6937e-04\n",
            "Epoch 20/100\n",
            "15/15 [==============================] - 3s 212ms/step - loss: 0.0021 - val_loss: 8.5965e-04\n",
            "Epoch 21/100\n",
            "15/15 [==============================] - 4s 288ms/step - loss: 0.0020 - val_loss: 0.0031\n",
            "Epoch 22/100\n",
            "15/15 [==============================] - 3s 219ms/step - loss: 0.0022 - val_loss: 7.1429e-04\n",
            "Epoch 23/100\n",
            "15/15 [==============================] - 3s 221ms/step - loss: 0.0019 - val_loss: 7.7603e-04\n",
            "Epoch 24/100\n",
            "15/15 [==============================] - 3s 214ms/step - loss: 0.0019 - val_loss: 0.0013\n",
            "Epoch 25/100\n",
            "15/15 [==============================] - 4s 292ms/step - loss: 0.0019 - val_loss: 6.7288e-04\n",
            "Epoch 26/100\n",
            "15/15 [==============================] - 3s 213ms/step - loss: 0.0020 - val_loss: 7.3362e-04\n",
            "Epoch 27/100\n",
            "15/15 [==============================] - 3s 216ms/step - loss: 0.0019 - val_loss: 5.5432e-04\n",
            "Epoch 28/100\n",
            "15/15 [==============================] - 4s 268ms/step - loss: 0.0016 - val_loss: 5.0833e-04\n",
            "Epoch 29/100\n",
            "15/15 [==============================] - 4s 231ms/step - loss: 0.0016 - val_loss: 8.9883e-04\n",
            "Epoch 30/100\n",
            "15/15 [==============================] - 3s 212ms/step - loss: 0.0020 - val_loss: 5.7871e-04\n",
            "Epoch 31/100\n",
            "15/15 [==============================] - 3s 215ms/step - loss: 0.0018 - val_loss: 5.0206e-04\n",
            "Epoch 32/100\n",
            "15/15 [==============================] - 4s 298ms/step - loss: 0.0016 - val_loss: 0.0010\n",
            "Epoch 33/100\n",
            "15/15 [==============================] - 3s 233ms/step - loss: 0.0015 - val_loss: 4.6753e-04\n",
            "Epoch 34/100\n",
            "15/15 [==============================] - 3s 215ms/step - loss: 0.0015 - val_loss: 5.2787e-04\n",
            "Epoch 35/100\n",
            "15/15 [==============================] - 4s 262ms/step - loss: 0.0015 - val_loss: 0.0020\n",
            "Epoch 36/100\n",
            "15/15 [==============================] - 4s 238ms/step - loss: 0.0017 - val_loss: 6.5277e-04\n",
            "Epoch 37/100\n",
            "15/15 [==============================] - 3s 213ms/step - loss: 0.0016 - val_loss: 0.0010\n",
            "Epoch 38/100\n",
            "15/15 [==============================] - 3s 215ms/step - loss: 0.0015 - val_loss: 0.0012\n",
            "Epoch 39/100\n",
            "15/15 [==============================] - 4s 293ms/step - loss: 0.0016 - val_loss: 4.3322e-04\n",
            "Epoch 40/100\n",
            "15/15 [==============================] - 3s 218ms/step - loss: 0.0014 - val_loss: 5.0354e-04\n",
            "Epoch 41/100\n",
            "15/15 [==============================] - 3s 219ms/step - loss: 0.0013 - val_loss: 6.1552e-04\n",
            "Epoch 42/100\n",
            "15/15 [==============================] - 4s 240ms/step - loss: 0.0013 - val_loss: 6.3696e-04\n",
            "Epoch 43/100\n",
            "15/15 [==============================] - 4s 259ms/step - loss: 0.0012 - val_loss: 7.1735e-04\n",
            "Epoch 44/100\n",
            "15/15 [==============================] - 3s 218ms/step - loss: 0.0013 - val_loss: 0.0017\n",
            "Epoch 45/100\n",
            "15/15 [==============================] - 3s 220ms/step - loss: 0.0016 - val_loss: 6.1864e-04\n",
            "Epoch 46/100\n",
            "15/15 [==============================] - 4s 295ms/step - loss: 0.0015 - val_loss: 6.1605e-04\n",
            "Epoch 47/100\n",
            "15/15 [==============================] - 3s 218ms/step - loss: 0.0011 - val_loss: 4.1629e-04\n",
            "Epoch 48/100\n",
            "15/15 [==============================] - 3s 215ms/step - loss: 0.0011 - val_loss: 6.9942e-04\n",
            "Epoch 49/100\n",
            "15/15 [==============================] - 3s 230ms/step - loss: 0.0012 - val_loss: 7.3415e-04\n",
            "Epoch 50/100\n",
            "15/15 [==============================] - 4s 277ms/step - loss: 0.0014 - val_loss: 5.1546e-04\n",
            "Epoch 51/100\n",
            "15/15 [==============================] - 3s 215ms/step - loss: 0.0013 - val_loss: 4.5655e-04\n",
            "Epoch 52/100\n",
            "15/15 [==============================] - 3s 215ms/step - loss: 0.0011 - val_loss: 6.2046e-04\n",
            "Epoch 53/100\n",
            "15/15 [==============================] - 4s 296ms/step - loss: 0.0010 - val_loss: 6.2109e-04\n",
            "Epoch 54/100\n",
            "15/15 [==============================] - 3s 216ms/step - loss: 0.0011 - val_loss: 5.4097e-04\n",
            "Epoch 55/100\n",
            "15/15 [==============================] - 3s 223ms/step - loss: 0.0011 - val_loss: 3.7722e-04\n",
            "Epoch 56/100\n",
            "15/15 [==============================] - 3s 215ms/step - loss: 0.0011 - val_loss: 4.5047e-04\n",
            "Epoch 57/100\n",
            "15/15 [==============================] - 4s 292ms/step - loss: 0.0010 - val_loss: 3.8472e-04\n",
            "Epoch 58/100\n",
            "15/15 [==============================] - 3s 213ms/step - loss: 0.0010 - val_loss: 4.1300e-04\n",
            "Epoch 59/100\n",
            "15/15 [==============================] - 3s 211ms/step - loss: 0.0012 - val_loss: 3.6739e-04\n",
            "Epoch 60/100\n",
            "15/15 [==============================] - 4s 276ms/step - loss: 9.6677e-04 - val_loss: 6.0123e-04\n",
            "Epoch 61/100\n",
            "15/15 [==============================] - 4s 223ms/step - loss: 0.0010 - val_loss: 4.1226e-04\n",
            "Epoch 62/100\n",
            "15/15 [==============================] - 3s 218ms/step - loss: 0.0010 - val_loss: 3.4966e-04\n",
            "Epoch 63/100\n",
            "15/15 [==============================] - 3s 217ms/step - loss: 8.6226e-04 - val_loss: 4.1204e-04\n",
            "Epoch 64/100\n",
            "15/15 [==============================] - 4s 303ms/step - loss: 8.5283e-04 - val_loss: 4.5434e-04\n",
            "Epoch 65/100\n",
            "15/15 [==============================] - 3s 220ms/step - loss: 9.2181e-04 - val_loss: 3.6599e-04\n",
            "Epoch 66/100\n",
            "15/15 [==============================] - 3s 214ms/step - loss: 8.5324e-04 - val_loss: 6.7850e-04\n",
            "Epoch 67/100\n",
            "15/15 [==============================] - 4s 263ms/step - loss: 8.8870e-04 - val_loss: 4.0941e-04\n",
            "Epoch 68/100\n",
            "15/15 [==============================] - 4s 239ms/step - loss: 8.6979e-04 - val_loss: 4.4516e-04\n",
            "Epoch 69/100\n",
            "15/15 [==============================] - 3s 216ms/step - loss: 9.1902e-04 - val_loss: 3.5478e-04\n",
            "Epoch 70/100\n",
            "15/15 [==============================] - 3s 225ms/step - loss: 9.4720e-04 - val_loss: 4.8805e-04\n",
            "Epoch 71/100\n",
            "15/15 [==============================] - 4s 295ms/step - loss: 9.3269e-04 - val_loss: 5.0411e-04\n",
            "Epoch 72/100\n",
            "15/15 [==============================] - 3s 217ms/step - loss: 8.0466e-04 - val_loss: 4.8245e-04\n",
            "Epoch 73/100\n",
            "15/15 [==============================] - 3s 213ms/step - loss: 9.9700e-04 - val_loss: 3.3624e-04\n",
            "Epoch 74/100\n",
            "15/15 [==============================] - 4s 245ms/step - loss: 8.2624e-04 - val_loss: 3.0632e-04\n",
            "Epoch 75/100\n",
            "15/15 [==============================] - 4s 261ms/step - loss: 7.8179e-04 - val_loss: 3.5593e-04\n",
            "Epoch 76/100\n",
            "15/15 [==============================] - 3s 211ms/step - loss: 8.6066e-04 - val_loss: 3.0705e-04\n",
            "Epoch 77/100\n",
            "15/15 [==============================] - 3s 215ms/step - loss: 7.3736e-04 - val_loss: 3.4151e-04\n",
            "Epoch 78/100\n",
            "15/15 [==============================] - 4s 290ms/step - loss: 7.5142e-04 - val_loss: 3.9595e-04\n",
            "Epoch 79/100\n",
            "15/15 [==============================] - 3s 229ms/step - loss: 7.5674e-04 - val_loss: 3.8150e-04\n",
            "Epoch 80/100\n",
            "15/15 [==============================] - 3s 217ms/step - loss: 7.1810e-04 - val_loss: 2.8925e-04\n",
            "Epoch 81/100\n",
            "15/15 [==============================] - 3s 229ms/step - loss: 8.5167e-04 - val_loss: 0.0015\n",
            "Epoch 82/100\n",
            "15/15 [==============================] - 4s 273ms/step - loss: 8.6611e-04 - val_loss: 9.3080e-04\n",
            "Epoch 83/100\n",
            "15/15 [==============================] - 3s 215ms/step - loss: 0.0011 - val_loss: 9.6327e-04\n",
            "Epoch 84/100\n",
            "15/15 [==============================] - 3s 218ms/step - loss: 0.0011 - val_loss: 2.9259e-04\n",
            "Epoch 85/100\n",
            "15/15 [==============================] - 4s 290ms/step - loss: 7.0432e-04 - val_loss: 4.4758e-04\n",
            "Epoch 86/100\n",
            "15/15 [==============================] - 3s 218ms/step - loss: 8.2577e-04 - val_loss: 0.0010\n",
            "Epoch 87/100\n",
            "15/15 [==============================] - 3s 223ms/step - loss: 9.7351e-04 - val_loss: 0.0028\n",
            "Epoch 88/100\n",
            "15/15 [==============================] - 3s 225ms/step - loss: 0.0013 - val_loss: 0.0018\n",
            "Epoch 89/100\n",
            "15/15 [==============================] - 4s 285ms/step - loss: 0.0011 - val_loss: 9.5799e-04\n",
            "Epoch 90/100\n",
            "15/15 [==============================] - 3s 215ms/step - loss: 7.5012e-04 - val_loss: 2.6760e-04\n",
            "Epoch 91/100\n",
            "15/15 [==============================] - 3s 226ms/step - loss: 6.8957e-04 - val_loss: 4.2563e-04\n",
            "Epoch 92/100\n",
            "15/15 [==============================] - 4s 294ms/step - loss: 8.3090e-04 - val_loss: 3.7013e-04\n",
            "Epoch 93/100\n",
            "15/15 [==============================] - 3s 213ms/step - loss: 7.7149e-04 - val_loss: 6.3626e-04\n",
            "Epoch 94/100\n",
            "15/15 [==============================] - 3s 212ms/step - loss: 8.0411e-04 - val_loss: 5.4418e-04\n",
            "Epoch 95/100\n",
            "15/15 [==============================] - 3s 216ms/step - loss: 7.6662e-04 - val_loss: 0.0011\n",
            "Epoch 96/100\n",
            "15/15 [==============================] - 5s 317ms/step - loss: 9.0869e-04 - val_loss: 3.9778e-04\n",
            "Epoch 97/100\n",
            "15/15 [==============================] - 3s 215ms/step - loss: 7.1939e-04 - val_loss: 3.0891e-04\n",
            "Epoch 98/100\n",
            "15/15 [==============================] - 3s 216ms/step - loss: 7.1666e-04 - val_loss: 5.0735e-04\n",
            "Epoch 99/100\n",
            "15/15 [==============================] - 4s 304ms/step - loss: 8.0051e-04 - val_loss: 2.9469e-04\n",
            "Epoch 100/100\n",
            "15/15 [==============================] - 3s 214ms/step - loss: 7.3268e-04 - val_loss: 2.9887e-04\n"
          ]
        },
        {
          "output_type": "execute_result",
          "data": {
            "text/plain": [
              "<keras.src.callbacks.History at 0x7ad3b6fbc970>"
            ]
          },
          "metadata": {},
          "execution_count": 187
        }
      ]
    },
    {
      "cell_type": "code",
      "source": [
        "train_predict_lstm_gru = model_lstm_gru.predict(X_train)\n",
        "test_predict_lstm_gru = model_lstm_gru.predict(X_test)"
      ],
      "metadata": {
        "colab": {
          "base_uri": "https://localhost:8080/"
        },
        "id": "ENOkp-JeTLyQ",
        "outputId": "3451c237-65fb-4dcc-a1d0-af2977f14154"
      },
      "execution_count": 188,
      "outputs": [
        {
          "output_type": "stream",
          "name": "stdout",
          "text": [
            "29/29 [==============================] - 3s 42ms/step\n",
            "5/5 [==============================] - 0s 41ms/step\n"
          ]
        }
      ]
    },
    {
      "cell_type": "code",
      "source": [
        "rmse_train_lstm_gru = np.sqrt(mean_squared_error(y_train, train_predict_lstm_gru))\n",
        "rmse_test_lstm_gru = np.sqrt(mean_squared_error(ytest, test_predict_lstm_gru))"
      ],
      "metadata": {
        "id": "V9OvfyKoTNLP"
      },
      "execution_count": 189,
      "outputs": []
    },
    {
      "cell_type": "code",
      "source": [
        "print(rmse_train_lstm_gru)\n",
        "print(rmse_test_lstm_gru)"
      ],
      "metadata": {
        "colab": {
          "base_uri": "https://localhost:8080/"
        },
        "id": "azf27pFYTPSw",
        "outputId": "431ab8c1-9b3e-4cef-f4ae-f4540e930e25"
      },
      "execution_count": 190,
      "outputs": [
        {
          "output_type": "stream",
          "name": "stdout",
          "text": [
            "0.026259977646700447\n",
            "0.017287859211553253\n"
          ]
        }
      ]
    },
    {
      "cell_type": "code",
      "source": [
        "print(\"LSTM : \",rmse_test_lstm)\n",
        "print(\"\\nLSTM + Dense nureal : \",rmse_test_combined)\n",
        "print(\"\\nLSTM + Regularization : \",rmse_test_lstm_drop)\n",
        "print(\"\\nLSTM-CNN Hybride : \",rmse_test_cnn)\n",
        "print(\"\\nGRU : \",rmse_test_gru)\n",
        "print(\"\\nLSTM + GRU : \",rmse_test_lstm_gru)"
      ],
      "metadata": {
        "colab": {
          "base_uri": "https://localhost:8080/"
        },
        "id": "HyqgqMhHXCda",
        "outputId": "5beaa383-b7cf-403d-f733-872f8de1219b"
      },
      "execution_count": 191,
      "outputs": [
        {
          "output_type": "stream",
          "name": "stdout",
          "text": [
            "LSTM :  64.5013189261503\n",
            "\n",
            "LSTM + Dense nureal :  39.35552701324161\n",
            "\n",
            "LSTM + Regularization :  39.30781271156046\n",
            "\n",
            "LSTM-CNN Hybride :  39.93382418025153\n",
            "\n",
            "GRU :  0.026886604778902017\n",
            "\n",
            "LSTM + GRU :  0.017287859211553253\n"
          ]
        }
      ]
    },
    {
      "cell_type": "code",
      "source": [],
      "metadata": {
        "id": "9NaR-mYbcIIO"
      },
      "execution_count": null,
      "outputs": []
    }
  ]
}